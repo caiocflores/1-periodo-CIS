{
  "nbformat": 4,
  "nbformat_minor": 0,
  "metadata": {
    "colab": {
      "name": "1º Período - Caio Flôres.ipynb",
      "provenance": [],
      "collapsed_sections": [
        "N_EthMG5bVd6",
        "vRY8UcY4MK8U",
        "Som-UKZNOq1M",
        "XkM6R0vmTb-G"
      ]
    },
    "kernelspec": {
      "name": "python3",
      "display_name": "Python 3"
    },
    "language_info": {
      "name": "python"
    }
  },
  "cells": [
    {
      "cell_type": "markdown",
      "source": [
        "# 1º Período ✅"
      ],
      "metadata": {
        "id": "N_EthMG5bVd6"
      }
    },
    {
      "cell_type": "markdown",
      "source": [
        "# Introdução"
      ],
      "metadata": {
        "id": "vRY8UcY4MK8U"
      }
    },
    {
      "cell_type": "code",
      "execution_count": 76,
      "metadata": {
        "id": "iz9BLmm8MWuF"
      },
      "outputs": [],
      "source": [
        "import pandas as pd\n",
        "import numpy as np\n",
        "import matplotlib.pyplot as plt\n",
        "import seaborn as sns "
      ]
    },
    {
      "cell_type": "code",
      "source": [
        "datum1 = \"/content/heart.csv\"  # lendo um arquivo csv\n",
        "df1 = pd.read_csv(datum1) # data frame com dados originais\n",
        "df1_norm = pd.read_csv(datum1) # data frame com dados convenientes normalizados"
      ],
      "metadata": {
        "id": "Jjxp9G2JMXWw"
      },
      "execution_count": 77,
      "outputs": []
    },
    {
      "cell_type": "markdown",
      "source": [
        "idade / sexo / tipo_dor_peito / pressao_sanguinea_repouso / colest_serico / acucar_sangue_jejum / eletrocard_rep / freqcard_max / angina_exerc / old_peak / inclinacao_ST_pico / alvo "
      ],
      "metadata": {
        "id": "wsqHDD4fPICQ"
      }
    },
    {
      "cell_type": "code",
      "source": [
        "df1 = df1.rename_axis('Person', axis=1) # nomeando a coluna de índices\n",
        "df1.head(5) # examinando as 5 primeiras linhas do dataset"
      ],
      "metadata": {
        "colab": {
          "base_uri": "https://localhost:8080/",
          "height": 206
        },
        "id": "yv1aC6S1MaSX",
        "outputId": "440e0e3d-95c2-4440-ecf4-a843d6894e8b"
      },
      "execution_count": 78,
      "outputs": [
        {
          "output_type": "execute_result",
          "data": {
            "text/html": [
              "\n",
              "  <div id=\"df-3dd7f333-501f-47fd-b554-63db3bd5dc14\">\n",
              "    <div class=\"colab-df-container\">\n",
              "      <div>\n",
              "<style scoped>\n",
              "    .dataframe tbody tr th:only-of-type {\n",
              "        vertical-align: middle;\n",
              "    }\n",
              "\n",
              "    .dataframe tbody tr th {\n",
              "        vertical-align: top;\n",
              "    }\n",
              "\n",
              "    .dataframe thead th {\n",
              "        text-align: right;\n",
              "    }\n",
              "</style>\n",
              "<table border=\"1\" class=\"dataframe\">\n",
              "  <thead>\n",
              "    <tr style=\"text-align: right;\">\n",
              "      <th>Person</th>\n",
              "      <th>Age</th>\n",
              "      <th>Sex</th>\n",
              "      <th>ChestPainType</th>\n",
              "      <th>RestingBP</th>\n",
              "      <th>Cholesterol</th>\n",
              "      <th>FastingBS</th>\n",
              "      <th>RestingECG</th>\n",
              "      <th>MaxHR</th>\n",
              "      <th>ExerciseAngina</th>\n",
              "      <th>Oldpeak</th>\n",
              "      <th>ST_Slope</th>\n",
              "      <th>HeartDisease</th>\n",
              "    </tr>\n",
              "  </thead>\n",
              "  <tbody>\n",
              "    <tr>\n",
              "      <th>0</th>\n",
              "      <td>40</td>\n",
              "      <td>M</td>\n",
              "      <td>ATA</td>\n",
              "      <td>140</td>\n",
              "      <td>289</td>\n",
              "      <td>0</td>\n",
              "      <td>Normal</td>\n",
              "      <td>172</td>\n",
              "      <td>N</td>\n",
              "      <td>0.0</td>\n",
              "      <td>Up</td>\n",
              "      <td>0</td>\n",
              "    </tr>\n",
              "    <tr>\n",
              "      <th>1</th>\n",
              "      <td>49</td>\n",
              "      <td>F</td>\n",
              "      <td>NAP</td>\n",
              "      <td>160</td>\n",
              "      <td>180</td>\n",
              "      <td>0</td>\n",
              "      <td>Normal</td>\n",
              "      <td>156</td>\n",
              "      <td>N</td>\n",
              "      <td>1.0</td>\n",
              "      <td>Flat</td>\n",
              "      <td>1</td>\n",
              "    </tr>\n",
              "    <tr>\n",
              "      <th>2</th>\n",
              "      <td>37</td>\n",
              "      <td>M</td>\n",
              "      <td>ATA</td>\n",
              "      <td>130</td>\n",
              "      <td>283</td>\n",
              "      <td>0</td>\n",
              "      <td>ST</td>\n",
              "      <td>98</td>\n",
              "      <td>N</td>\n",
              "      <td>0.0</td>\n",
              "      <td>Up</td>\n",
              "      <td>0</td>\n",
              "    </tr>\n",
              "    <tr>\n",
              "      <th>3</th>\n",
              "      <td>48</td>\n",
              "      <td>F</td>\n",
              "      <td>ASY</td>\n",
              "      <td>138</td>\n",
              "      <td>214</td>\n",
              "      <td>0</td>\n",
              "      <td>Normal</td>\n",
              "      <td>108</td>\n",
              "      <td>Y</td>\n",
              "      <td>1.5</td>\n",
              "      <td>Flat</td>\n",
              "      <td>1</td>\n",
              "    </tr>\n",
              "    <tr>\n",
              "      <th>4</th>\n",
              "      <td>54</td>\n",
              "      <td>M</td>\n",
              "      <td>NAP</td>\n",
              "      <td>150</td>\n",
              "      <td>195</td>\n",
              "      <td>0</td>\n",
              "      <td>Normal</td>\n",
              "      <td>122</td>\n",
              "      <td>N</td>\n",
              "      <td>0.0</td>\n",
              "      <td>Up</td>\n",
              "      <td>0</td>\n",
              "    </tr>\n",
              "  </tbody>\n",
              "</table>\n",
              "</div>\n",
              "      <button class=\"colab-df-convert\" onclick=\"convertToInteractive('df-3dd7f333-501f-47fd-b554-63db3bd5dc14')\"\n",
              "              title=\"Convert this dataframe to an interactive table.\"\n",
              "              style=\"display:none;\">\n",
              "        \n",
              "  <svg xmlns=\"http://www.w3.org/2000/svg\" height=\"24px\"viewBox=\"0 0 24 24\"\n",
              "       width=\"24px\">\n",
              "    <path d=\"M0 0h24v24H0V0z\" fill=\"none\"/>\n",
              "    <path d=\"M18.56 5.44l.94 2.06.94-2.06 2.06-.94-2.06-.94-.94-2.06-.94 2.06-2.06.94zm-11 1L8.5 8.5l.94-2.06 2.06-.94-2.06-.94L8.5 2.5l-.94 2.06-2.06.94zm10 10l.94 2.06.94-2.06 2.06-.94-2.06-.94-.94-2.06-.94 2.06-2.06.94z\"/><path d=\"M17.41 7.96l-1.37-1.37c-.4-.4-.92-.59-1.43-.59-.52 0-1.04.2-1.43.59L10.3 9.45l-7.72 7.72c-.78.78-.78 2.05 0 2.83L4 21.41c.39.39.9.59 1.41.59.51 0 1.02-.2 1.41-.59l7.78-7.78 2.81-2.81c.8-.78.8-2.07 0-2.86zM5.41 20L4 18.59l7.72-7.72 1.47 1.35L5.41 20z\"/>\n",
              "  </svg>\n",
              "      </button>\n",
              "      \n",
              "  <style>\n",
              "    .colab-df-container {\n",
              "      display:flex;\n",
              "      flex-wrap:wrap;\n",
              "      gap: 12px;\n",
              "    }\n",
              "\n",
              "    .colab-df-convert {\n",
              "      background-color: #E8F0FE;\n",
              "      border: none;\n",
              "      border-radius: 50%;\n",
              "      cursor: pointer;\n",
              "      display: none;\n",
              "      fill: #1967D2;\n",
              "      height: 32px;\n",
              "      padding: 0 0 0 0;\n",
              "      width: 32px;\n",
              "    }\n",
              "\n",
              "    .colab-df-convert:hover {\n",
              "      background-color: #E2EBFA;\n",
              "      box-shadow: 0px 1px 2px rgba(60, 64, 67, 0.3), 0px 1px 3px 1px rgba(60, 64, 67, 0.15);\n",
              "      fill: #174EA6;\n",
              "    }\n",
              "\n",
              "    [theme=dark] .colab-df-convert {\n",
              "      background-color: #3B4455;\n",
              "      fill: #D2E3FC;\n",
              "    }\n",
              "\n",
              "    [theme=dark] .colab-df-convert:hover {\n",
              "      background-color: #434B5C;\n",
              "      box-shadow: 0px 1px 3px 1px rgba(0, 0, 0, 0.15);\n",
              "      filter: drop-shadow(0px 1px 2px rgba(0, 0, 0, 0.3));\n",
              "      fill: #FFFFFF;\n",
              "    }\n",
              "  </style>\n",
              "\n",
              "      <script>\n",
              "        const buttonEl =\n",
              "          document.querySelector('#df-3dd7f333-501f-47fd-b554-63db3bd5dc14 button.colab-df-convert');\n",
              "        buttonEl.style.display =\n",
              "          google.colab.kernel.accessAllowed ? 'block' : 'none';\n",
              "\n",
              "        async function convertToInteractive(key) {\n",
              "          const element = document.querySelector('#df-3dd7f333-501f-47fd-b554-63db3bd5dc14');\n",
              "          const dataTable =\n",
              "            await google.colab.kernel.invokeFunction('convertToInteractive',\n",
              "                                                     [key], {});\n",
              "          if (!dataTable) return;\n",
              "\n",
              "          const docLinkHtml = 'Like what you see? Visit the ' +\n",
              "            '<a target=\"_blank\" href=https://colab.research.google.com/notebooks/data_table.ipynb>data table notebook</a>'\n",
              "            + ' to learn more about interactive tables.';\n",
              "          element.innerHTML = '';\n",
              "          dataTable['output_type'] = 'display_data';\n",
              "          await google.colab.output.renderOutput(dataTable, element);\n",
              "          const docLink = document.createElement('div');\n",
              "          docLink.innerHTML = docLinkHtml;\n",
              "          element.appendChild(docLink);\n",
              "        }\n",
              "      </script>\n",
              "    </div>\n",
              "  </div>\n",
              "  "
            ],
            "text/plain": [
              "Person  Age Sex ChestPainType  ...  Oldpeak  ST_Slope  HeartDisease\n",
              "0        40   M           ATA  ...      0.0        Up             0\n",
              "1        49   F           NAP  ...      1.0      Flat             1\n",
              "2        37   M           ATA  ...      0.0        Up             0\n",
              "3        48   F           ASY  ...      1.5      Flat             1\n",
              "4        54   M           NAP  ...      0.0        Up             0\n",
              "\n",
              "[5 rows x 12 columns]"
            ]
          },
          "metadata": {},
          "execution_count": 78
        }
      ]
    },
    {
      "cell_type": "code",
      "source": [
        "df1.tail(5) # examinando as 5 últimas linhas do dataset"
      ],
      "metadata": {
        "colab": {
          "base_uri": "https://localhost:8080/",
          "height": 206
        },
        "id": "hy2o-P6HNx5t",
        "outputId": "ffa70700-2b15-44ae-cfc4-7dd1e733030a"
      },
      "execution_count": 79,
      "outputs": [
        {
          "output_type": "execute_result",
          "data": {
            "text/html": [
              "\n",
              "  <div id=\"df-ea7b9d01-a80f-4905-a1ef-3f1c4d3ba9d7\">\n",
              "    <div class=\"colab-df-container\">\n",
              "      <div>\n",
              "<style scoped>\n",
              "    .dataframe tbody tr th:only-of-type {\n",
              "        vertical-align: middle;\n",
              "    }\n",
              "\n",
              "    .dataframe tbody tr th {\n",
              "        vertical-align: top;\n",
              "    }\n",
              "\n",
              "    .dataframe thead th {\n",
              "        text-align: right;\n",
              "    }\n",
              "</style>\n",
              "<table border=\"1\" class=\"dataframe\">\n",
              "  <thead>\n",
              "    <tr style=\"text-align: right;\">\n",
              "      <th>Person</th>\n",
              "      <th>Age</th>\n",
              "      <th>Sex</th>\n",
              "      <th>ChestPainType</th>\n",
              "      <th>RestingBP</th>\n",
              "      <th>Cholesterol</th>\n",
              "      <th>FastingBS</th>\n",
              "      <th>RestingECG</th>\n",
              "      <th>MaxHR</th>\n",
              "      <th>ExerciseAngina</th>\n",
              "      <th>Oldpeak</th>\n",
              "      <th>ST_Slope</th>\n",
              "      <th>HeartDisease</th>\n",
              "    </tr>\n",
              "  </thead>\n",
              "  <tbody>\n",
              "    <tr>\n",
              "      <th>913</th>\n",
              "      <td>45</td>\n",
              "      <td>M</td>\n",
              "      <td>TA</td>\n",
              "      <td>110</td>\n",
              "      <td>264</td>\n",
              "      <td>0</td>\n",
              "      <td>Normal</td>\n",
              "      <td>132</td>\n",
              "      <td>N</td>\n",
              "      <td>1.2</td>\n",
              "      <td>Flat</td>\n",
              "      <td>1</td>\n",
              "    </tr>\n",
              "    <tr>\n",
              "      <th>914</th>\n",
              "      <td>68</td>\n",
              "      <td>M</td>\n",
              "      <td>ASY</td>\n",
              "      <td>144</td>\n",
              "      <td>193</td>\n",
              "      <td>1</td>\n",
              "      <td>Normal</td>\n",
              "      <td>141</td>\n",
              "      <td>N</td>\n",
              "      <td>3.4</td>\n",
              "      <td>Flat</td>\n",
              "      <td>1</td>\n",
              "    </tr>\n",
              "    <tr>\n",
              "      <th>915</th>\n",
              "      <td>57</td>\n",
              "      <td>M</td>\n",
              "      <td>ASY</td>\n",
              "      <td>130</td>\n",
              "      <td>131</td>\n",
              "      <td>0</td>\n",
              "      <td>Normal</td>\n",
              "      <td>115</td>\n",
              "      <td>Y</td>\n",
              "      <td>1.2</td>\n",
              "      <td>Flat</td>\n",
              "      <td>1</td>\n",
              "    </tr>\n",
              "    <tr>\n",
              "      <th>916</th>\n",
              "      <td>57</td>\n",
              "      <td>F</td>\n",
              "      <td>ATA</td>\n",
              "      <td>130</td>\n",
              "      <td>236</td>\n",
              "      <td>0</td>\n",
              "      <td>LVH</td>\n",
              "      <td>174</td>\n",
              "      <td>N</td>\n",
              "      <td>0.0</td>\n",
              "      <td>Flat</td>\n",
              "      <td>1</td>\n",
              "    </tr>\n",
              "    <tr>\n",
              "      <th>917</th>\n",
              "      <td>38</td>\n",
              "      <td>M</td>\n",
              "      <td>NAP</td>\n",
              "      <td>138</td>\n",
              "      <td>175</td>\n",
              "      <td>0</td>\n",
              "      <td>Normal</td>\n",
              "      <td>173</td>\n",
              "      <td>N</td>\n",
              "      <td>0.0</td>\n",
              "      <td>Up</td>\n",
              "      <td>0</td>\n",
              "    </tr>\n",
              "  </tbody>\n",
              "</table>\n",
              "</div>\n",
              "      <button class=\"colab-df-convert\" onclick=\"convertToInteractive('df-ea7b9d01-a80f-4905-a1ef-3f1c4d3ba9d7')\"\n",
              "              title=\"Convert this dataframe to an interactive table.\"\n",
              "              style=\"display:none;\">\n",
              "        \n",
              "  <svg xmlns=\"http://www.w3.org/2000/svg\" height=\"24px\"viewBox=\"0 0 24 24\"\n",
              "       width=\"24px\">\n",
              "    <path d=\"M0 0h24v24H0V0z\" fill=\"none\"/>\n",
              "    <path d=\"M18.56 5.44l.94 2.06.94-2.06 2.06-.94-2.06-.94-.94-2.06-.94 2.06-2.06.94zm-11 1L8.5 8.5l.94-2.06 2.06-.94-2.06-.94L8.5 2.5l-.94 2.06-2.06.94zm10 10l.94 2.06.94-2.06 2.06-.94-2.06-.94-.94-2.06-.94 2.06-2.06.94z\"/><path d=\"M17.41 7.96l-1.37-1.37c-.4-.4-.92-.59-1.43-.59-.52 0-1.04.2-1.43.59L10.3 9.45l-7.72 7.72c-.78.78-.78 2.05 0 2.83L4 21.41c.39.39.9.59 1.41.59.51 0 1.02-.2 1.41-.59l7.78-7.78 2.81-2.81c.8-.78.8-2.07 0-2.86zM5.41 20L4 18.59l7.72-7.72 1.47 1.35L5.41 20z\"/>\n",
              "  </svg>\n",
              "      </button>\n",
              "      \n",
              "  <style>\n",
              "    .colab-df-container {\n",
              "      display:flex;\n",
              "      flex-wrap:wrap;\n",
              "      gap: 12px;\n",
              "    }\n",
              "\n",
              "    .colab-df-convert {\n",
              "      background-color: #E8F0FE;\n",
              "      border: none;\n",
              "      border-radius: 50%;\n",
              "      cursor: pointer;\n",
              "      display: none;\n",
              "      fill: #1967D2;\n",
              "      height: 32px;\n",
              "      padding: 0 0 0 0;\n",
              "      width: 32px;\n",
              "    }\n",
              "\n",
              "    .colab-df-convert:hover {\n",
              "      background-color: #E2EBFA;\n",
              "      box-shadow: 0px 1px 2px rgba(60, 64, 67, 0.3), 0px 1px 3px 1px rgba(60, 64, 67, 0.15);\n",
              "      fill: #174EA6;\n",
              "    }\n",
              "\n",
              "    [theme=dark] .colab-df-convert {\n",
              "      background-color: #3B4455;\n",
              "      fill: #D2E3FC;\n",
              "    }\n",
              "\n",
              "    [theme=dark] .colab-df-convert:hover {\n",
              "      background-color: #434B5C;\n",
              "      box-shadow: 0px 1px 3px 1px rgba(0, 0, 0, 0.15);\n",
              "      filter: drop-shadow(0px 1px 2px rgba(0, 0, 0, 0.3));\n",
              "      fill: #FFFFFF;\n",
              "    }\n",
              "  </style>\n",
              "\n",
              "      <script>\n",
              "        const buttonEl =\n",
              "          document.querySelector('#df-ea7b9d01-a80f-4905-a1ef-3f1c4d3ba9d7 button.colab-df-convert');\n",
              "        buttonEl.style.display =\n",
              "          google.colab.kernel.accessAllowed ? 'block' : 'none';\n",
              "\n",
              "        async function convertToInteractive(key) {\n",
              "          const element = document.querySelector('#df-ea7b9d01-a80f-4905-a1ef-3f1c4d3ba9d7');\n",
              "          const dataTable =\n",
              "            await google.colab.kernel.invokeFunction('convertToInteractive',\n",
              "                                                     [key], {});\n",
              "          if (!dataTable) return;\n",
              "\n",
              "          const docLinkHtml = 'Like what you see? Visit the ' +\n",
              "            '<a target=\"_blank\" href=https://colab.research.google.com/notebooks/data_table.ipynb>data table notebook</a>'\n",
              "            + ' to learn more about interactive tables.';\n",
              "          element.innerHTML = '';\n",
              "          dataTable['output_type'] = 'display_data';\n",
              "          await google.colab.output.renderOutput(dataTable, element);\n",
              "          const docLink = document.createElement('div');\n",
              "          docLink.innerHTML = docLinkHtml;\n",
              "          element.appendChild(docLink);\n",
              "        }\n",
              "      </script>\n",
              "    </div>\n",
              "  </div>\n",
              "  "
            ],
            "text/plain": [
              "Person  Age Sex ChestPainType  ...  Oldpeak  ST_Slope  HeartDisease\n",
              "913      45   M            TA  ...      1.2      Flat             1\n",
              "914      68   M           ASY  ...      3.4      Flat             1\n",
              "915      57   M           ASY  ...      1.2      Flat             1\n",
              "916      57   F           ATA  ...      0.0      Flat             1\n",
              "917      38   M           NAP  ...      0.0        Up             0\n",
              "\n",
              "[5 rows x 12 columns]"
            ]
          },
          "metadata": {},
          "execution_count": 79
        }
      ]
    },
    {
      "cell_type": "code",
      "source": [
        "plt.figure(figsize = (7,3)) # ajustando o tamanho da figura do gráfico\n",
        "plt.xlabel(\"Whatever\") # nomeando eixo x\n",
        "plt.ylabel(\"Whatever\") # nomeando eixo y\n",
        "plt.legend()  # aparecer a leganda \n",
        "p = sns.lineplot(data = df1)  # apenas verificando como são todos os dados numéricos juntos\n",
        "p.set_title(\"All data mixed\") # título"
      ],
      "metadata": {
        "colab": {
          "base_uri": "https://localhost:8080/",
          "height": 276
        },
        "id": "xizYbh2nUrs4",
        "outputId": "aecd8da9-ab85-433f-d9aa-9e232f0b3b56"
      },
      "execution_count": 80,
      "outputs": [
        {
          "output_type": "stream",
          "name": "stderr",
          "text": [
            "No handles with labels found to put in legend.\n"
          ]
        },
        {
          "output_type": "execute_result",
          "data": {
            "text/plain": [
              "Text(0.5, 1.0, 'All data mixed')"
            ]
          },
          "metadata": {},
          "execution_count": 80
        },
        {
          "output_type": "display_data",
          "data": {
            "image/png": "[encoded data removed]",
            "text/plain": [
              "<Figure size 504x216 with 1 Axes>"
            ]
          },
          "metadata": {
            "needs_background": "light"
          }
        }
      ]
    },
    {
      "cell_type": "markdown",
      "source": [
        "Como é possível ver, os dados numéricos juntos em um gráfico significam absolutamente nada. Análises precisam ser feitas para poder concluir algo desse Dataset. Além disso, o Dataset possui colunas com valores não numéricos também, o que torna a análise não puramente numérica, mas sim com uma grau de complexidade maior."
      ],
      "metadata": {
        "id": "qJkiXnZeVIDH"
      }
    },
    {
      "cell_type": "markdown",
      "source": [
        "# Data Cleaning - Verificando valores faltantes e dados inconsitentes / Normalização do Dataset"
      ],
      "metadata": {
        "id": "Som-UKZNOq1M"
      }
    },
    {
      "cell_type": "code",
      "source": [
        "df1.isnull().sum() # verificando se há valores faltantes"
      ],
      "metadata": {
        "colab": {
          "base_uri": "https://localhost:8080/"
        },
        "id": "D3e71xCEU_dq",
        "outputId": "ac501389-4ae6-4dd9-9e83-dcfd3b8c6523"
      },
      "execution_count": 81,
      "outputs": [
        {
          "output_type": "execute_result",
          "data": {
            "text/plain": [
              "Person\n",
              "Age               0\n",
              "Sex               0\n",
              "ChestPainType     0\n",
              "RestingBP         0\n",
              "Cholesterol       0\n",
              "FastingBS         0\n",
              "RestingECG        0\n",
              "MaxHR             0\n",
              "ExerciseAngina    0\n",
              "Oldpeak           0\n",
              "ST_Slope          0\n",
              "HeartDisease      0\n",
              "dtype: int64"
            ]
          },
          "metadata": {},
          "execution_count": 81
        }
      ]
    },
    {
      "cell_type": "markdown",
      "source": [
        "Não há valores faltantes no DATASET. Agora, é preciso fazer uma análise minuciosa de cada coluna e conhecer o significado dos dados de cada coluna para aplicar técnicas de Data Cleaning no Dataset. \n",
        "Após tal análise intuitiva, existem técnicas e aplicação de cada uma delas depende da situação."
      ],
      "metadata": {
        "id": "VckxcplBDrbY"
      }
    },
    {
      "cell_type": "code",
      "source": [
        "# verificar se há valores de 'Age' que não fazem sentido\n",
        "df1.groupby('Age').Age.count()  "
      ],
      "metadata": {
        "colab": {
          "base_uri": "https://localhost:8080/"
        },
        "id": "ZvepxZJSR5tU",
        "outputId": "d93cf91f-7326-4f7a-8003-5054b8099014"
      },
      "execution_count": 82,
      "outputs": [
        {
          "output_type": "execute_result",
          "data": {
            "text/plain": [
              "Age\n",
              "28     1\n",
              "29     3\n",
              "30     1\n",
              "31     2\n",
              "32     5\n",
              "33     2\n",
              "34     7\n",
              "35    11\n",
              "36     6\n",
              "37    11\n",
              "38    16\n",
              "39    15\n",
              "40    13\n",
              "41    24\n",
              "42    18\n",
              "43    24\n",
              "44    19\n",
              "45    18\n",
              "46    24\n",
              "47    19\n",
              "48    31\n",
              "49    21\n",
              "50    25\n",
              "51    35\n",
              "52    36\n",
              "53    33\n",
              "54    51\n",
              "55    41\n",
              "56    38\n",
              "57    38\n",
              "58    42\n",
              "59    35\n",
              "60    32\n",
              "61    31\n",
              "62    35\n",
              "63    30\n",
              "64    22\n",
              "65    21\n",
              "66    13\n",
              "67    15\n",
              "68    10\n",
              "69    13\n",
              "70     7\n",
              "71     5\n",
              "72     4\n",
              "73     1\n",
              "74     7\n",
              "75     3\n",
              "76     2\n",
              "77     2\n",
              "Name: Age, dtype: int64"
            ]
          },
          "metadata": {},
          "execution_count": 82
        }
      ]
    },
    {
      "cell_type": "markdown",
      "source": [
        "Não há valores de 'Age' == 0 nem que não fazem sentido."
      ],
      "metadata": {
        "id": "nrf9aynY57th"
      }
    },
    {
      "cell_type": "code",
      "source": [
        "# verificar se há valores de 'Sex' que não fazem sentido\n",
        "df1.groupby('Sex').Sex.count()"
      ],
      "metadata": {
        "colab": {
          "base_uri": "https://localhost:8080/"
        },
        "id": "bY8iLWIm6j6l",
        "outputId": "6690e84b-2f04-404d-84c4-9b47541b3dd5"
      },
      "execution_count": 83,
      "outputs": [
        {
          "output_type": "execute_result",
          "data": {
            "text/plain": [
              "Sex\n",
              "F    193\n",
              "M    725\n",
              "Name: Sex, dtype: int64"
            ]
          },
          "metadata": {},
          "execution_count": 83
        }
      ]
    },
    {
      "cell_type": "markdown",
      "source": [
        "Não há valores de 'Sex' que não fazem sentido."
      ],
      "metadata": {
        "id": "U7DJMafc7GiQ"
      }
    },
    {
      "cell_type": "code",
      "source": [
        "# verificar se há valores de 'ChestPainType' que não fazem sentido\n",
        "df1.groupby('ChestPainType').ChestPainType.count()"
      ],
      "metadata": {
        "colab": {
          "base_uri": "https://localhost:8080/"
        },
        "id": "uRrbNMjZ5zdO",
        "outputId": "ba13af4d-945a-4fe3-f3d7-482668f6d60d"
      },
      "execution_count": 84,
      "outputs": [
        {
          "output_type": "execute_result",
          "data": {
            "text/plain": [
              "ChestPainType\n",
              "ASY    496\n",
              "ATA    173\n",
              "NAP    203\n",
              "TA      46\n",
              "Name: ChestPainType, dtype: int64"
            ]
          },
          "metadata": {},
          "execution_count": 84
        }
      ]
    },
    {
      "cell_type": "markdown",
      "source": [
        "Não há valores de 'ChestPainType' que não fazem sentido. "
      ],
      "metadata": {
        "id": "awzAhvts6r4g"
      }
    },
    {
      "cell_type": "code",
      "source": [
        "# verificar se há valores de 'RestingBP' que não fazem sentido\n",
        "df1_rbp = df1.groupby('RestingBP').RestingBP.count()\n",
        "df1_rbp"
      ],
      "metadata": {
        "colab": {
          "base_uri": "https://localhost:8080/"
        },
        "id": "nAm0ahc_7Byr",
        "outputId": "87068384-4a9e-430e-9b4c-e5351a59bce4"
      },
      "execution_count": 85,
      "outputs": [
        {
          "output_type": "execute_result",
          "data": {
            "text/plain": [
              "RestingBP\n",
              "0       1\n",
              "80      1\n",
              "92      1\n",
              "94      2\n",
              "95      6\n",
              "       ..\n",
              "180    12\n",
              "185     1\n",
              "190     2\n",
              "192     1\n",
              "200     4\n",
              "Name: RestingBP, Length: 67, dtype: int64"
            ]
          },
          "metadata": {},
          "execution_count": 85
        }
      ]
    },
    {
      "cell_type": "markdown",
      "source": [
        "Há um valor de 'RestingBP' == 0, o que não faz sentido, pois ter uma pressão em repouso nula faria com que o sangue não estivesse circulando. O dado ou não foi coletado ou não está presente por algum motivo. Então, é preciso mudar esse valor para que não prejudique a análise dos dados."
      ],
      "metadata": {
        "id": "TQS4S4KW8z9X"
      }
    },
    {
      "cell_type": "code",
      "source": [
        "media_rbp = df1['RestingBP'].mean()\n",
        "\n",
        "# substituindo o valor de 'RestingBP' == 0 pela média da coluna 'RestingBP'\n",
        "# é um método válido para substituir com uma variável categórica\n",
        "df1['RestingBP'].replace(0, media_rbp, inplace = True)\n",
        "\n",
        "# alterando o data frame que será normalizado futuramente também \n",
        "df1_norm['RestingBP'].replace(0, media_rbp, inplace = True)"
      ],
      "metadata": {
        "id": "Rsn_CL6BAFtG"
      },
      "execution_count": 86,
      "outputs": []
    },
    {
      "cell_type": "markdown",
      "source": [
        "A substituição dos valores de 'RestingBP' == 0 pela média da coluna 'RestingBP' é uma boa forma de diminuir o desvio que a amostra nula causaria. Não há muitos valores repetidos, então a moda não seria uma boa opção, e são muitos valores únicos para substituir pela mediana também."
      ],
      "metadata": {
        "id": "OzC5bX7cBQcH"
      }
    },
    {
      "cell_type": "code",
      "source": [
        "df1_mask_rbp = df1['RestingBP'] == (media_rbp)\n",
        "filtered_df1_rbp = df1[df1_mask_rbp]\n",
        "len(filtered_df1_rbp.index) # verificando que todos os 0s foram substituídos --> que é 1"
      ],
      "metadata": {
        "colab": {
          "base_uri": "https://localhost:8080/"
        },
        "id": "YpAAWGh9Aym4",
        "outputId": "827970d0-fd84-49da-d93e-4c3b92cad311"
      },
      "execution_count": 87,
      "outputs": [
        {
          "output_type": "execute_result",
          "data": {
            "text/plain": [
              "1"
            ]
          },
          "metadata": {},
          "execution_count": 87
        }
      ]
    },
    {
      "cell_type": "code",
      "source": [
        "# verificar se há valores de 'Cholesterol' == 0, pois não faz sentido  \n",
        "df1.groupby('Cholesterol').Cholesterol.count()  # contar a qtde de valores de 'Cholesterol' == 0"
      ],
      "metadata": {
        "colab": {
          "base_uri": "https://localhost:8080/"
        },
        "id": "zQ2n_3GvCBZQ",
        "outputId": "b527ad23-2c21-42f1-cebd-be6c686cd965"
      },
      "execution_count": 88,
      "outputs": [
        {
          "output_type": "execute_result",
          "data": {
            "text/plain": [
              "Cholesterol\n",
              "0      172\n",
              "85       1\n",
              "100      2\n",
              "110      1\n",
              "113      1\n",
              "      ... \n",
              "491      1\n",
              "518      1\n",
              "529      1\n",
              "564      1\n",
              "603      1\n",
              "Name: Cholesterol, Length: 222, dtype: int64"
            ]
          },
          "metadata": {},
          "execution_count": 88
        }
      ]
    },
    {
      "cell_type": "markdown",
      "source": [
        "Há valores de 'Cholesterol' == 0, o que não faz sentido. Até uma pessoa muito saudável possui um relativo grau de gordura no sangue. O dado ou não foi coletado ou não está presente por algum motivo. Então, é preciso mudar esse valor para que não prejudique a análise dos dados."
      ],
      "metadata": {
        "id": "bZFI8SL09kpw"
      }
    },
    {
      "cell_type": "code",
      "source": [
        "media_colesterol = df1['Cholesterol'].mean()\n",
        "\n",
        "# substituindo os valores de 'Cholesterol' == 0 pela média da coluna 'Cholesterol'\n",
        "# é um método válido para substituir com uma variável categórica\n",
        "df1['Cholesterol'].replace(0, media_colesterol, inplace = True)\n",
        "\n",
        "# alterando o data frame que será normalizado futuramente também \n",
        "df1_norm['Cholesterol'].replace(0, media_colesterol, inplace = True)"
      ],
      "metadata": {
        "id": "sQwwnKnML-1k"
      },
      "execution_count": 89,
      "outputs": []
    },
    {
      "cell_type": "markdown",
      "source": [
        "A substituição dos valores de 'Cholesterol' == 0 pela média da coluna 'Cholesterol' é uma boa forma de diminuir o desvio que a amostra nula causaria. Não há muitos valores repetidos, então a moda não seria uma boa opção, e são muitos valores únicos para substituir pela mediana também. "
      ],
      "metadata": {
        "id": "4Dr0dwQK793m"
      }
    },
    {
      "cell_type": "code",
      "source": [
        "df1_mask = df1.Cholesterol == media_colesterol\n",
        "filtered_df1 = df1[df1_mask]\n",
        "len(filtered_df1.index) # verificando que todos os 0s foram substituídos --> que são 171"
      ],
      "metadata": {
        "colab": {
          "base_uri": "https://localhost:8080/"
        },
        "id": "dZxPvZu3btSJ",
        "outputId": "c6b4f806-72b8-4d7b-ca89-6a5779f3e1a2"
      },
      "execution_count": 90,
      "outputs": [
        {
          "output_type": "execute_result",
          "data": {
            "text/plain": [
              "172"
            ]
          },
          "metadata": {},
          "execution_count": 90
        }
      ]
    },
    {
      "cell_type": "code",
      "source": [
        "# verificar se há valores de 'FastingBS' que não fazem sentido\n",
        "df1.groupby('FastingBS').FastingBS.count()"
      ],
      "metadata": {
        "colab": {
          "base_uri": "https://localhost:8080/"
        },
        "id": "SmNfO180BG5c",
        "outputId": "d6af42c8-0b20-4096-93e5-b1fbd1b5cefb"
      },
      "execution_count": 91,
      "outputs": [
        {
          "output_type": "execute_result",
          "data": {
            "text/plain": [
              "FastingBS\n",
              "0    704\n",
              "1    214\n",
              "Name: FastingBS, dtype: int64"
            ]
          },
          "metadata": {},
          "execution_count": 91
        }
      ]
    },
    {
      "cell_type": "markdown",
      "source": [
        "Valores de 'FastingBS' == 0 e == 1 não fazem sentido, pois a taxa de açúcar no sangue em jejum não é uma variável booleana. Deste modo, é necessário fazer alterações para que tais valores não compromentam a análise de dados."
      ],
      "metadata": {
        "id": "NZl35KoyNfuS"
      }
    },
    {
      "cell_type": "code",
      "source": [
        "media_fbs = df1['FastingBS'].mean()\n",
        "\n",
        "# substituindo os valores de 'FastingBS' == 0 e == 1 pela média da coluna 'Cholesterol'\n",
        "# é um método válido para substituir com uma variável categórica\n",
        "df1['FastingBS'].replace(0, media_fbs, inplace = True)\n",
        "\n",
        "# alterando o data frame que será normalizado futuramente também \n",
        "df1_norm['FastingBS'].replace(0, media_fbs, inplace = True)"
      ],
      "metadata": {
        "id": "O6SqAGZvCGWp"
      },
      "execution_count": 92,
      "outputs": []
    },
    {
      "cell_type": "code",
      "source": [
        "df1['FastingBS'].replace(1, media_fbs, inplace = True)\n",
        "\n",
        "# alterando o data frame que será normalizado futuramente também \n",
        "df1_norm['FastingBS'].replace(1, media_fbs, inplace = True)"
      ],
      "metadata": {
        "id": "8RsIlNK_W5TD"
      },
      "execution_count": 93,
      "outputs": []
    },
    {
      "cell_type": "markdown",
      "source": [
        "Ter a maioria dos valores nulos e muitos valores == 1 faz com que o desvio padrão seja muito baixo, o que significa que a taxa de dispersão é baixa e os valores tem um tendência de serem homogêneos. Assim sendo, substituir pela média simples não prejudicaria significativamente a análise. \n"
      ],
      "metadata": {
        "id": "c9AIe0moOQDA"
      }
    },
    {
      "cell_type": "code",
      "source": [
        "df1_mask_fbs = df1['FastingBS'] == (media_fbs)\n",
        "filtered_df1_fbs = df1[df1_mask_fbs]\n",
        "len(filtered_df1_fbs.index) # verificando que todos os 0s e 1s foram substituídos --> que são 917 "
      ],
      "metadata": {
        "colab": {
          "base_uri": "https://localhost:8080/"
        },
        "id": "3tQZX5x5NALO",
        "outputId": "c0faaae4-75df-4928-9f4d-76e0c6e9138b"
      },
      "execution_count": 94,
      "outputs": [
        {
          "output_type": "execute_result",
          "data": {
            "text/plain": [
              "918"
            ]
          },
          "metadata": {},
          "execution_count": 94
        }
      ]
    },
    {
      "cell_type": "code",
      "source": [
        "df1"
      ],
      "metadata": {
        "colab": {
          "base_uri": "https://localhost:8080/",
          "height": 423
        },
        "id": "6O5QZgoGb6gZ",
        "outputId": "2300733c-a769-45ab-c96b-7ed71ebfd3f3"
      },
      "execution_count": 95,
      "outputs": [
        {
          "output_type": "execute_result",
          "data": {
            "text/html": [
              "\n",
              "  <div id=\"df-69f61c93-5d8f-4e77-a1f2-01ab9cbacca9\">\n",
              "    <div class=\"colab-df-container\">\n",
              "      <div>\n",
              "<style scoped>\n",
              "    .dataframe tbody tr th:only-of-type {\n",
              "        vertical-align: middle;\n",
              "    }\n",
              "\n",
              "    .dataframe tbody tr th {\n",
              "        vertical-align: top;\n",
              "    }\n",
              "\n",
              "    .dataframe thead th {\n",
              "        text-align: right;\n",
              "    }\n",
              "</style>\n",
              "<table border=\"1\" class=\"dataframe\">\n",
              "  <thead>\n",
              "    <tr style=\"text-align: right;\">\n",
              "      <th>Person</th>\n",
              "      <th>Age</th>\n",
              "      <th>Sex</th>\n",
              "      <th>ChestPainType</th>\n",
              "      <th>RestingBP</th>\n",
              "      <th>Cholesterol</th>\n",
              "      <th>FastingBS</th>\n",
              "      <th>RestingECG</th>\n",
              "      <th>MaxHR</th>\n",
              "      <th>ExerciseAngina</th>\n",
              "      <th>Oldpeak</th>\n",
              "      <th>ST_Slope</th>\n",
              "      <th>HeartDisease</th>\n",
              "    </tr>\n",
              "  </thead>\n",
              "  <tbody>\n",
              "    <tr>\n",
              "      <th>0</th>\n",
              "      <td>40</td>\n",
              "      <td>M</td>\n",
              "      <td>ATA</td>\n",
              "      <td>140.0</td>\n",
              "      <td>289.0</td>\n",
              "      <td>0.233115</td>\n",
              "      <td>Normal</td>\n",
              "      <td>172</td>\n",
              "      <td>N</td>\n",
              "      <td>0.0</td>\n",
              "      <td>Up</td>\n",
              "      <td>0</td>\n",
              "    </tr>\n",
              "    <tr>\n",
              "      <th>1</th>\n",
              "      <td>49</td>\n",
              "      <td>F</td>\n",
              "      <td>NAP</td>\n",
              "      <td>160.0</td>\n",
              "      <td>180.0</td>\n",
              "      <td>0.233115</td>\n",
              "      <td>Normal</td>\n",
              "      <td>156</td>\n",
              "      <td>N</td>\n",
              "      <td>1.0</td>\n",
              "      <td>Flat</td>\n",
              "      <td>1</td>\n",
              "    </tr>\n",
              "    <tr>\n",
              "      <th>2</th>\n",
              "      <td>37</td>\n",
              "      <td>M</td>\n",
              "      <td>ATA</td>\n",
              "      <td>130.0</td>\n",
              "      <td>283.0</td>\n",
              "      <td>0.233115</td>\n",
              "      <td>ST</td>\n",
              "      <td>98</td>\n",
              "      <td>N</td>\n",
              "      <td>0.0</td>\n",
              "      <td>Up</td>\n",
              "      <td>0</td>\n",
              "    </tr>\n",
              "    <tr>\n",
              "      <th>3</th>\n",
              "      <td>48</td>\n",
              "      <td>F</td>\n",
              "      <td>ASY</td>\n",
              "      <td>138.0</td>\n",
              "      <td>214.0</td>\n",
              "      <td>0.233115</td>\n",
              "      <td>Normal</td>\n",
              "      <td>108</td>\n",
              "      <td>Y</td>\n",
              "      <td>1.5</td>\n",
              "      <td>Flat</td>\n",
              "      <td>1</td>\n",
              "    </tr>\n",
              "    <tr>\n",
              "      <th>4</th>\n",
              "      <td>54</td>\n",
              "      <td>M</td>\n",
              "      <td>NAP</td>\n",
              "      <td>150.0</td>\n",
              "      <td>195.0</td>\n",
              "      <td>0.233115</td>\n",
              "      <td>Normal</td>\n",
              "      <td>122</td>\n",
              "      <td>N</td>\n",
              "      <td>0.0</td>\n",
              "      <td>Up</td>\n",
              "      <td>0</td>\n",
              "    </tr>\n",
              "    <tr>\n",
              "      <th>...</th>\n",
              "      <td>...</td>\n",
              "      <td>...</td>\n",
              "      <td>...</td>\n",
              "      <td>...</td>\n",
              "      <td>...</td>\n",
              "      <td>...</td>\n",
              "      <td>...</td>\n",
              "      <td>...</td>\n",
              "      <td>...</td>\n",
              "      <td>...</td>\n",
              "      <td>...</td>\n",
              "      <td>...</td>\n",
              "    </tr>\n",
              "    <tr>\n",
              "      <th>913</th>\n",
              "      <td>45</td>\n",
              "      <td>M</td>\n",
              "      <td>TA</td>\n",
              "      <td>110.0</td>\n",
              "      <td>264.0</td>\n",
              "      <td>0.233115</td>\n",
              "      <td>Normal</td>\n",
              "      <td>132</td>\n",
              "      <td>N</td>\n",
              "      <td>1.2</td>\n",
              "      <td>Flat</td>\n",
              "      <td>1</td>\n",
              "    </tr>\n",
              "    <tr>\n",
              "      <th>914</th>\n",
              "      <td>68</td>\n",
              "      <td>M</td>\n",
              "      <td>ASY</td>\n",
              "      <td>144.0</td>\n",
              "      <td>193.0</td>\n",
              "      <td>0.233115</td>\n",
              "      <td>Normal</td>\n",
              "      <td>141</td>\n",
              "      <td>N</td>\n",
              "      <td>3.4</td>\n",
              "      <td>Flat</td>\n",
              "      <td>1</td>\n",
              "    </tr>\n",
              "    <tr>\n",
              "      <th>915</th>\n",
              "      <td>57</td>\n",
              "      <td>M</td>\n",
              "      <td>ASY</td>\n",
              "      <td>130.0</td>\n",
              "      <td>131.0</td>\n",
              "      <td>0.233115</td>\n",
              "      <td>Normal</td>\n",
              "      <td>115</td>\n",
              "      <td>Y</td>\n",
              "      <td>1.2</td>\n",
              "      <td>Flat</td>\n",
              "      <td>1</td>\n",
              "    </tr>\n",
              "    <tr>\n",
              "      <th>916</th>\n",
              "      <td>57</td>\n",
              "      <td>F</td>\n",
              "      <td>ATA</td>\n",
              "      <td>130.0</td>\n",
              "      <td>236.0</td>\n",
              "      <td>0.233115</td>\n",
              "      <td>LVH</td>\n",
              "      <td>174</td>\n",
              "      <td>N</td>\n",
              "      <td>0.0</td>\n",
              "      <td>Flat</td>\n",
              "      <td>1</td>\n",
              "    </tr>\n",
              "    <tr>\n",
              "      <th>917</th>\n",
              "      <td>38</td>\n",
              "      <td>M</td>\n",
              "      <td>NAP</td>\n",
              "      <td>138.0</td>\n",
              "      <td>175.0</td>\n",
              "      <td>0.233115</td>\n",
              "      <td>Normal</td>\n",
              "      <td>173</td>\n",
              "      <td>N</td>\n",
              "      <td>0.0</td>\n",
              "      <td>Up</td>\n",
              "      <td>0</td>\n",
              "    </tr>\n",
              "  </tbody>\n",
              "</table>\n",
              "<p>918 rows × 12 columns</p>\n",
              "</div>\n",
              "      <button class=\"colab-df-convert\" onclick=\"convertToInteractive('df-69f61c93-5d8f-4e77-a1f2-01ab9cbacca9')\"\n",
              "              title=\"Convert this dataframe to an interactive table.\"\n",
              "              style=\"display:none;\">\n",
              "        \n",
              "  <svg xmlns=\"http://www.w3.org/2000/svg\" height=\"24px\"viewBox=\"0 0 24 24\"\n",
              "       width=\"24px\">\n",
              "    <path d=\"M0 0h24v24H0V0z\" fill=\"none\"/>\n",
              "    <path d=\"M18.56 5.44l.94 2.06.94-2.06 2.06-.94-2.06-.94-.94-2.06-.94 2.06-2.06.94zm-11 1L8.5 8.5l.94-2.06 2.06-.94-2.06-.94L8.5 2.5l-.94 2.06-2.06.94zm10 10l.94 2.06.94-2.06 2.06-.94-2.06-.94-.94-2.06-.94 2.06-2.06.94z\"/><path d=\"M17.41 7.96l-1.37-1.37c-.4-.4-.92-.59-1.43-.59-.52 0-1.04.2-1.43.59L10.3 9.45l-7.72 7.72c-.78.78-.78 2.05 0 2.83L4 21.41c.39.39.9.59 1.41.59.51 0 1.02-.2 1.41-.59l7.78-7.78 2.81-2.81c.8-.78.8-2.07 0-2.86zM5.41 20L4 18.59l7.72-7.72 1.47 1.35L5.41 20z\"/>\n",
              "  </svg>\n",
              "      </button>\n",
              "      \n",
              "  <style>\n",
              "    .colab-df-container {\n",
              "      display:flex;\n",
              "      flex-wrap:wrap;\n",
              "      gap: 12px;\n",
              "    }\n",
              "\n",
              "    .colab-df-convert {\n",
              "      background-color: #E8F0FE;\n",
              "      border: none;\n",
              "      border-radius: 50%;\n",
              "      cursor: pointer;\n",
              "      display: none;\n",
              "      fill: #1967D2;\n",
              "      height: 32px;\n",
              "      padding: 0 0 0 0;\n",
              "      width: 32px;\n",
              "    }\n",
              "\n",
              "    .colab-df-convert:hover {\n",
              "      background-color: #E2EBFA;\n",
              "      box-shadow: 0px 1px 2px rgba(60, 64, 67, 0.3), 0px 1px 3px 1px rgba(60, 64, 67, 0.15);\n",
              "      fill: #174EA6;\n",
              "    }\n",
              "\n",
              "    [theme=dark] .colab-df-convert {\n",
              "      background-color: #3B4455;\n",
              "      fill: #D2E3FC;\n",
              "    }\n",
              "\n",
              "    [theme=dark] .colab-df-convert:hover {\n",
              "      background-color: #434B5C;\n",
              "      box-shadow: 0px 1px 3px 1px rgba(0, 0, 0, 0.15);\n",
              "      filter: drop-shadow(0px 1px 2px rgba(0, 0, 0, 0.3));\n",
              "      fill: #FFFFFF;\n",
              "    }\n",
              "  </style>\n",
              "\n",
              "      <script>\n",
              "        const buttonEl =\n",
              "          document.querySelector('#df-69f61c93-5d8f-4e77-a1f2-01ab9cbacca9 button.colab-df-convert');\n",
              "        buttonEl.style.display =\n",
              "          google.colab.kernel.accessAllowed ? 'block' : 'none';\n",
              "\n",
              "        async function convertToInteractive(key) {\n",
              "          const element = document.querySelector('#df-69f61c93-5d8f-4e77-a1f2-01ab9cbacca9');\n",
              "          const dataTable =\n",
              "            await google.colab.kernel.invokeFunction('convertToInteractive',\n",
              "                                                     [key], {});\n",
              "          if (!dataTable) return;\n",
              "\n",
              "          const docLinkHtml = 'Like what you see? Visit the ' +\n",
              "            '<a target=\"_blank\" href=https://colab.research.google.com/notebooks/data_table.ipynb>data table notebook</a>'\n",
              "            + ' to learn more about interactive tables.';\n",
              "          element.innerHTML = '';\n",
              "          dataTable['output_type'] = 'display_data';\n",
              "          await google.colab.output.renderOutput(dataTable, element);\n",
              "          const docLink = document.createElement('div');\n",
              "          docLink.innerHTML = docLinkHtml;\n",
              "          element.appendChild(docLink);\n",
              "        }\n",
              "      </script>\n",
              "    </div>\n",
              "  </div>\n",
              "  "
            ],
            "text/plain": [
              "Person  Age Sex ChestPainType  ...  Oldpeak  ST_Slope  HeartDisease\n",
              "0        40   M           ATA  ...      0.0        Up             0\n",
              "1        49   F           NAP  ...      1.0      Flat             1\n",
              "2        37   M           ATA  ...      0.0        Up             0\n",
              "3        48   F           ASY  ...      1.5      Flat             1\n",
              "4        54   M           NAP  ...      0.0        Up             0\n",
              "..      ...  ..           ...  ...      ...       ...           ...\n",
              "913      45   M            TA  ...      1.2      Flat             1\n",
              "914      68   M           ASY  ...      3.4      Flat             1\n",
              "915      57   M           ASY  ...      1.2      Flat             1\n",
              "916      57   F           ATA  ...      0.0      Flat             1\n",
              "917      38   M           NAP  ...      0.0        Up             0\n",
              "\n",
              "[918 rows x 12 columns]"
            ]
          },
          "metadata": {},
          "execution_count": 95
        }
      ]
    },
    {
      "cell_type": "code",
      "source": [
        "# verificando se há valores que não fazem sentido em 'RestingEC'\n",
        "df1.groupby('RestingECG').RestingECG.count()"
      ],
      "metadata": {
        "colab": {
          "base_uri": "https://localhost:8080/"
        },
        "id": "XAFvrrhSZ8fl",
        "outputId": "8ef44e8d-38cb-41a7-947b-b2478587afc7"
      },
      "execution_count": 96,
      "outputs": [
        {
          "output_type": "execute_result",
          "data": {
            "text/plain": [
              "RestingECG\n",
              "LVH       188\n",
              "Normal    552\n",
              "ST        178\n",
              "Name: RestingECG, dtype: int64"
            ]
          },
          "metadata": {},
          "execution_count": 96
        }
      ]
    },
    {
      "cell_type": "markdown",
      "source": [
        "Não há valores que não fazem sentido em 'RestingECG', pois se trata de categorias para a taxa do eletrocardiograma."
      ],
      "metadata": {
        "id": "m9enz2e5ieI7"
      }
    },
    {
      "cell_type": "code",
      "source": [
        "# verificando se há valores que não fazem sentido em 'MaxHR'\n",
        "df1.groupby('MaxHR').MaxHR.count()"
      ],
      "metadata": {
        "colab": {
          "base_uri": "https://localhost:8080/"
        },
        "id": "r0HkKChXazfi",
        "outputId": "8c311c71-03a2-4933-f5ab-9af95c971aac"
      },
      "execution_count": 97,
      "outputs": [
        {
          "output_type": "execute_result",
          "data": {
            "text/plain": [
              "MaxHR\n",
              "60     1\n",
              "63     1\n",
              "67     1\n",
              "69     1\n",
              "70     1\n",
              "      ..\n",
              "190    2\n",
              "192    1\n",
              "194    1\n",
              "195    1\n",
              "202    1\n",
              "Name: MaxHR, Length: 119, dtype: int64"
            ]
          },
          "metadata": {},
          "execution_count": 97
        }
      ]
    },
    {
      "cell_type": "markdown",
      "source": [
        "Não há valores que não fazem sentido em 'MaxHR', não há absurdos como valores extremamente baixos ou extremamente baixos de frequência cardíaca máxima (maxHR). "
      ],
      "metadata": {
        "id": "o5OLL__ujSYl"
      }
    },
    {
      "cell_type": "code",
      "source": [
        "# verificando se há valores que não fazem sentido em 'ExerciseAngina'\n",
        "df1.groupby('ExerciseAngina').ExerciseAngina.count()"
      ],
      "metadata": {
        "colab": {
          "base_uri": "https://localhost:8080/"
        },
        "id": "vK0RIU4fi5eZ",
        "outputId": "e91bfc8b-74f5-4598-c4de-3fda8c61cf34"
      },
      "execution_count": 98,
      "outputs": [
        {
          "output_type": "execute_result",
          "data": {
            "text/plain": [
              "ExerciseAngina\n",
              "N    547\n",
              "Y    371\n",
              "Name: ExerciseAngina, dtype: int64"
            ]
          },
          "metadata": {},
          "execution_count": 98
        }
      ]
    },
    {
      "cell_type": "markdown",
      "source": [
        "Não há valores estranhos para 'ExerciseAngina', já que é possível ter essa dor no peito ou não (angina). "
      ],
      "metadata": {
        "id": "JrgLRDA5mJBr"
      }
    },
    {
      "cell_type": "code",
      "source": [
        "# verificando se há valores que não fazem sentido em 'Oldpeak'\n",
        "# no âmbito médico, o oldpeak possui um range de aproximadamente [0-6] para valores positivos e negativos\n",
        "\n",
        "df1.groupby('Oldpeak').Oldpeak.count()"
      ],
      "metadata": {
        "colab": {
          "base_uri": "https://localhost:8080/"
        },
        "id": "yv4ugqMFmA47",
        "outputId": "63e273a9-a24e-4e8f-95c5-02d73e65723e"
      },
      "execution_count": 99,
      "outputs": [
        {
          "output_type": "execute_result",
          "data": {
            "text/plain": [
              "Oldpeak\n",
              "-2.6      1\n",
              "-2.0      1\n",
              "-1.5      1\n",
              "-1.1      1\n",
              "-1.0      2\n",
              "-0.9      1\n",
              "-0.8      1\n",
              "-0.7      1\n",
              "-0.5      2\n",
              "-0.1      2\n",
              " 0.0    368\n",
              " 0.1     14\n",
              " 0.2     22\n",
              " 0.3     11\n",
              " 0.4     11\n",
              " 0.5     19\n",
              " 0.6     14\n",
              " 0.7      7\n",
              " 0.8     16\n",
              " 0.9      4\n",
              " 1.0     86\n",
              " 1.1      7\n",
              " 1.2     26\n",
              " 1.3      7\n",
              " 1.4     18\n",
              " 1.5     53\n",
              " 1.6     16\n",
              " 1.7      6\n",
              " 1.8     17\n",
              " 1.9      7\n",
              " 2.0     76\n",
              " 2.1      2\n",
              " 2.2      5\n",
              " 2.3      2\n",
              " 2.4      4\n",
              " 2.5     16\n",
              " 2.6      7\n",
              " 2.8      7\n",
              " 2.9      1\n",
              " 3.0     28\n",
              " 3.1      1\n",
              " 3.2      2\n",
              " 3.4      3\n",
              " 3.5      2\n",
              " 3.6      4\n",
              " 3.7      1\n",
              " 3.8      1\n",
              " 4.0      8\n",
              " 4.2      2\n",
              " 4.4      1\n",
              " 5.0      1\n",
              " 5.6      1\n",
              " 6.2      1\n",
              "Name: Oldpeak, dtype: int64"
            ]
          },
          "metadata": {},
          "execution_count": 99
        }
      ]
    },
    {
      "cell_type": "markdown",
      "source": [
        "Os dados estão no range aproximado de [0-6], que é depressão ST induzida por exercício relativo ao descansar. "
      ],
      "metadata": {
        "id": "RZcYMxjp3kzt"
      }
    },
    {
      "cell_type": "code",
      "source": [
        "# verificando se há dados que não fazem sentido em 'ST_Slope'\n",
        "df1.groupby('ST_Slope').ST_Slope.count()"
      ],
      "metadata": {
        "colab": {
          "base_uri": "https://localhost:8080/"
        },
        "id": "YcAbgtTI3kiw",
        "outputId": "d0fdfa1f-ebdf-4d2c-bb34-2d121c1f050d"
      },
      "execution_count": 100,
      "outputs": [
        {
          "output_type": "execute_result",
          "data": {
            "text/plain": [
              "ST_Slope\n",
              "Down     63\n",
              "Flat    460\n",
              "Up      395\n",
              "Name: ST_Slope, dtype: int64"
            ]
          },
          "metadata": {},
          "execution_count": 100
        }
      ]
    },
    {
      "cell_type": "markdown",
      "source": [
        "Não há dados que não fazem sentido em 'ST_Slope. Trata-se de uma variável categórica da inclinação ST do eletrocardiograma (ST é um tipo de inclinação no eletrocardiograma). \n",
        "Segue um exemplo: \n",
        "\n",
        "\n",
        "\n",
        "\n",
        "![image.png](data:image/png;base64,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)"
      ],
      "metadata": {
        "id": "G_9sw3686N3T"
      }
    },
    {
      "cell_type": "code",
      "source": [
        "# verificando se há valores que não fazem sentido em 'HeartDisease'\n",
        "df1.groupby('HeartDisease').HeartDisease.count()"
      ],
      "metadata": {
        "colab": {
          "base_uri": "https://localhost:8080/"
        },
        "id": "fjxjFwzqmrKY",
        "outputId": "e2a33e74-e4f6-4c7c-e6cb-00a20a35ccfb"
      },
      "execution_count": 101,
      "outputs": [
        {
          "output_type": "execute_result",
          "data": {
            "text/plain": [
              "HeartDisease\n",
              "0    410\n",
              "1    508\n",
              "Name: HeartDisease, dtype: int64"
            ]
          },
          "metadata": {},
          "execution_count": 101
        }
      ]
    },
    {
      "cell_type": "markdown",
      "source": [
        "Não há variáveis que não fazem sentido em 'HeartDisease'. Trata-se de uma variável booleana que indica 1 para ter uma doença cardíaca e 0 para não ter. "
      ],
      "metadata": {
        "id": "vy6J2OHC7duk"
      }
    },
    {
      "cell_type": "markdown",
      "source": [
        "----------------------------------------------------------------------------------------------------------------------------------------\n",
        "\n"
      ],
      "metadata": {
        "id": "6J0aGmuzNDoB"
      }
    },
    {
      "cell_type": "markdown",
      "source": [
        "Todo o Dataset será normalizado a fim de evitar escalas muito diferentes na Data Visualization. De um modo geral, a normalização torna a análise de dados mais precisa e refinada."
      ],
      "metadata": {
        "id": "wFN3Xa2rOFga"
      }
    },
    {
      "cell_type": "markdown",
      "source": [
        "É importante mencionar que não é interessante normalizar dados categóricos, a não ser que tais dados estejam estritamente relacionados com distâncias (o que não é o caso desse Dataset). Deste modo, os dados categóricos (nominais, ordinais ou quantitativos) não serão normalizados."
      ],
      "metadata": {
        "id": "GNy3P4wBQ-Sk"
      }
    },
    {
      "cell_type": "markdown",
      "source": [
        "**O df1 não será alterado, mas sim um outro data frame (df1_norm) será gerado para, durante manipulações futuras que não envolvam plotagem de gráficos, que as conclusões sejam mais visuais ao olho humano. Normalizar é importante para que as escalas dos gráficos não fiquem muito estranhas. Porém, para manipulações convencionais, é melhor ver os dados com valores originais para facilitar a visualização.**"
      ],
      "metadata": {
        "id": "hs2iZcV77lcJ"
      }
    },
    {
      "cell_type": "markdown",
      "source": [
        "Fórmula da normalização min-max: **(df1['column'] - df1['column'].min())/(df1['column'].max() - df1['column'].min())**."
      ],
      "metadata": {
        "id": "wcFcp0hQSx1T"
      }
    },
    {
      "cell_type": "code",
      "source": [
        "# é melhor não normalizar a coluna 'Age', pois os dados ficam pouco visuais normalizados\n",
        "\n",
        "# df1_norm['Age'] = ((df1['Age'] - df1['Age'].mean())/df1['Age'].std()).round(2)\n",
        "# df1_norm.head(5) # verificando se houve a normalização"
      ],
      "metadata": {
        "id": "8t0YZh4iOA6H"
      },
      "execution_count": 102,
      "outputs": []
    },
    {
      "cell_type": "code",
      "source": [
        "df1_norm['RestingBP'] = ((df1['RestingBP'] - df1['RestingBP'].min())/(df1['RestingBP'].max() - df1['RestingBP'].min())).round(3)\n",
        "df1_norm.head(5) # verificando se houve a normalização"
      ],
      "metadata": {
        "colab": {
          "base_uri": "https://localhost:8080/",
          "height": 206
        },
        "id": "vMUrdsYJPrcR",
        "outputId": "ce6c2dd9-cfa1-4eec-cac2-5feafd865de3"
      },
      "execution_count": 103,
      "outputs": [
        {
          "output_type": "execute_result",
          "data": {
            "text/html": [
              "\n",
              "  <div id=\"df-e5e7be6a-00ba-415c-9033-c38e9f4e39b9\">\n",
              "    <div class=\"colab-df-container\">\n",
              "      <div>\n",
              "<style scoped>\n",
              "    .dataframe tbody tr th:only-of-type {\n",
              "        vertical-align: middle;\n",
              "    }\n",
              "\n",
              "    .dataframe tbody tr th {\n",
              "        vertical-align: top;\n",
              "    }\n",
              "\n",
              "    .dataframe thead th {\n",
              "        text-align: right;\n",
              "    }\n",
              "</style>\n",
              "<table border=\"1\" class=\"dataframe\">\n",
              "  <thead>\n",
              "    <tr style=\"text-align: right;\">\n",
              "      <th></th>\n",
              "      <th>Age</th>\n",
              "      <th>Sex</th>\n",
              "      <th>ChestPainType</th>\n",
              "      <th>RestingBP</th>\n",
              "      <th>Cholesterol</th>\n",
              "      <th>FastingBS</th>\n",
              "      <th>RestingECG</th>\n",
              "      <th>MaxHR</th>\n",
              "      <th>ExerciseAngina</th>\n",
              "      <th>Oldpeak</th>\n",
              "      <th>ST_Slope</th>\n",
              "      <th>HeartDisease</th>\n",
              "    </tr>\n",
              "  </thead>\n",
              "  <tbody>\n",
              "    <tr>\n",
              "      <th>0</th>\n",
              "      <td>40</td>\n",
              "      <td>M</td>\n",
              "      <td>ATA</td>\n",
              "      <td>0.500</td>\n",
              "      <td>289.0</td>\n",
              "      <td>0.233115</td>\n",
              "      <td>Normal</td>\n",
              "      <td>172</td>\n",
              "      <td>N</td>\n",
              "      <td>0.0</td>\n",
              "      <td>Up</td>\n",
              "      <td>0</td>\n",
              "    </tr>\n",
              "    <tr>\n",
              "      <th>1</th>\n",
              "      <td>49</td>\n",
              "      <td>F</td>\n",
              "      <td>NAP</td>\n",
              "      <td>0.667</td>\n",
              "      <td>180.0</td>\n",
              "      <td>0.233115</td>\n",
              "      <td>Normal</td>\n",
              "      <td>156</td>\n",
              "      <td>N</td>\n",
              "      <td>1.0</td>\n",
              "      <td>Flat</td>\n",
              "      <td>1</td>\n",
              "    </tr>\n",
              "    <tr>\n",
              "      <th>2</th>\n",
              "      <td>37</td>\n",
              "      <td>M</td>\n",
              "      <td>ATA</td>\n",
              "      <td>0.417</td>\n",
              "      <td>283.0</td>\n",
              "      <td>0.233115</td>\n",
              "      <td>ST</td>\n",
              "      <td>98</td>\n",
              "      <td>N</td>\n",
              "      <td>0.0</td>\n",
              "      <td>Up</td>\n",
              "      <td>0</td>\n",
              "    </tr>\n",
              "    <tr>\n",
              "      <th>3</th>\n",
              "      <td>48</td>\n",
              "      <td>F</td>\n",
              "      <td>ASY</td>\n",
              "      <td>0.483</td>\n",
              "      <td>214.0</td>\n",
              "      <td>0.233115</td>\n",
              "      <td>Normal</td>\n",
              "      <td>108</td>\n",
              "      <td>Y</td>\n",
              "      <td>1.5</td>\n",
              "      <td>Flat</td>\n",
              "      <td>1</td>\n",
              "    </tr>\n",
              "    <tr>\n",
              "      <th>4</th>\n",
              "      <td>54</td>\n",
              "      <td>M</td>\n",
              "      <td>NAP</td>\n",
              "      <td>0.583</td>\n",
              "      <td>195.0</td>\n",
              "      <td>0.233115</td>\n",
              "      <td>Normal</td>\n",
              "      <td>122</td>\n",
              "      <td>N</td>\n",
              "      <td>0.0</td>\n",
              "      <td>Up</td>\n",
              "      <td>0</td>\n",
              "    </tr>\n",
              "  </tbody>\n",
              "</table>\n",
              "</div>\n",
              "      <button class=\"colab-df-convert\" onclick=\"convertToInteractive('df-e5e7be6a-00ba-415c-9033-c38e9f4e39b9')\"\n",
              "              title=\"Convert this dataframe to an interactive table.\"\n",
              "              style=\"display:none;\">\n",
              "        \n",
              "  <svg xmlns=\"http://www.w3.org/2000/svg\" height=\"24px\"viewBox=\"0 0 24 24\"\n",
              "       width=\"24px\">\n",
              "    <path d=\"M0 0h24v24H0V0z\" fill=\"none\"/>\n",
              "    <path d=\"M18.56 5.44l.94 2.06.94-2.06 2.06-.94-2.06-.94-.94-2.06-.94 2.06-2.06.94zm-11 1L8.5 8.5l.94-2.06 2.06-.94-2.06-.94L8.5 2.5l-.94 2.06-2.06.94zm10 10l.94 2.06.94-2.06 2.06-.94-2.06-.94-.94-2.06-.94 2.06-2.06.94z\"/><path d=\"M17.41 7.96l-1.37-1.37c-.4-.4-.92-.59-1.43-.59-.52 0-1.04.2-1.43.59L10.3 9.45l-7.72 7.72c-.78.78-.78 2.05 0 2.83L4 21.41c.39.39.9.59 1.41.59.51 0 1.02-.2 1.41-.59l7.78-7.78 2.81-2.81c.8-.78.8-2.07 0-2.86zM5.41 20L4 18.59l7.72-7.72 1.47 1.35L5.41 20z\"/>\n",
              "  </svg>\n",
              "      </button>\n",
              "      \n",
              "  <style>\n",
              "    .colab-df-container {\n",
              "      display:flex;\n",
              "      flex-wrap:wrap;\n",
              "      gap: 12px;\n",
              "    }\n",
              "\n",
              "    .colab-df-convert {\n",
              "      background-color: #E8F0FE;\n",
              "      border: none;\n",
              "      border-radius: 50%;\n",
              "      cursor: pointer;\n",
              "      display: none;\n",
              "      fill: #1967D2;\n",
              "      height: 32px;\n",
              "      padding: 0 0 0 0;\n",
              "      width: 32px;\n",
              "    }\n",
              "\n",
              "    .colab-df-convert:hover {\n",
              "      background-color: #E2EBFA;\n",
              "      box-shadow: 0px 1px 2px rgba(60, 64, 67, 0.3), 0px 1px 3px 1px rgba(60, 64, 67, 0.15);\n",
              "      fill: #174EA6;\n",
              "    }\n",
              "\n",
              "    [theme=dark] .colab-df-convert {\n",
              "      background-color: #3B4455;\n",
              "      fill: #D2E3FC;\n",
              "    }\n",
              "\n",
              "    [theme=dark] .colab-df-convert:hover {\n",
              "      background-color: #434B5C;\n",
              "      box-shadow: 0px 1px 3px 1px rgba(0, 0, 0, 0.15);\n",
              "      filter: drop-shadow(0px 1px 2px rgba(0, 0, 0, 0.3));\n",
              "      fill: #FFFFFF;\n",
              "    }\n",
              "  </style>\n",
              "\n",
              "      <script>\n",
              "        const buttonEl =\n",
              "          document.querySelector('#df-e5e7be6a-00ba-415c-9033-c38e9f4e39b9 button.colab-df-convert');\n",
              "        buttonEl.style.display =\n",
              "          google.colab.kernel.accessAllowed ? 'block' : 'none';\n",
              "\n",
              "        async function convertToInteractive(key) {\n",
              "          const element = document.querySelector('#df-e5e7be6a-00ba-415c-9033-c38e9f4e39b9');\n",
              "          const dataTable =\n",
              "            await google.colab.kernel.invokeFunction('convertToInteractive',\n",
              "                                                     [key], {});\n",
              "          if (!dataTable) return;\n",
              "\n",
              "          const docLinkHtml = 'Like what you see? Visit the ' +\n",
              "            '<a target=\"_blank\" href=https://colab.research.google.com/notebooks/data_table.ipynb>data table notebook</a>'\n",
              "            + ' to learn more about interactive tables.';\n",
              "          element.innerHTML = '';\n",
              "          dataTable['output_type'] = 'display_data';\n",
              "          await google.colab.output.renderOutput(dataTable, element);\n",
              "          const docLink = document.createElement('div');\n",
              "          docLink.innerHTML = docLinkHtml;\n",
              "          element.appendChild(docLink);\n",
              "        }\n",
              "      </script>\n",
              "    </div>\n",
              "  </div>\n",
              "  "
            ],
            "text/plain": [
              "   Age Sex ChestPainType  ...  Oldpeak  ST_Slope  HeartDisease\n",
              "0   40   M           ATA  ...      0.0        Up             0\n",
              "1   49   F           NAP  ...      1.0      Flat             1\n",
              "2   37   M           ATA  ...      0.0        Up             0\n",
              "3   48   F           ASY  ...      1.5      Flat             1\n",
              "4   54   M           NAP  ...      0.0        Up             0\n",
              "\n",
              "[5 rows x 12 columns]"
            ]
          },
          "metadata": {},
          "execution_count": 103
        }
      ]
    },
    {
      "cell_type": "code",
      "source": [
        "df1_norm['Cholesterol'] = ((df1['Cholesterol'] - df1['Cholesterol'].min())/(df1['Cholesterol'].max() - df1['Cholesterol'].min())).round(3)\n",
        "df1_norm.head(5) # verificando se houve a normalização"
      ],
      "metadata": {
        "colab": {
          "base_uri": "https://localhost:8080/",
          "height": 206
        },
        "id": "Fp5FUtU8SHcU",
        "outputId": "5b0133e8-1279-47af-ec6e-44d827f2fc87"
      },
      "execution_count": 104,
      "outputs": [
        {
          "output_type": "execute_result",
          "data": {
            "text/html": [
              "\n",
              "  <div id=\"df-51f9fffd-8a20-4313-8ec3-325eb4309301\">\n",
              "    <div class=\"colab-df-container\">\n",
              "      <div>\n",
              "<style scoped>\n",
              "    .dataframe tbody tr th:only-of-type {\n",
              "        vertical-align: middle;\n",
              "    }\n",
              "\n",
              "    .dataframe tbody tr th {\n",
              "        vertical-align: top;\n",
              "    }\n",
              "\n",
              "    .dataframe thead th {\n",
              "        text-align: right;\n",
              "    }\n",
              "</style>\n",
              "<table border=\"1\" class=\"dataframe\">\n",
              "  <thead>\n",
              "    <tr style=\"text-align: right;\">\n",
              "      <th></th>\n",
              "      <th>Age</th>\n",
              "      <th>Sex</th>\n",
              "      <th>ChestPainType</th>\n",
              "      <th>RestingBP</th>\n",
              "      <th>Cholesterol</th>\n",
              "      <th>FastingBS</th>\n",
              "      <th>RestingECG</th>\n",
              "      <th>MaxHR</th>\n",
              "      <th>ExerciseAngina</th>\n",
              "      <th>Oldpeak</th>\n",
              "      <th>ST_Slope</th>\n",
              "      <th>HeartDisease</th>\n",
              "    </tr>\n",
              "  </thead>\n",
              "  <tbody>\n",
              "    <tr>\n",
              "      <th>0</th>\n",
              "      <td>40</td>\n",
              "      <td>M</td>\n",
              "      <td>ATA</td>\n",
              "      <td>0.500</td>\n",
              "      <td>0.394</td>\n",
              "      <td>0.233115</td>\n",
              "      <td>Normal</td>\n",
              "      <td>172</td>\n",
              "      <td>N</td>\n",
              "      <td>0.0</td>\n",
              "      <td>Up</td>\n",
              "      <td>0</td>\n",
              "    </tr>\n",
              "    <tr>\n",
              "      <th>1</th>\n",
              "      <td>49</td>\n",
              "      <td>F</td>\n",
              "      <td>NAP</td>\n",
              "      <td>0.667</td>\n",
              "      <td>0.183</td>\n",
              "      <td>0.233115</td>\n",
              "      <td>Normal</td>\n",
              "      <td>156</td>\n",
              "      <td>N</td>\n",
              "      <td>1.0</td>\n",
              "      <td>Flat</td>\n",
              "      <td>1</td>\n",
              "    </tr>\n",
              "    <tr>\n",
              "      <th>2</th>\n",
              "      <td>37</td>\n",
              "      <td>M</td>\n",
              "      <td>ATA</td>\n",
              "      <td>0.417</td>\n",
              "      <td>0.382</td>\n",
              "      <td>0.233115</td>\n",
              "      <td>ST</td>\n",
              "      <td>98</td>\n",
              "      <td>N</td>\n",
              "      <td>0.0</td>\n",
              "      <td>Up</td>\n",
              "      <td>0</td>\n",
              "    </tr>\n",
              "    <tr>\n",
              "      <th>3</th>\n",
              "      <td>48</td>\n",
              "      <td>F</td>\n",
              "      <td>ASY</td>\n",
              "      <td>0.483</td>\n",
              "      <td>0.249</td>\n",
              "      <td>0.233115</td>\n",
              "      <td>Normal</td>\n",
              "      <td>108</td>\n",
              "      <td>Y</td>\n",
              "      <td>1.5</td>\n",
              "      <td>Flat</td>\n",
              "      <td>1</td>\n",
              "    </tr>\n",
              "    <tr>\n",
              "      <th>4</th>\n",
              "      <td>54</td>\n",
              "      <td>M</td>\n",
              "      <td>NAP</td>\n",
              "      <td>0.583</td>\n",
              "      <td>0.212</td>\n",
              "      <td>0.233115</td>\n",
              "      <td>Normal</td>\n",
              "      <td>122</td>\n",
              "      <td>N</td>\n",
              "      <td>0.0</td>\n",
              "      <td>Up</td>\n",
              "      <td>0</td>\n",
              "    </tr>\n",
              "  </tbody>\n",
              "</table>\n",
              "</div>\n",
              "      <button class=\"colab-df-convert\" onclick=\"convertToInteractive('df-51f9fffd-8a20-4313-8ec3-325eb4309301')\"\n",
              "              title=\"Convert this dataframe to an interactive table.\"\n",
              "              style=\"display:none;\">\n",
              "        \n",
              "  <svg xmlns=\"http://www.w3.org/2000/svg\" height=\"24px\"viewBox=\"0 0 24 24\"\n",
              "       width=\"24px\">\n",
              "    <path d=\"M0 0h24v24H0V0z\" fill=\"none\"/>\n",
              "    <path d=\"M18.56 5.44l.94 2.06.94-2.06 2.06-.94-2.06-.94-.94-2.06-.94 2.06-2.06.94zm-11 1L8.5 8.5l.94-2.06 2.06-.94-2.06-.94L8.5 2.5l-.94 2.06-2.06.94zm10 10l.94 2.06.94-2.06 2.06-.94-2.06-.94-.94-2.06-.94 2.06-2.06.94z\"/><path d=\"M17.41 7.96l-1.37-1.37c-.4-.4-.92-.59-1.43-.59-.52 0-1.04.2-1.43.59L10.3 9.45l-7.72 7.72c-.78.78-.78 2.05 0 2.83L4 21.41c.39.39.9.59 1.41.59.51 0 1.02-.2 1.41-.59l7.78-7.78 2.81-2.81c.8-.78.8-2.07 0-2.86zM5.41 20L4 18.59l7.72-7.72 1.47 1.35L5.41 20z\"/>\n",
              "  </svg>\n",
              "      </button>\n",
              "      \n",
              "  <style>\n",
              "    .colab-df-container {\n",
              "      display:flex;\n",
              "      flex-wrap:wrap;\n",
              "      gap: 12px;\n",
              "    }\n",
              "\n",
              "    .colab-df-convert {\n",
              "      background-color: #E8F0FE;\n",
              "      border: none;\n",
              "      border-radius: 50%;\n",
              "      cursor: pointer;\n",
              "      display: none;\n",
              "      fill: #1967D2;\n",
              "      height: 32px;\n",
              "      padding: 0 0 0 0;\n",
              "      width: 32px;\n",
              "    }\n",
              "\n",
              "    .colab-df-convert:hover {\n",
              "      background-color: #E2EBFA;\n",
              "      box-shadow: 0px 1px 2px rgba(60, 64, 67, 0.3), 0px 1px 3px 1px rgba(60, 64, 67, 0.15);\n",
              "      fill: #174EA6;\n",
              "    }\n",
              "\n",
              "    [theme=dark] .colab-df-convert {\n",
              "      background-color: #3B4455;\n",
              "      fill: #D2E3FC;\n",
              "    }\n",
              "\n",
              "    [theme=dark] .colab-df-convert:hover {\n",
              "      background-color: #434B5C;\n",
              "      box-shadow: 0px 1px 3px 1px rgba(0, 0, 0, 0.15);\n",
              "      filter: drop-shadow(0px 1px 2px rgba(0, 0, 0, 0.3));\n",
              "      fill: #FFFFFF;\n",
              "    }\n",
              "  </style>\n",
              "\n",
              "      <script>\n",
              "        const buttonEl =\n",
              "          document.querySelector('#df-51f9fffd-8a20-4313-8ec3-325eb4309301 button.colab-df-convert');\n",
              "        buttonEl.style.display =\n",
              "          google.colab.kernel.accessAllowed ? 'block' : 'none';\n",
              "\n",
              "        async function convertToInteractive(key) {\n",
              "          const element = document.querySelector('#df-51f9fffd-8a20-4313-8ec3-325eb4309301');\n",
              "          const dataTable =\n",
              "            await google.colab.kernel.invokeFunction('convertToInteractive',\n",
              "                                                     [key], {});\n",
              "          if (!dataTable) return;\n",
              "\n",
              "          const docLinkHtml = 'Like what you see? Visit the ' +\n",
              "            '<a target=\"_blank\" href=https://colab.research.google.com/notebooks/data_table.ipynb>data table notebook</a>'\n",
              "            + ' to learn more about interactive tables.';\n",
              "          element.innerHTML = '';\n",
              "          dataTable['output_type'] = 'display_data';\n",
              "          await google.colab.output.renderOutput(dataTable, element);\n",
              "          const docLink = document.createElement('div');\n",
              "          docLink.innerHTML = docLinkHtml;\n",
              "          element.appendChild(docLink);\n",
              "        }\n",
              "      </script>\n",
              "    </div>\n",
              "  </div>\n",
              "  "
            ],
            "text/plain": [
              "   Age Sex ChestPainType  ...  Oldpeak  ST_Slope  HeartDisease\n",
              "0   40   M           ATA  ...      0.0        Up             0\n",
              "1   49   F           NAP  ...      1.0      Flat             1\n",
              "2   37   M           ATA  ...      0.0        Up             0\n",
              "3   48   F           ASY  ...      1.5      Flat             1\n",
              "4   54   M           NAP  ...      0.0        Up             0\n",
              "\n",
              "[5 rows x 12 columns]"
            ]
          },
          "metadata": {},
          "execution_count": 104
        }
      ]
    },
    {
      "cell_type": "code",
      "source": [
        "df1_norm['MaxHR'] = ((df1['MaxHR'] - df1['MaxHR'].min())/(df1['MaxHR'].max() - df1['MaxHR'].min())).round(3)\n",
        "df1_norm.head(5) # verificando se houve a normalização"
      ],
      "metadata": {
        "colab": {
          "base_uri": "https://localhost:8080/",
          "height": 206
        },
        "id": "iV4K27euST3f",
        "outputId": "827c0ed1-9218-4df0-f6b8-12c0014143a6"
      },
      "execution_count": 105,
      "outputs": [
        {
          "output_type": "execute_result",
          "data": {
            "text/html": [
              "\n",
              "  <div id=\"df-21a3f2aa-aba9-485d-86c4-956e225d221b\">\n",
              "    <div class=\"colab-df-container\">\n",
              "      <div>\n",
              "<style scoped>\n",
              "    .dataframe tbody tr th:only-of-type {\n",
              "        vertical-align: middle;\n",
              "    }\n",
              "\n",
              "    .dataframe tbody tr th {\n",
              "        vertical-align: top;\n",
              "    }\n",
              "\n",
              "    .dataframe thead th {\n",
              "        text-align: right;\n",
              "    }\n",
              "</style>\n",
              "<table border=\"1\" class=\"dataframe\">\n",
              "  <thead>\n",
              "    <tr style=\"text-align: right;\">\n",
              "      <th></th>\n",
              "      <th>Age</th>\n",
              "      <th>Sex</th>\n",
              "      <th>ChestPainType</th>\n",
              "      <th>RestingBP</th>\n",
              "      <th>Cholesterol</th>\n",
              "      <th>FastingBS</th>\n",
              "      <th>RestingECG</th>\n",
              "      <th>MaxHR</th>\n",
              "      <th>ExerciseAngina</th>\n",
              "      <th>Oldpeak</th>\n",
              "      <th>ST_Slope</th>\n",
              "      <th>HeartDisease</th>\n",
              "    </tr>\n",
              "  </thead>\n",
              "  <tbody>\n",
              "    <tr>\n",
              "      <th>0</th>\n",
              "      <td>40</td>\n",
              "      <td>M</td>\n",
              "      <td>ATA</td>\n",
              "      <td>0.500</td>\n",
              "      <td>0.394</td>\n",
              "      <td>0.233115</td>\n",
              "      <td>Normal</td>\n",
              "      <td>0.789</td>\n",
              "      <td>N</td>\n",
              "      <td>0.0</td>\n",
              "      <td>Up</td>\n",
              "      <td>0</td>\n",
              "    </tr>\n",
              "    <tr>\n",
              "      <th>1</th>\n",
              "      <td>49</td>\n",
              "      <td>F</td>\n",
              "      <td>NAP</td>\n",
              "      <td>0.667</td>\n",
              "      <td>0.183</td>\n",
              "      <td>0.233115</td>\n",
              "      <td>Normal</td>\n",
              "      <td>0.676</td>\n",
              "      <td>N</td>\n",
              "      <td>1.0</td>\n",
              "      <td>Flat</td>\n",
              "      <td>1</td>\n",
              "    </tr>\n",
              "    <tr>\n",
              "      <th>2</th>\n",
              "      <td>37</td>\n",
              "      <td>M</td>\n",
              "      <td>ATA</td>\n",
              "      <td>0.417</td>\n",
              "      <td>0.382</td>\n",
              "      <td>0.233115</td>\n",
              "      <td>ST</td>\n",
              "      <td>0.268</td>\n",
              "      <td>N</td>\n",
              "      <td>0.0</td>\n",
              "      <td>Up</td>\n",
              "      <td>0</td>\n",
              "    </tr>\n",
              "    <tr>\n",
              "      <th>3</th>\n",
              "      <td>48</td>\n",
              "      <td>F</td>\n",
              "      <td>ASY</td>\n",
              "      <td>0.483</td>\n",
              "      <td>0.249</td>\n",
              "      <td>0.233115</td>\n",
              "      <td>Normal</td>\n",
              "      <td>0.338</td>\n",
              "      <td>Y</td>\n",
              "      <td>1.5</td>\n",
              "      <td>Flat</td>\n",
              "      <td>1</td>\n",
              "    </tr>\n",
              "    <tr>\n",
              "      <th>4</th>\n",
              "      <td>54</td>\n",
              "      <td>M</td>\n",
              "      <td>NAP</td>\n",
              "      <td>0.583</td>\n",
              "      <td>0.212</td>\n",
              "      <td>0.233115</td>\n",
              "      <td>Normal</td>\n",
              "      <td>0.437</td>\n",
              "      <td>N</td>\n",
              "      <td>0.0</td>\n",
              "      <td>Up</td>\n",
              "      <td>0</td>\n",
              "    </tr>\n",
              "  </tbody>\n",
              "</table>\n",
              "</div>\n",
              "      <button class=\"colab-df-convert\" onclick=\"convertToInteractive('df-21a3f2aa-aba9-485d-86c4-956e225d221b')\"\n",
              "              title=\"Convert this dataframe to an interactive table.\"\n",
              "              style=\"display:none;\">\n",
              "        \n",
              "  <svg xmlns=\"http://www.w3.org/2000/svg\" height=\"24px\"viewBox=\"0 0 24 24\"\n",
              "       width=\"24px\">\n",
              "    <path d=\"M0 0h24v24H0V0z\" fill=\"none\"/>\n",
              "    <path d=\"M18.56 5.44l.94 2.06.94-2.06 2.06-.94-2.06-.94-.94-2.06-.94 2.06-2.06.94zm-11 1L8.5 8.5l.94-2.06 2.06-.94-2.06-.94L8.5 2.5l-.94 2.06-2.06.94zm10 10l.94 2.06.94-2.06 2.06-.94-2.06-.94-.94-2.06-.94 2.06-2.06.94z\"/><path d=\"M17.41 7.96l-1.37-1.37c-.4-.4-.92-.59-1.43-.59-.52 0-1.04.2-1.43.59L10.3 9.45l-7.72 7.72c-.78.78-.78 2.05 0 2.83L4 21.41c.39.39.9.59 1.41.59.51 0 1.02-.2 1.41-.59l7.78-7.78 2.81-2.81c.8-.78.8-2.07 0-2.86zM5.41 20L4 18.59l7.72-7.72 1.47 1.35L5.41 20z\"/>\n",
              "  </svg>\n",
              "      </button>\n",
              "      \n",
              "  <style>\n",
              "    .colab-df-container {\n",
              "      display:flex;\n",
              "      flex-wrap:wrap;\n",
              "      gap: 12px;\n",
              "    }\n",
              "\n",
              "    .colab-df-convert {\n",
              "      background-color: #E8F0FE;\n",
              "      border: none;\n",
              "      border-radius: 50%;\n",
              "      cursor: pointer;\n",
              "      display: none;\n",
              "      fill: #1967D2;\n",
              "      height: 32px;\n",
              "      padding: 0 0 0 0;\n",
              "      width: 32px;\n",
              "    }\n",
              "\n",
              "    .colab-df-convert:hover {\n",
              "      background-color: #E2EBFA;\n",
              "      box-shadow: 0px 1px 2px rgba(60, 64, 67, 0.3), 0px 1px 3px 1px rgba(60, 64, 67, 0.15);\n",
              "      fill: #174EA6;\n",
              "    }\n",
              "\n",
              "    [theme=dark] .colab-df-convert {\n",
              "      background-color: #3B4455;\n",
              "      fill: #D2E3FC;\n",
              "    }\n",
              "\n",
              "    [theme=dark] .colab-df-convert:hover {\n",
              "      background-color: #434B5C;\n",
              "      box-shadow: 0px 1px 3px 1px rgba(0, 0, 0, 0.15);\n",
              "      filter: drop-shadow(0px 1px 2px rgba(0, 0, 0, 0.3));\n",
              "      fill: #FFFFFF;\n",
              "    }\n",
              "  </style>\n",
              "\n",
              "      <script>\n",
              "        const buttonEl =\n",
              "          document.querySelector('#df-21a3f2aa-aba9-485d-86c4-956e225d221b button.colab-df-convert');\n",
              "        buttonEl.style.display =\n",
              "          google.colab.kernel.accessAllowed ? 'block' : 'none';\n",
              "\n",
              "        async function convertToInteractive(key) {\n",
              "          const element = document.querySelector('#df-21a3f2aa-aba9-485d-86c4-956e225d221b');\n",
              "          const dataTable =\n",
              "            await google.colab.kernel.invokeFunction('convertToInteractive',\n",
              "                                                     [key], {});\n",
              "          if (!dataTable) return;\n",
              "\n",
              "          const docLinkHtml = 'Like what you see? Visit the ' +\n",
              "            '<a target=\"_blank\" href=https://colab.research.google.com/notebooks/data_table.ipynb>data table notebook</a>'\n",
              "            + ' to learn more about interactive tables.';\n",
              "          element.innerHTML = '';\n",
              "          dataTable['output_type'] = 'display_data';\n",
              "          await google.colab.output.renderOutput(dataTable, element);\n",
              "          const docLink = document.createElement('div');\n",
              "          docLink.innerHTML = docLinkHtml;\n",
              "          element.appendChild(docLink);\n",
              "        }\n",
              "      </script>\n",
              "    </div>\n",
              "  </div>\n",
              "  "
            ],
            "text/plain": [
              "   Age Sex ChestPainType  ...  Oldpeak  ST_Slope  HeartDisease\n",
              "0   40   M           ATA  ...      0.0        Up             0\n",
              "1   49   F           NAP  ...      1.0      Flat             1\n",
              "2   37   M           ATA  ...      0.0        Up             0\n",
              "3   48   F           ASY  ...      1.5      Flat             1\n",
              "4   54   M           NAP  ...      0.0        Up             0\n",
              "\n",
              "[5 rows x 12 columns]"
            ]
          },
          "metadata": {},
          "execution_count": 105
        }
      ]
    },
    {
      "cell_type": "code",
      "source": [
        "df1_norm['Oldpeak'] = ((df1['Oldpeak'] - df1['Oldpeak'].min())/(df1['Oldpeak'].max() - df1['Oldpeak'].min())).round(3)\n",
        "df1_norm.head(5) # verificando se houve a normalização"
      ],
      "metadata": {
        "colab": {
          "base_uri": "https://localhost:8080/",
          "height": 206
        },
        "id": "OH_4OsZDSiSD",
        "outputId": "12aa5d31-f029-41d5-90e1-eb8614e867c1"
      },
      "execution_count": 106,
      "outputs": [
        {
          "output_type": "execute_result",
          "data": {
            "text/html": [
              "\n",
              "  <div id=\"df-aa9daef3-11dc-4949-a7f8-08b64b62acc0\">\n",
              "    <div class=\"colab-df-container\">\n",
              "      <div>\n",
              "<style scoped>\n",
              "    .dataframe tbody tr th:only-of-type {\n",
              "        vertical-align: middle;\n",
              "    }\n",
              "\n",
              "    .dataframe tbody tr th {\n",
              "        vertical-align: top;\n",
              "    }\n",
              "\n",
              "    .dataframe thead th {\n",
              "        text-align: right;\n",
              "    }\n",
              "</style>\n",
              "<table border=\"1\" class=\"dataframe\">\n",
              "  <thead>\n",
              "    <tr style=\"text-align: right;\">\n",
              "      <th></th>\n",
              "      <th>Age</th>\n",
              "      <th>Sex</th>\n",
              "      <th>ChestPainType</th>\n",
              "      <th>RestingBP</th>\n",
              "      <th>Cholesterol</th>\n",
              "      <th>FastingBS</th>\n",
              "      <th>RestingECG</th>\n",
              "      <th>MaxHR</th>\n",
              "      <th>ExerciseAngina</th>\n",
              "      <th>Oldpeak</th>\n",
              "      <th>ST_Slope</th>\n",
              "      <th>HeartDisease</th>\n",
              "    </tr>\n",
              "  </thead>\n",
              "  <tbody>\n",
              "    <tr>\n",
              "      <th>0</th>\n",
              "      <td>40</td>\n",
              "      <td>M</td>\n",
              "      <td>ATA</td>\n",
              "      <td>0.500</td>\n",
              "      <td>0.394</td>\n",
              "      <td>0.233115</td>\n",
              "      <td>Normal</td>\n",
              "      <td>0.789</td>\n",
              "      <td>N</td>\n",
              "      <td>0.295</td>\n",
              "      <td>Up</td>\n",
              "      <td>0</td>\n",
              "    </tr>\n",
              "    <tr>\n",
              "      <th>1</th>\n",
              "      <td>49</td>\n",
              "      <td>F</td>\n",
              "      <td>NAP</td>\n",
              "      <td>0.667</td>\n",
              "      <td>0.183</td>\n",
              "      <td>0.233115</td>\n",
              "      <td>Normal</td>\n",
              "      <td>0.676</td>\n",
              "      <td>N</td>\n",
              "      <td>0.409</td>\n",
              "      <td>Flat</td>\n",
              "      <td>1</td>\n",
              "    </tr>\n",
              "    <tr>\n",
              "      <th>2</th>\n",
              "      <td>37</td>\n",
              "      <td>M</td>\n",
              "      <td>ATA</td>\n",
              "      <td>0.417</td>\n",
              "      <td>0.382</td>\n",
              "      <td>0.233115</td>\n",
              "      <td>ST</td>\n",
              "      <td>0.268</td>\n",
              "      <td>N</td>\n",
              "      <td>0.295</td>\n",
              "      <td>Up</td>\n",
              "      <td>0</td>\n",
              "    </tr>\n",
              "    <tr>\n",
              "      <th>3</th>\n",
              "      <td>48</td>\n",
              "      <td>F</td>\n",
              "      <td>ASY</td>\n",
              "      <td>0.483</td>\n",
              "      <td>0.249</td>\n",
              "      <td>0.233115</td>\n",
              "      <td>Normal</td>\n",
              "      <td>0.338</td>\n",
              "      <td>Y</td>\n",
              "      <td>0.466</td>\n",
              "      <td>Flat</td>\n",
              "      <td>1</td>\n",
              "    </tr>\n",
              "    <tr>\n",
              "      <th>4</th>\n",
              "      <td>54</td>\n",
              "      <td>M</td>\n",
              "      <td>NAP</td>\n",
              "      <td>0.583</td>\n",
              "      <td>0.212</td>\n",
              "      <td>0.233115</td>\n",
              "      <td>Normal</td>\n",
              "      <td>0.437</td>\n",
              "      <td>N</td>\n",
              "      <td>0.295</td>\n",
              "      <td>Up</td>\n",
              "      <td>0</td>\n",
              "    </tr>\n",
              "  </tbody>\n",
              "</table>\n",
              "</div>\n",
              "      <button class=\"colab-df-convert\" onclick=\"convertToInteractive('df-aa9daef3-11dc-4949-a7f8-08b64b62acc0')\"\n",
              "              title=\"Convert this dataframe to an interactive table.\"\n",
              "              style=\"display:none;\">\n",
              "        \n",
              "  <svg xmlns=\"http://www.w3.org/2000/svg\" height=\"24px\"viewBox=\"0 0 24 24\"\n",
              "       width=\"24px\">\n",
              "    <path d=\"M0 0h24v24H0V0z\" fill=\"none\"/>\n",
              "    <path d=\"M18.56 5.44l.94 2.06.94-2.06 2.06-.94-2.06-.94-.94-2.06-.94 2.06-2.06.94zm-11 1L8.5 8.5l.94-2.06 2.06-.94-2.06-.94L8.5 2.5l-.94 2.06-2.06.94zm10 10l.94 2.06.94-2.06 2.06-.94-2.06-.94-.94-2.06-.94 2.06-2.06.94z\"/><path d=\"M17.41 7.96l-1.37-1.37c-.4-.4-.92-.59-1.43-.59-.52 0-1.04.2-1.43.59L10.3 9.45l-7.72 7.72c-.78.78-.78 2.05 0 2.83L4 21.41c.39.39.9.59 1.41.59.51 0 1.02-.2 1.41-.59l7.78-7.78 2.81-2.81c.8-.78.8-2.07 0-2.86zM5.41 20L4 18.59l7.72-7.72 1.47 1.35L5.41 20z\"/>\n",
              "  </svg>\n",
              "      </button>\n",
              "      \n",
              "  <style>\n",
              "    .colab-df-container {\n",
              "      display:flex;\n",
              "      flex-wrap:wrap;\n",
              "      gap: 12px;\n",
              "    }\n",
              "\n",
              "    .colab-df-convert {\n",
              "      background-color: #E8F0FE;\n",
              "      border: none;\n",
              "      border-radius: 50%;\n",
              "      cursor: pointer;\n",
              "      display: none;\n",
              "      fill: #1967D2;\n",
              "      height: 32px;\n",
              "      padding: 0 0 0 0;\n",
              "      width: 32px;\n",
              "    }\n",
              "\n",
              "    .colab-df-convert:hover {\n",
              "      background-color: #E2EBFA;\n",
              "      box-shadow: 0px 1px 2px rgba(60, 64, 67, 0.3), 0px 1px 3px 1px rgba(60, 64, 67, 0.15);\n",
              "      fill: #174EA6;\n",
              "    }\n",
              "\n",
              "    [theme=dark] .colab-df-convert {\n",
              "      background-color: #3B4455;\n",
              "      fill: #D2E3FC;\n",
              "    }\n",
              "\n",
              "    [theme=dark] .colab-df-convert:hover {\n",
              "      background-color: #434B5C;\n",
              "      box-shadow: 0px 1px 3px 1px rgba(0, 0, 0, 0.15);\n",
              "      filter: drop-shadow(0px 1px 2px rgba(0, 0, 0, 0.3));\n",
              "      fill: #FFFFFF;\n",
              "    }\n",
              "  </style>\n",
              "\n",
              "      <script>\n",
              "        const buttonEl =\n",
              "          document.querySelector('#df-aa9daef3-11dc-4949-a7f8-08b64b62acc0 button.colab-df-convert');\n",
              "        buttonEl.style.display =\n",
              "          google.colab.kernel.accessAllowed ? 'block' : 'none';\n",
              "\n",
              "        async function convertToInteractive(key) {\n",
              "          const element = document.querySelector('#df-aa9daef3-11dc-4949-a7f8-08b64b62acc0');\n",
              "          const dataTable =\n",
              "            await google.colab.kernel.invokeFunction('convertToInteractive',\n",
              "                                                     [key], {});\n",
              "          if (!dataTable) return;\n",
              "\n",
              "          const docLinkHtml = 'Like what you see? Visit the ' +\n",
              "            '<a target=\"_blank\" href=https://colab.research.google.com/notebooks/data_table.ipynb>data table notebook</a>'\n",
              "            + ' to learn more about interactive tables.';\n",
              "          element.innerHTML = '';\n",
              "          dataTable['output_type'] = 'display_data';\n",
              "          await google.colab.output.renderOutput(dataTable, element);\n",
              "          const docLink = document.createElement('div');\n",
              "          docLink.innerHTML = docLinkHtml;\n",
              "          element.appendChild(docLink);\n",
              "        }\n",
              "      </script>\n",
              "    </div>\n",
              "  </div>\n",
              "  "
            ],
            "text/plain": [
              "   Age Sex ChestPainType  ...  Oldpeak  ST_Slope  HeartDisease\n",
              "0   40   M           ATA  ...    0.295        Up             0\n",
              "1   49   F           NAP  ...    0.409      Flat             1\n",
              "2   37   M           ATA  ...    0.295        Up             0\n",
              "3   48   F           ASY  ...    0.466      Flat             1\n",
              "4   54   M           NAP  ...    0.295        Up             0\n",
              "\n",
              "[5 rows x 12 columns]"
            ]
          },
          "metadata": {},
          "execution_count": 106
        }
      ]
    },
    {
      "cell_type": "code",
      "source": [
        "df1.head(3) # dataframe normalizado"
      ],
      "metadata": {
        "colab": {
          "base_uri": "https://localhost:8080/",
          "height": 143
        },
        "id": "ccZwNsroZhkt",
        "outputId": "aafc77c3-9e6f-41fc-fe38-e85e71262988"
      },
      "execution_count": 107,
      "outputs": [
        {
          "output_type": "execute_result",
          "data": {
            "text/html": [
              "\n",
              "  <div id=\"df-5e4f45f1-bc3c-4e86-8382-0430655af4c2\">\n",
              "    <div class=\"colab-df-container\">\n",
              "      <div>\n",
              "<style scoped>\n",
              "    .dataframe tbody tr th:only-of-type {\n",
              "        vertical-align: middle;\n",
              "    }\n",
              "\n",
              "    .dataframe tbody tr th {\n",
              "        vertical-align: top;\n",
              "    }\n",
              "\n",
              "    .dataframe thead th {\n",
              "        text-align: right;\n",
              "    }\n",
              "</style>\n",
              "<table border=\"1\" class=\"dataframe\">\n",
              "  <thead>\n",
              "    <tr style=\"text-align: right;\">\n",
              "      <th>Person</th>\n",
              "      <th>Age</th>\n",
              "      <th>Sex</th>\n",
              "      <th>ChestPainType</th>\n",
              "      <th>RestingBP</th>\n",
              "      <th>Cholesterol</th>\n",
              "      <th>FastingBS</th>\n",
              "      <th>RestingECG</th>\n",
              "      <th>MaxHR</th>\n",
              "      <th>ExerciseAngina</th>\n",
              "      <th>Oldpeak</th>\n",
              "      <th>ST_Slope</th>\n",
              "      <th>HeartDisease</th>\n",
              "    </tr>\n",
              "  </thead>\n",
              "  <tbody>\n",
              "    <tr>\n",
              "      <th>0</th>\n",
              "      <td>40</td>\n",
              "      <td>M</td>\n",
              "      <td>ATA</td>\n",
              "      <td>140.0</td>\n",
              "      <td>289.0</td>\n",
              "      <td>0.233115</td>\n",
              "      <td>Normal</td>\n",
              "      <td>172</td>\n",
              "      <td>N</td>\n",
              "      <td>0.0</td>\n",
              "      <td>Up</td>\n",
              "      <td>0</td>\n",
              "    </tr>\n",
              "    <tr>\n",
              "      <th>1</th>\n",
              "      <td>49</td>\n",
              "      <td>F</td>\n",
              "      <td>NAP</td>\n",
              "      <td>160.0</td>\n",
              "      <td>180.0</td>\n",
              "      <td>0.233115</td>\n",
              "      <td>Normal</td>\n",
              "      <td>156</td>\n",
              "      <td>N</td>\n",
              "      <td>1.0</td>\n",
              "      <td>Flat</td>\n",
              "      <td>1</td>\n",
              "    </tr>\n",
              "    <tr>\n",
              "      <th>2</th>\n",
              "      <td>37</td>\n",
              "      <td>M</td>\n",
              "      <td>ATA</td>\n",
              "      <td>130.0</td>\n",
              "      <td>283.0</td>\n",
              "      <td>0.233115</td>\n",
              "      <td>ST</td>\n",
              "      <td>98</td>\n",
              "      <td>N</td>\n",
              "      <td>0.0</td>\n",
              "      <td>Up</td>\n",
              "      <td>0</td>\n",
              "    </tr>\n",
              "  </tbody>\n",
              "</table>\n",
              "</div>\n",
              "      <button class=\"colab-df-convert\" onclick=\"convertToInteractive('df-5e4f45f1-bc3c-4e86-8382-0430655af4c2')\"\n",
              "              title=\"Convert this dataframe to an interactive table.\"\n",
              "              style=\"display:none;\">\n",
              "        \n",
              "  <svg xmlns=\"http://www.w3.org/2000/svg\" height=\"24px\"viewBox=\"0 0 24 24\"\n",
              "       width=\"24px\">\n",
              "    <path d=\"M0 0h24v24H0V0z\" fill=\"none\"/>\n",
              "    <path d=\"M18.56 5.44l.94 2.06.94-2.06 2.06-.94-2.06-.94-.94-2.06-.94 2.06-2.06.94zm-11 1L8.5 8.5l.94-2.06 2.06-.94-2.06-.94L8.5 2.5l-.94 2.06-2.06.94zm10 10l.94 2.06.94-2.06 2.06-.94-2.06-.94-.94-2.06-.94 2.06-2.06.94z\"/><path d=\"M17.41 7.96l-1.37-1.37c-.4-.4-.92-.59-1.43-.59-.52 0-1.04.2-1.43.59L10.3 9.45l-7.72 7.72c-.78.78-.78 2.05 0 2.83L4 21.41c.39.39.9.59 1.41.59.51 0 1.02-.2 1.41-.59l7.78-7.78 2.81-2.81c.8-.78.8-2.07 0-2.86zM5.41 20L4 18.59l7.72-7.72 1.47 1.35L5.41 20z\"/>\n",
              "  </svg>\n",
              "      </button>\n",
              "      \n",
              "  <style>\n",
              "    .colab-df-container {\n",
              "      display:flex;\n",
              "      flex-wrap:wrap;\n",
              "      gap: 12px;\n",
              "    }\n",
              "\n",
              "    .colab-df-convert {\n",
              "      background-color: #E8F0FE;\n",
              "      border: none;\n",
              "      border-radius: 50%;\n",
              "      cursor: pointer;\n",
              "      display: none;\n",
              "      fill: #1967D2;\n",
              "      height: 32px;\n",
              "      padding: 0 0 0 0;\n",
              "      width: 32px;\n",
              "    }\n",
              "\n",
              "    .colab-df-convert:hover {\n",
              "      background-color: #E2EBFA;\n",
              "      box-shadow: 0px 1px 2px rgba(60, 64, 67, 0.3), 0px 1px 3px 1px rgba(60, 64, 67, 0.15);\n",
              "      fill: #174EA6;\n",
              "    }\n",
              "\n",
              "    [theme=dark] .colab-df-convert {\n",
              "      background-color: #3B4455;\n",
              "      fill: #D2E3FC;\n",
              "    }\n",
              "\n",
              "    [theme=dark] .colab-df-convert:hover {\n",
              "      background-color: #434B5C;\n",
              "      box-shadow: 0px 1px 3px 1px rgba(0, 0, 0, 0.15);\n",
              "      filter: drop-shadow(0px 1px 2px rgba(0, 0, 0, 0.3));\n",
              "      fill: #FFFFFF;\n",
              "    }\n",
              "  </style>\n",
              "\n",
              "      <script>\n",
              "        const buttonEl =\n",
              "          document.querySelector('#df-5e4f45f1-bc3c-4e86-8382-0430655af4c2 button.colab-df-convert');\n",
              "        buttonEl.style.display =\n",
              "          google.colab.kernel.accessAllowed ? 'block' : 'none';\n",
              "\n",
              "        async function convertToInteractive(key) {\n",
              "          const element = document.querySelector('#df-5e4f45f1-bc3c-4e86-8382-0430655af4c2');\n",
              "          const dataTable =\n",
              "            await google.colab.kernel.invokeFunction('convertToInteractive',\n",
              "                                                     [key], {});\n",
              "          if (!dataTable) return;\n",
              "\n",
              "          const docLinkHtml = 'Like what you see? Visit the ' +\n",
              "            '<a target=\"_blank\" href=https://colab.research.google.com/notebooks/data_table.ipynb>data table notebook</a>'\n",
              "            + ' to learn more about interactive tables.';\n",
              "          element.innerHTML = '';\n",
              "          dataTable['output_type'] = 'display_data';\n",
              "          await google.colab.output.renderOutput(dataTable, element);\n",
              "          const docLink = document.createElement('div');\n",
              "          docLink.innerHTML = docLinkHtml;\n",
              "          element.appendChild(docLink);\n",
              "        }\n",
              "      </script>\n",
              "    </div>\n",
              "  </div>\n",
              "  "
            ],
            "text/plain": [
              "Person  Age Sex ChestPainType  ...  Oldpeak  ST_Slope  HeartDisease\n",
              "0        40   M           ATA  ...      0.0        Up             0\n",
              "1        49   F           NAP  ...      1.0      Flat             1\n",
              "2        37   M           ATA  ...      0.0        Up             0\n",
              "\n",
              "[3 rows x 12 columns]"
            ]
          },
          "metadata": {},
          "execution_count": 107
        }
      ]
    },
    {
      "cell_type": "code",
      "source": [
        "df1_norm.head(3)"
      ],
      "metadata": {
        "colab": {
          "base_uri": "https://localhost:8080/",
          "height": 143
        },
        "id": "dsdqOVrFZntm",
        "outputId": "1ecba875-2592-4536-8174-4a6681a5a6a9"
      },
      "execution_count": 108,
      "outputs": [
        {
          "output_type": "execute_result",
          "data": {
            "text/html": [
              "\n",
              "  <div id=\"df-c0063267-01c3-4e72-b89d-437f0d11724e\">\n",
              "    <div class=\"colab-df-container\">\n",
              "      <div>\n",
              "<style scoped>\n",
              "    .dataframe tbody tr th:only-of-type {\n",
              "        vertical-align: middle;\n",
              "    }\n",
              "\n",
              "    .dataframe tbody tr th {\n",
              "        vertical-align: top;\n",
              "    }\n",
              "\n",
              "    .dataframe thead th {\n",
              "        text-align: right;\n",
              "    }\n",
              "</style>\n",
              "<table border=\"1\" class=\"dataframe\">\n",
              "  <thead>\n",
              "    <tr style=\"text-align: right;\">\n",
              "      <th></th>\n",
              "      <th>Age</th>\n",
              "      <th>Sex</th>\n",
              "      <th>ChestPainType</th>\n",
              "      <th>RestingBP</th>\n",
              "      <th>Cholesterol</th>\n",
              "      <th>FastingBS</th>\n",
              "      <th>RestingECG</th>\n",
              "      <th>MaxHR</th>\n",
              "      <th>ExerciseAngina</th>\n",
              "      <th>Oldpeak</th>\n",
              "      <th>ST_Slope</th>\n",
              "      <th>HeartDisease</th>\n",
              "    </tr>\n",
              "  </thead>\n",
              "  <tbody>\n",
              "    <tr>\n",
              "      <th>0</th>\n",
              "      <td>40</td>\n",
              "      <td>M</td>\n",
              "      <td>ATA</td>\n",
              "      <td>0.500</td>\n",
              "      <td>0.394</td>\n",
              "      <td>0.233115</td>\n",
              "      <td>Normal</td>\n",
              "      <td>0.789</td>\n",
              "      <td>N</td>\n",
              "      <td>0.295</td>\n",
              "      <td>Up</td>\n",
              "      <td>0</td>\n",
              "    </tr>\n",
              "    <tr>\n",
              "      <th>1</th>\n",
              "      <td>49</td>\n",
              "      <td>F</td>\n",
              "      <td>NAP</td>\n",
              "      <td>0.667</td>\n",
              "      <td>0.183</td>\n",
              "      <td>0.233115</td>\n",
              "      <td>Normal</td>\n",
              "      <td>0.676</td>\n",
              "      <td>N</td>\n",
              "      <td>0.409</td>\n",
              "      <td>Flat</td>\n",
              "      <td>1</td>\n",
              "    </tr>\n",
              "    <tr>\n",
              "      <th>2</th>\n",
              "      <td>37</td>\n",
              "      <td>M</td>\n",
              "      <td>ATA</td>\n",
              "      <td>0.417</td>\n",
              "      <td>0.382</td>\n",
              "      <td>0.233115</td>\n",
              "      <td>ST</td>\n",
              "      <td>0.268</td>\n",
              "      <td>N</td>\n",
              "      <td>0.295</td>\n",
              "      <td>Up</td>\n",
              "      <td>0</td>\n",
              "    </tr>\n",
              "  </tbody>\n",
              "</table>\n",
              "</div>\n",
              "      <button class=\"colab-df-convert\" onclick=\"convertToInteractive('df-c0063267-01c3-4e72-b89d-437f0d11724e')\"\n",
              "              title=\"Convert this dataframe to an interactive table.\"\n",
              "              style=\"display:none;\">\n",
              "        \n",
              "  <svg xmlns=\"http://www.w3.org/2000/svg\" height=\"24px\"viewBox=\"0 0 24 24\"\n",
              "       width=\"24px\">\n",
              "    <path d=\"M0 0h24v24H0V0z\" fill=\"none\"/>\n",
              "    <path d=\"M18.56 5.44l.94 2.06.94-2.06 2.06-.94-2.06-.94-.94-2.06-.94 2.06-2.06.94zm-11 1L8.5 8.5l.94-2.06 2.06-.94-2.06-.94L8.5 2.5l-.94 2.06-2.06.94zm10 10l.94 2.06.94-2.06 2.06-.94-2.06-.94-.94-2.06-.94 2.06-2.06.94z\"/><path d=\"M17.41 7.96l-1.37-1.37c-.4-.4-.92-.59-1.43-.59-.52 0-1.04.2-1.43.59L10.3 9.45l-7.72 7.72c-.78.78-.78 2.05 0 2.83L4 21.41c.39.39.9.59 1.41.59.51 0 1.02-.2 1.41-.59l7.78-7.78 2.81-2.81c.8-.78.8-2.07 0-2.86zM5.41 20L4 18.59l7.72-7.72 1.47 1.35L5.41 20z\"/>\n",
              "  </svg>\n",
              "      </button>\n",
              "      \n",
              "  <style>\n",
              "    .colab-df-container {\n",
              "      display:flex;\n",
              "      flex-wrap:wrap;\n",
              "      gap: 12px;\n",
              "    }\n",
              "\n",
              "    .colab-df-convert {\n",
              "      background-color: #E8F0FE;\n",
              "      border: none;\n",
              "      border-radius: 50%;\n",
              "      cursor: pointer;\n",
              "      display: none;\n",
              "      fill: #1967D2;\n",
              "      height: 32px;\n",
              "      padding: 0 0 0 0;\n",
              "      width: 32px;\n",
              "    }\n",
              "\n",
              "    .colab-df-convert:hover {\n",
              "      background-color: #E2EBFA;\n",
              "      box-shadow: 0px 1px 2px rgba(60, 64, 67, 0.3), 0px 1px 3px 1px rgba(60, 64, 67, 0.15);\n",
              "      fill: #174EA6;\n",
              "    }\n",
              "\n",
              "    [theme=dark] .colab-df-convert {\n",
              "      background-color: #3B4455;\n",
              "      fill: #D2E3FC;\n",
              "    }\n",
              "\n",
              "    [theme=dark] .colab-df-convert:hover {\n",
              "      background-color: #434B5C;\n",
              "      box-shadow: 0px 1px 3px 1px rgba(0, 0, 0, 0.15);\n",
              "      filter: drop-shadow(0px 1px 2px rgba(0, 0, 0, 0.3));\n",
              "      fill: #FFFFFF;\n",
              "    }\n",
              "  </style>\n",
              "\n",
              "      <script>\n",
              "        const buttonEl =\n",
              "          document.querySelector('#df-c0063267-01c3-4e72-b89d-437f0d11724e button.colab-df-convert');\n",
              "        buttonEl.style.display =\n",
              "          google.colab.kernel.accessAllowed ? 'block' : 'none';\n",
              "\n",
              "        async function convertToInteractive(key) {\n",
              "          const element = document.querySelector('#df-c0063267-01c3-4e72-b89d-437f0d11724e');\n",
              "          const dataTable =\n",
              "            await google.colab.kernel.invokeFunction('convertToInteractive',\n",
              "                                                     [key], {});\n",
              "          if (!dataTable) return;\n",
              "\n",
              "          const docLinkHtml = 'Like what you see? Visit the ' +\n",
              "            '<a target=\"_blank\" href=https://colab.research.google.com/notebooks/data_table.ipynb>data table notebook</a>'\n",
              "            + ' to learn more about interactive tables.';\n",
              "          element.innerHTML = '';\n",
              "          dataTable['output_type'] = 'display_data';\n",
              "          await google.colab.output.renderOutput(dataTable, element);\n",
              "          const docLink = document.createElement('div');\n",
              "          docLink.innerHTML = docLinkHtml;\n",
              "          element.appendChild(docLink);\n",
              "        }\n",
              "      </script>\n",
              "    </div>\n",
              "  </div>\n",
              "  "
            ],
            "text/plain": [
              "   Age Sex ChestPainType  ...  Oldpeak  ST_Slope  HeartDisease\n",
              "0   40   M           ATA  ...    0.295        Up             0\n",
              "1   49   F           NAP  ...    0.409      Flat             1\n",
              "2   37   M           ATA  ...    0.295        Up             0\n",
              "\n",
              "[3 rows x 12 columns]"
            ]
          },
          "metadata": {},
          "execution_count": 108
        }
      ]
    },
    {
      "cell_type": "markdown",
      "source": [
        "# Data Analysis (Pandas e Numpy), Data Visualization (Matplotlib e Seaborn) "
      ],
      "metadata": {
        "id": "XkM6R0vmTb-G"
      }
    },
    {
      "cell_type": "markdown",
      "source": [
        "1. Quais os 10 maiores valores de colesterol e a média de idade para esses valores?\n",
        "\n",
        "\n",
        "\n",
        "\n"
      ],
      "metadata": {
        "id": "0SjcxtXKvgr3"
      }
    },
    {
      "cell_type": "code",
      "source": [
        "age_chol = df1_norm.sort_values(by = 'Cholesterol', ascending = False)  # ordenar a coluna 'Cholesterol' em ordem decrescente\n",
        "age_chol.head(10)"
      ],
      "metadata": {
        "colab": {
          "base_uri": "https://localhost:8080/",
          "height": 363
        },
        "id": "Ydgj_3LlsdOm",
        "outputId": "942a9d41-4d12-4598-dea8-3daafc142199"
      },
      "execution_count": 109,
      "outputs": [
        {
          "output_type": "execute_result",
          "data": {
            "text/html": [
              "\n",
              "  <div id=\"df-294cb759-5fef-4ee9-ad76-dc6190ec0790\">\n",
              "    <div class=\"colab-df-container\">\n",
              "      <div>\n",
              "<style scoped>\n",
              "    .dataframe tbody tr th:only-of-type {\n",
              "        vertical-align: middle;\n",
              "    }\n",
              "\n",
              "    .dataframe tbody tr th {\n",
              "        vertical-align: top;\n",
              "    }\n",
              "\n",
              "    .dataframe thead th {\n",
              "        text-align: right;\n",
              "    }\n",
              "</style>\n",
              "<table border=\"1\" class=\"dataframe\">\n",
              "  <thead>\n",
              "    <tr style=\"text-align: right;\">\n",
              "      <th></th>\n",
              "      <th>Age</th>\n",
              "      <th>Sex</th>\n",
              "      <th>ChestPainType</th>\n",
              "      <th>RestingBP</th>\n",
              "      <th>Cholesterol</th>\n",
              "      <th>FastingBS</th>\n",
              "      <th>RestingECG</th>\n",
              "      <th>MaxHR</th>\n",
              "      <th>ExerciseAngina</th>\n",
              "      <th>Oldpeak</th>\n",
              "      <th>ST_Slope</th>\n",
              "      <th>HeartDisease</th>\n",
              "    </tr>\n",
              "  </thead>\n",
              "  <tbody>\n",
              "    <tr>\n",
              "      <th>149</th>\n",
              "      <td>54</td>\n",
              "      <td>M</td>\n",
              "      <td>ASY</td>\n",
              "      <td>0.417</td>\n",
              "      <td>1.000</td>\n",
              "      <td>0.233115</td>\n",
              "      <td>Normal</td>\n",
              "      <td>0.458</td>\n",
              "      <td>Y</td>\n",
              "      <td>0.409</td>\n",
              "      <td>Flat</td>\n",
              "      <td>1</td>\n",
              "    </tr>\n",
              "    <tr>\n",
              "      <th>616</th>\n",
              "      <td>67</td>\n",
              "      <td>F</td>\n",
              "      <td>NAP</td>\n",
              "      <td>0.292</td>\n",
              "      <td>0.925</td>\n",
              "      <td>0.233115</td>\n",
              "      <td>LVH</td>\n",
              "      <td>0.704</td>\n",
              "      <td>N</td>\n",
              "      <td>0.477</td>\n",
              "      <td>Flat</td>\n",
              "      <td>0</td>\n",
              "    </tr>\n",
              "    <tr>\n",
              "      <th>76</th>\n",
              "      <td>32</td>\n",
              "      <td>M</td>\n",
              "      <td>ASY</td>\n",
              "      <td>0.317</td>\n",
              "      <td>0.857</td>\n",
              "      <td>0.233115</td>\n",
              "      <td>Normal</td>\n",
              "      <td>0.493</td>\n",
              "      <td>N</td>\n",
              "      <td>0.295</td>\n",
              "      <td>Flat</td>\n",
              "      <td>1</td>\n",
              "    </tr>\n",
              "    <tr>\n",
              "      <th>30</th>\n",
              "      <td>53</td>\n",
              "      <td>M</td>\n",
              "      <td>NAP</td>\n",
              "      <td>0.542</td>\n",
              "      <td>0.836</td>\n",
              "      <td>0.233115</td>\n",
              "      <td>Normal</td>\n",
              "      <td>0.493</td>\n",
              "      <td>N</td>\n",
              "      <td>0.295</td>\n",
              "      <td>Flat</td>\n",
              "      <td>1</td>\n",
              "    </tr>\n",
              "    <tr>\n",
              "      <th>250</th>\n",
              "      <td>44</td>\n",
              "      <td>M</td>\n",
              "      <td>ASY</td>\n",
              "      <td>0.458</td>\n",
              "      <td>0.784</td>\n",
              "      <td>0.233115</td>\n",
              "      <td>Normal</td>\n",
              "      <td>0.528</td>\n",
              "      <td>N</td>\n",
              "      <td>0.295</td>\n",
              "      <td>Flat</td>\n",
              "      <td>1</td>\n",
              "    </tr>\n",
              "    <tr>\n",
              "      <th>28</th>\n",
              "      <td>53</td>\n",
              "      <td>F</td>\n",
              "      <td>ATA</td>\n",
              "      <td>0.275</td>\n",
              "      <td>0.739</td>\n",
              "      <td>0.233115</td>\n",
              "      <td>Normal</td>\n",
              "      <td>0.472</td>\n",
              "      <td>N</td>\n",
              "      <td>0.295</td>\n",
              "      <td>Up</td>\n",
              "      <td>0</td>\n",
              "    </tr>\n",
              "    <tr>\n",
              "      <th>103</th>\n",
              "      <td>40</td>\n",
              "      <td>M</td>\n",
              "      <td>ASY</td>\n",
              "      <td>0.333</td>\n",
              "      <td>0.736</td>\n",
              "      <td>0.233115</td>\n",
              "      <td>Normal</td>\n",
              "      <td>0.648</td>\n",
              "      <td>Y</td>\n",
              "      <td>0.409</td>\n",
              "      <td>Flat</td>\n",
              "      <td>1</td>\n",
              "    </tr>\n",
              "    <tr>\n",
              "      <th>496</th>\n",
              "      <td>58</td>\n",
              "      <td>M</td>\n",
              "      <td>ASY</td>\n",
              "      <td>0.433</td>\n",
              "      <td>0.720</td>\n",
              "      <td>0.233115</td>\n",
              "      <td>Normal</td>\n",
              "      <td>0.063</td>\n",
              "      <td>N</td>\n",
              "      <td>0.409</td>\n",
              "      <td>Down</td>\n",
              "      <td>0</td>\n",
              "    </tr>\n",
              "    <tr>\n",
              "      <th>667</th>\n",
              "      <td>65</td>\n",
              "      <td>F</td>\n",
              "      <td>NAP</td>\n",
              "      <td>0.500</td>\n",
              "      <td>0.641</td>\n",
              "      <td>0.233115</td>\n",
              "      <td>LVH</td>\n",
              "      <td>0.683</td>\n",
              "      <td>N</td>\n",
              "      <td>0.386</td>\n",
              "      <td>Up</td>\n",
              "      <td>0</td>\n",
              "    </tr>\n",
              "    <tr>\n",
              "      <th>69</th>\n",
              "      <td>44</td>\n",
              "      <td>M</td>\n",
              "      <td>ASY</td>\n",
              "      <td>0.583</td>\n",
              "      <td>0.631</td>\n",
              "      <td>0.233115</td>\n",
              "      <td>Normal</td>\n",
              "      <td>0.775</td>\n",
              "      <td>N</td>\n",
              "      <td>0.295</td>\n",
              "      <td>Up</td>\n",
              "      <td>0</td>\n",
              "    </tr>\n",
              "  </tbody>\n",
              "</table>\n",
              "</div>\n",
              "      <button class=\"colab-df-convert\" onclick=\"convertToInteractive('df-294cb759-5fef-4ee9-ad76-dc6190ec0790')\"\n",
              "              title=\"Convert this dataframe to an interactive table.\"\n",
              "              style=\"display:none;\">\n",
              "        \n",
              "  <svg xmlns=\"http://www.w3.org/2000/svg\" height=\"24px\"viewBox=\"0 0 24 24\"\n",
              "       width=\"24px\">\n",
              "    <path d=\"M0 0h24v24H0V0z\" fill=\"none\"/>\n",
              "    <path d=\"M18.56 5.44l.94 2.06.94-2.06 2.06-.94-2.06-.94-.94-2.06-.94 2.06-2.06.94zm-11 1L8.5 8.5l.94-2.06 2.06-.94-2.06-.94L8.5 2.5l-.94 2.06-2.06.94zm10 10l.94 2.06.94-2.06 2.06-.94-2.06-.94-.94-2.06-.94 2.06-2.06.94z\"/><path d=\"M17.41 7.96l-1.37-1.37c-.4-.4-.92-.59-1.43-.59-.52 0-1.04.2-1.43.59L10.3 9.45l-7.72 7.72c-.78.78-.78 2.05 0 2.83L4 21.41c.39.39.9.59 1.41.59.51 0 1.02-.2 1.41-.59l7.78-7.78 2.81-2.81c.8-.78.8-2.07 0-2.86zM5.41 20L4 18.59l7.72-7.72 1.47 1.35L5.41 20z\"/>\n",
              "  </svg>\n",
              "      </button>\n",
              "      \n",
              "  <style>\n",
              "    .colab-df-container {\n",
              "      display:flex;\n",
              "      flex-wrap:wrap;\n",
              "      gap: 12px;\n",
              "    }\n",
              "\n",
              "    .colab-df-convert {\n",
              "      background-color: #E8F0FE;\n",
              "      border: none;\n",
              "      border-radius: 50%;\n",
              "      cursor: pointer;\n",
              "      display: none;\n",
              "      fill: #1967D2;\n",
              "      height: 32px;\n",
              "      padding: 0 0 0 0;\n",
              "      width: 32px;\n",
              "    }\n",
              "\n",
              "    .colab-df-convert:hover {\n",
              "      background-color: #E2EBFA;\n",
              "      box-shadow: 0px 1px 2px rgba(60, 64, 67, 0.3), 0px 1px 3px 1px rgba(60, 64, 67, 0.15);\n",
              "      fill: #174EA6;\n",
              "    }\n",
              "\n",
              "    [theme=dark] .colab-df-convert {\n",
              "      background-color: #3B4455;\n",
              "      fill: #D2E3FC;\n",
              "    }\n",
              "\n",
              "    [theme=dark] .colab-df-convert:hover {\n",
              "      background-color: #434B5C;\n",
              "      box-shadow: 0px 1px 3px 1px rgba(0, 0, 0, 0.15);\n",
              "      filter: drop-shadow(0px 1px 2px rgba(0, 0, 0, 0.3));\n",
              "      fill: #FFFFFF;\n",
              "    }\n",
              "  </style>\n",
              "\n",
              "      <script>\n",
              "        const buttonEl =\n",
              "          document.querySelector('#df-294cb759-5fef-4ee9-ad76-dc6190ec0790 button.colab-df-convert');\n",
              "        buttonEl.style.display =\n",
              "          google.colab.kernel.accessAllowed ? 'block' : 'none';\n",
              "\n",
              "        async function convertToInteractive(key) {\n",
              "          const element = document.querySelector('#df-294cb759-5fef-4ee9-ad76-dc6190ec0790');\n",
              "          const dataTable =\n",
              "            await google.colab.kernel.invokeFunction('convertToInteractive',\n",
              "                                                     [key], {});\n",
              "          if (!dataTable) return;\n",
              "\n",
              "          const docLinkHtml = 'Like what you see? Visit the ' +\n",
              "            '<a target=\"_blank\" href=https://colab.research.google.com/notebooks/data_table.ipynb>data table notebook</a>'\n",
              "            + ' to learn more about interactive tables.';\n",
              "          element.innerHTML = '';\n",
              "          dataTable['output_type'] = 'display_data';\n",
              "          await google.colab.output.renderOutput(dataTable, element);\n",
              "          const docLink = document.createElement('div');\n",
              "          docLink.innerHTML = docLinkHtml;\n",
              "          element.appendChild(docLink);\n",
              "        }\n",
              "      </script>\n",
              "    </div>\n",
              "  </div>\n",
              "  "
            ],
            "text/plain": [
              "     Age Sex ChestPainType  ...  Oldpeak  ST_Slope  HeartDisease\n",
              "149   54   M           ASY  ...    0.409      Flat             1\n",
              "616   67   F           NAP  ...    0.477      Flat             0\n",
              "76    32   M           ASY  ...    0.295      Flat             1\n",
              "30    53   M           NAP  ...    0.295      Flat             1\n",
              "250   44   M           ASY  ...    0.295      Flat             1\n",
              "28    53   F           ATA  ...    0.295        Up             0\n",
              "103   40   M           ASY  ...    0.409      Flat             1\n",
              "496   58   M           ASY  ...    0.409      Down             0\n",
              "667   65   F           NAP  ...    0.386        Up             0\n",
              "69    44   M           ASY  ...    0.295        Up             0\n",
              "\n",
              "[10 rows x 12 columns]"
            ]
          },
          "metadata": {},
          "execution_count": 109
        }
      ]
    },
    {
      "cell_type": "code",
      "source": [
        "age_chol = pd.DataFrame({'Age': age_chol['Age'], 'Cholesterol': age_chol['Cholesterol']}).reset_index(drop = True)\n",
        "\n",
        "# o drop = True do reset_index() exclui a coluna original do índices\n",
        "age_chol_max10 = age_chol.nlargest(10, 'Cholesterol') # filtrando os 10 maiores valores de colesterol\n",
        "age_chol_max10"
      ],
      "metadata": {
        "colab": {
          "base_uri": "https://localhost:8080/",
          "height": 363
        },
        "id": "npnm3hHZ_SLi",
        "outputId": "c570321a-075d-40e3-bfa0-a78714706e78"
      },
      "execution_count": 110,
      "outputs": [
        {
          "output_type": "execute_result",
          "data": {
            "text/html": [
              "\n",
              "  <div id=\"df-ae76d53c-44e3-4315-8743-9b55a53db363\">\n",
              "    <div class=\"colab-df-container\">\n",
              "      <div>\n",
              "<style scoped>\n",
              "    .dataframe tbody tr th:only-of-type {\n",
              "        vertical-align: middle;\n",
              "    }\n",
              "\n",
              "    .dataframe tbody tr th {\n",
              "        vertical-align: top;\n",
              "    }\n",
              "\n",
              "    .dataframe thead th {\n",
              "        text-align: right;\n",
              "    }\n",
              "</style>\n",
              "<table border=\"1\" class=\"dataframe\">\n",
              "  <thead>\n",
              "    <tr style=\"text-align: right;\">\n",
              "      <th></th>\n",
              "      <th>Age</th>\n",
              "      <th>Cholesterol</th>\n",
              "    </tr>\n",
              "  </thead>\n",
              "  <tbody>\n",
              "    <tr>\n",
              "      <th>0</th>\n",
              "      <td>54</td>\n",
              "      <td>1.000</td>\n",
              "    </tr>\n",
              "    <tr>\n",
              "      <th>1</th>\n",
              "      <td>67</td>\n",
              "      <td>0.925</td>\n",
              "    </tr>\n",
              "    <tr>\n",
              "      <th>2</th>\n",
              "      <td>32</td>\n",
              "      <td>0.857</td>\n",
              "    </tr>\n",
              "    <tr>\n",
              "      <th>3</th>\n",
              "      <td>53</td>\n",
              "      <td>0.836</td>\n",
              "    </tr>\n",
              "    <tr>\n",
              "      <th>4</th>\n",
              "      <td>44</td>\n",
              "      <td>0.784</td>\n",
              "    </tr>\n",
              "    <tr>\n",
              "      <th>5</th>\n",
              "      <td>53</td>\n",
              "      <td>0.739</td>\n",
              "    </tr>\n",
              "    <tr>\n",
              "      <th>6</th>\n",
              "      <td>40</td>\n",
              "      <td>0.736</td>\n",
              "    </tr>\n",
              "    <tr>\n",
              "      <th>7</th>\n",
              "      <td>58</td>\n",
              "      <td>0.720</td>\n",
              "    </tr>\n",
              "    <tr>\n",
              "      <th>8</th>\n",
              "      <td>65</td>\n",
              "      <td>0.641</td>\n",
              "    </tr>\n",
              "    <tr>\n",
              "      <th>9</th>\n",
              "      <td>44</td>\n",
              "      <td>0.631</td>\n",
              "    </tr>\n",
              "  </tbody>\n",
              "</table>\n",
              "</div>\n",
              "      <button class=\"colab-df-convert\" onclick=\"convertToInteractive('df-ae76d53c-44e3-4315-8743-9b55a53db363')\"\n",
              "              title=\"Convert this dataframe to an interactive table.\"\n",
              "              style=\"display:none;\">\n",
              "        \n",
              "  <svg xmlns=\"http://www.w3.org/2000/svg\" height=\"24px\"viewBox=\"0 0 24 24\"\n",
              "       width=\"24px\">\n",
              "    <path d=\"M0 0h24v24H0V0z\" fill=\"none\"/>\n",
              "    <path d=\"M18.56 5.44l.94 2.06.94-2.06 2.06-.94-2.06-.94-.94-2.06-.94 2.06-2.06.94zm-11 1L8.5 8.5l.94-2.06 2.06-.94-2.06-.94L8.5 2.5l-.94 2.06-2.06.94zm10 10l.94 2.06.94-2.06 2.06-.94-2.06-.94-.94-2.06-.94 2.06-2.06.94z\"/><path d=\"M17.41 7.96l-1.37-1.37c-.4-.4-.92-.59-1.43-.59-.52 0-1.04.2-1.43.59L10.3 9.45l-7.72 7.72c-.78.78-.78 2.05 0 2.83L4 21.41c.39.39.9.59 1.41.59.51 0 1.02-.2 1.41-.59l7.78-7.78 2.81-2.81c.8-.78.8-2.07 0-2.86zM5.41 20L4 18.59l7.72-7.72 1.47 1.35L5.41 20z\"/>\n",
              "  </svg>\n",
              "      </button>\n",
              "      \n",
              "  <style>\n",
              "    .colab-df-container {\n",
              "      display:flex;\n",
              "      flex-wrap:wrap;\n",
              "      gap: 12px;\n",
              "    }\n",
              "\n",
              "    .colab-df-convert {\n",
              "      background-color: #E8F0FE;\n",
              "      border: none;\n",
              "      border-radius: 50%;\n",
              "      cursor: pointer;\n",
              "      display: none;\n",
              "      fill: #1967D2;\n",
              "      height: 32px;\n",
              "      padding: 0 0 0 0;\n",
              "      width: 32px;\n",
              "    }\n",
              "\n",
              "    .colab-df-convert:hover {\n",
              "      background-color: #E2EBFA;\n",
              "      box-shadow: 0px 1px 2px rgba(60, 64, 67, 0.3), 0px 1px 3px 1px rgba(60, 64, 67, 0.15);\n",
              "      fill: #174EA6;\n",
              "    }\n",
              "\n",
              "    [theme=dark] .colab-df-convert {\n",
              "      background-color: #3B4455;\n",
              "      fill: #D2E3FC;\n",
              "    }\n",
              "\n",
              "    [theme=dark] .colab-df-convert:hover {\n",
              "      background-color: #434B5C;\n",
              "      box-shadow: 0px 1px 3px 1px rgba(0, 0, 0, 0.15);\n",
              "      filter: drop-shadow(0px 1px 2px rgba(0, 0, 0, 0.3));\n",
              "      fill: #FFFFFF;\n",
              "    }\n",
              "  </style>\n",
              "\n",
              "      <script>\n",
              "        const buttonEl =\n",
              "          document.querySelector('#df-ae76d53c-44e3-4315-8743-9b55a53db363 button.colab-df-convert');\n",
              "        buttonEl.style.display =\n",
              "          google.colab.kernel.accessAllowed ? 'block' : 'none';\n",
              "\n",
              "        async function convertToInteractive(key) {\n",
              "          const element = document.querySelector('#df-ae76d53c-44e3-4315-8743-9b55a53db363');\n",
              "          const dataTable =\n",
              "            await google.colab.kernel.invokeFunction('convertToInteractive',\n",
              "                                                     [key], {});\n",
              "          if (!dataTable) return;\n",
              "\n",
              "          const docLinkHtml = 'Like what you see? Visit the ' +\n",
              "            '<a target=\"_blank\" href=https://colab.research.google.com/notebooks/data_table.ipynb>data table notebook</a>'\n",
              "            + ' to learn more about interactive tables.';\n",
              "          element.innerHTML = '';\n",
              "          dataTable['output_type'] = 'display_data';\n",
              "          await google.colab.output.renderOutput(dataTable, element);\n",
              "          const docLink = document.createElement('div');\n",
              "          docLink.innerHTML = docLinkHtml;\n",
              "          element.appendChild(docLink);\n",
              "        }\n",
              "      </script>\n",
              "    </div>\n",
              "  </div>\n",
              "  "
            ],
            "text/plain": [
              "   Age  Cholesterol\n",
              "0   54        1.000\n",
              "1   67        0.925\n",
              "2   32        0.857\n",
              "3   53        0.836\n",
              "4   44        0.784\n",
              "5   53        0.739\n",
              "6   40        0.736\n",
              "7   58        0.720\n",
              "8   65        0.641\n",
              "9   44        0.631"
            ]
          },
          "metadata": {},
          "execution_count": 110
        }
      ]
    },
    {
      "cell_type": "code",
      "source": [
        "palette = sns.cubehelix_palette(10, start = 2, rot = 0, dark = 0, light = 0.8)\n",
        "\n",
        "# gráfico de barra com a paleta de cores configurada\n",
        "u = sns.barplot(x = 'Cholesterol', y = 'Age', data = age_chol_max10, palette = palette)\n",
        "\n",
        "# título do gráfico\n",
        "u.set_title('10 maiores valores de colesterol')"
      ],
      "metadata": {
        "colab": {
          "base_uri": "https://localhost:8080/",
          "height": 312
        },
        "id": "WOlDtgQNAuJQ",
        "outputId": "8ad18713-2ad3-4d22-a58c-3541414d5b8a"
      },
      "execution_count": 111,
      "outputs": [
        {
          "output_type": "execute_result",
          "data": {
            "text/plain": [
              "Text(0.5, 1.0, '10 maiores valores de colesterol')"
            ]
          },
          "metadata": {},
          "execution_count": 111
        },
        {
          "output_type": "display_data",
          "data": {
            "image/png": "[encoded data removed]",
            "text/plain": [
              "<Figure size 432x288 with 1 Axes>"
            ]
          },
          "metadata": {
            "needs_background": "light"
          }
        }
      ]
    },
    {
      "cell_type": "markdown",
      "source": [
        "Conclui-se que as 10 maiores taxas de colesterol se encontram com pessoas com aproximadamente maiores que 30 anos."
      ],
      "metadata": {
        "id": "BkCLC_2eu-A9"
      }
    },
    {
      "cell_type": "code",
      "source": [
        "age_chol['Age'].mean() # média da coluna 'Age'"
      ],
      "metadata": {
        "colab": {
          "base_uri": "https://localhost:8080/"
        },
        "id": "VY07WLTXvJyk",
        "outputId": "6d9f70ba-765d-47e6-d525-3103510dedb8"
      },
      "execution_count": 112,
      "outputs": [
        {
          "output_type": "execute_result",
          "data": {
            "text/plain": [
              "53.510893246187365"
            ]
          },
          "metadata": {},
          "execution_count": 112
        }
      ]
    },
    {
      "cell_type": "markdown",
      "source": [
        "E a média de idade para as 10 maiores taxas de colesterol é de **51 anos**."
      ],
      "metadata": {
        "id": "4NOKMOBGvR7v"
      }
    },
    {
      "cell_type": "markdown",
      "source": [
        "2. Qual a proporção entre os sexos dos 10 maiores valores de colesterol?\n"
      ],
      "metadata": {
        "id": "L_aqYZa6wWHE"
      }
    },
    {
      "cell_type": "code",
      "source": [
        "sex_chol = pd.DataFrame({'Sex': df1_norm['Sex'], 'Cholesterol': df1_norm['Cholesterol']}).reset_index(drop = True) # novo data frame sem os índices\n",
        "sex_chol_max10 = sex_chol.nlargest(10, 'Cholesterol')\n",
        "sex_chol_max10.groupby('Sex').sum()"
      ],
      "metadata": {
        "colab": {
          "base_uri": "https://localhost:8080/",
          "height": 143
        },
        "id": "niqyAhhpxukV",
        "outputId": "f76dee2d-7f12-4fc3-b291-c5f97bc469da"
      },
      "execution_count": 113,
      "outputs": [
        {
          "output_type": "execute_result",
          "data": {
            "text/html": [
              "\n",
              "  <div id=\"df-0dbcba3c-1bb5-4f7e-bbac-50988e2893f2\">\n",
              "    <div class=\"colab-df-container\">\n",
              "      <div>\n",
              "<style scoped>\n",
              "    .dataframe tbody tr th:only-of-type {\n",
              "        vertical-align: middle;\n",
              "    }\n",
              "\n",
              "    .dataframe tbody tr th {\n",
              "        vertical-align: top;\n",
              "    }\n",
              "\n",
              "    .dataframe thead th {\n",
              "        text-align: right;\n",
              "    }\n",
              "</style>\n",
              "<table border=\"1\" class=\"dataframe\">\n",
              "  <thead>\n",
              "    <tr style=\"text-align: right;\">\n",
              "      <th></th>\n",
              "      <th>Cholesterol</th>\n",
              "    </tr>\n",
              "    <tr>\n",
              "      <th>Sex</th>\n",
              "      <th></th>\n",
              "    </tr>\n",
              "  </thead>\n",
              "  <tbody>\n",
              "    <tr>\n",
              "      <th>F</th>\n",
              "      <td>2.305</td>\n",
              "    </tr>\n",
              "    <tr>\n",
              "      <th>M</th>\n",
              "      <td>5.564</td>\n",
              "    </tr>\n",
              "  </tbody>\n",
              "</table>\n",
              "</div>\n",
              "      <button class=\"colab-df-convert\" onclick=\"convertToInteractive('df-0dbcba3c-1bb5-4f7e-bbac-50988e2893f2')\"\n",
              "              title=\"Convert this dataframe to an interactive table.\"\n",
              "              style=\"display:none;\">\n",
              "        \n",
              "  <svg xmlns=\"http://www.w3.org/2000/svg\" height=\"24px\"viewBox=\"0 0 24 24\"\n",
              "       width=\"24px\">\n",
              "    <path d=\"M0 0h24v24H0V0z\" fill=\"none\"/>\n",
              "    <path d=\"M18.56 5.44l.94 2.06.94-2.06 2.06-.94-2.06-.94-.94-2.06-.94 2.06-2.06.94zm-11 1L8.5 8.5l.94-2.06 2.06-.94-2.06-.94L8.5 2.5l-.94 2.06-2.06.94zm10 10l.94 2.06.94-2.06 2.06-.94-2.06-.94-.94-2.06-.94 2.06-2.06.94z\"/><path d=\"M17.41 7.96l-1.37-1.37c-.4-.4-.92-.59-1.43-.59-.52 0-1.04.2-1.43.59L10.3 9.45l-7.72 7.72c-.78.78-.78 2.05 0 2.83L4 21.41c.39.39.9.59 1.41.59.51 0 1.02-.2 1.41-.59l7.78-7.78 2.81-2.81c.8-.78.8-2.07 0-2.86zM5.41 20L4 18.59l7.72-7.72 1.47 1.35L5.41 20z\"/>\n",
              "  </svg>\n",
              "      </button>\n",
              "      \n",
              "  <style>\n",
              "    .colab-df-container {\n",
              "      display:flex;\n",
              "      flex-wrap:wrap;\n",
              "      gap: 12px;\n",
              "    }\n",
              "\n",
              "    .colab-df-convert {\n",
              "      background-color: #E8F0FE;\n",
              "      border: none;\n",
              "      border-radius: 50%;\n",
              "      cursor: pointer;\n",
              "      display: none;\n",
              "      fill: #1967D2;\n",
              "      height: 32px;\n",
              "      padding: 0 0 0 0;\n",
              "      width: 32px;\n",
              "    }\n",
              "\n",
              "    .colab-df-convert:hover {\n",
              "      background-color: #E2EBFA;\n",
              "      box-shadow: 0px 1px 2px rgba(60, 64, 67, 0.3), 0px 1px 3px 1px rgba(60, 64, 67, 0.15);\n",
              "      fill: #174EA6;\n",
              "    }\n",
              "\n",
              "    [theme=dark] .colab-df-convert {\n",
              "      background-color: #3B4455;\n",
              "      fill: #D2E3FC;\n",
              "    }\n",
              "\n",
              "    [theme=dark] .colab-df-convert:hover {\n",
              "      background-color: #434B5C;\n",
              "      box-shadow: 0px 1px 3px 1px rgba(0, 0, 0, 0.15);\n",
              "      filter: drop-shadow(0px 1px 2px rgba(0, 0, 0, 0.3));\n",
              "      fill: #FFFFFF;\n",
              "    }\n",
              "  </style>\n",
              "\n",
              "      <script>\n",
              "        const buttonEl =\n",
              "          document.querySelector('#df-0dbcba3c-1bb5-4f7e-bbac-50988e2893f2 button.colab-df-convert');\n",
              "        buttonEl.style.display =\n",
              "          google.colab.kernel.accessAllowed ? 'block' : 'none';\n",
              "\n",
              "        async function convertToInteractive(key) {\n",
              "          const element = document.querySelector('#df-0dbcba3c-1bb5-4f7e-bbac-50988e2893f2');\n",
              "          const dataTable =\n",
              "            await google.colab.kernel.invokeFunction('convertToInteractive',\n",
              "                                                     [key], {});\n",
              "          if (!dataTable) return;\n",
              "\n",
              "          const docLinkHtml = 'Like what you see? Visit the ' +\n",
              "            '<a target=\"_blank\" href=https://colab.research.google.com/notebooks/data_table.ipynb>data table notebook</a>'\n",
              "            + ' to learn more about interactive tables.';\n",
              "          element.innerHTML = '';\n",
              "          dataTable['output_type'] = 'display_data';\n",
              "          await google.colab.output.renderOutput(dataTable, element);\n",
              "          const docLink = document.createElement('div');\n",
              "          docLink.innerHTML = docLinkHtml;\n",
              "          element.appendChild(docLink);\n",
              "        }\n",
              "      </script>\n",
              "    </div>\n",
              "  </div>\n",
              "  "
            ],
            "text/plain": [
              "     Cholesterol\n",
              "Sex             \n",
              "F          2.305\n",
              "M          5.564"
            ]
          },
          "metadata": {},
          "execution_count": 113
        }
      ]
    },
    {
      "cell_type": "code",
      "source": [
        "plt_sex = sex_chol_max10.groupby('Sex').sum()\n",
        "cores=['lightskyblue', 'gray']\n",
        "\n",
        "# gráfico de pizza personalizado\n",
        "plt_sex.plot.pie(subplots = True, autopct = '%1.1f%%', shadow = True, legend = True, fontsize = 12, colors = cores)\n"
      ],
      "metadata": {
        "colab": {
          "base_uri": "https://localhost:8080/",
          "height": 282
        },
        "id": "-jqnGBfNyMPx",
        "outputId": "9c387245-d744-4c0d-8c98-fc80bb3a9e66"
      },
      "execution_count": 114,
      "outputs": [
        {
          "output_type": "execute_result",
          "data": {
            "text/plain": [
              "array([<matplotlib.axes._subplots.AxesSubplot object at 0x7fc216dd5150>],\n",
              "      dtype=object)"
            ]
          },
          "metadata": {},
          "execution_count": 114
        },
        {
          "output_type": "display_data",
          "data": {
            "image/png": "[encoded data removed]",
            "text/plain": [
              "<Figure size 432x288 with 1 Axes>"
            ]
          },
          "metadata": {}
        }
      ]
    },
    {
      "cell_type": "markdown",
      "source": [
        "Entre a soma dos 10 maiores valores de colesterol, a proporção é que ~70% dos valores são de homens e ~30% são de mulheres."
      ],
      "metadata": {
        "id": "pJY9lcGQ5vI9"
      }
    },
    {
      "cell_type": "markdown",
      "source": [
        "3. Há correlação entre a taxa de colesterol e a frequência cardíaca máxima? "
      ],
      "metadata": {
        "id": "ToXkytT26YRt"
      }
    },
    {
      "cell_type": "code",
      "source": [
        "chol_mhr = pd.DataFrame({'Cholesterol': df1_norm['Cholesterol'], 'MaxHR': df1_norm['MaxHR']}) # novo data frame\n",
        "chol_mhr"
      ],
      "metadata": {
        "colab": {
          "base_uri": "https://localhost:8080/",
          "height": 423
        },
        "id": "XNh6z2FC0V4I",
        "outputId": "f079ce52-01d7-4cb8-fe53-123436e0ff0a"
      },
      "execution_count": 115,
      "outputs": [
        {
          "output_type": "execute_result",
          "data": {
            "text/html": [
              "\n",
              "  <div id=\"df-973d1957-a412-4277-80bd-676297360cfc\">\n",
              "    <div class=\"colab-df-container\">\n",
              "      <div>\n",
              "<style scoped>\n",
              "    .dataframe tbody tr th:only-of-type {\n",
              "        vertical-align: middle;\n",
              "    }\n",
              "\n",
              "    .dataframe tbody tr th {\n",
              "        vertical-align: top;\n",
              "    }\n",
              "\n",
              "    .dataframe thead th {\n",
              "        text-align: right;\n",
              "    }\n",
              "</style>\n",
              "<table border=\"1\" class=\"dataframe\">\n",
              "  <thead>\n",
              "    <tr style=\"text-align: right;\">\n",
              "      <th></th>\n",
              "      <th>Cholesterol</th>\n",
              "      <th>MaxHR</th>\n",
              "    </tr>\n",
              "  </thead>\n",
              "  <tbody>\n",
              "    <tr>\n",
              "      <th>0</th>\n",
              "      <td>0.394</td>\n",
              "      <td>0.789</td>\n",
              "    </tr>\n",
              "    <tr>\n",
              "      <th>1</th>\n",
              "      <td>0.183</td>\n",
              "      <td>0.676</td>\n",
              "    </tr>\n",
              "    <tr>\n",
              "      <th>2</th>\n",
              "      <td>0.382</td>\n",
              "      <td>0.268</td>\n",
              "    </tr>\n",
              "    <tr>\n",
              "      <th>3</th>\n",
              "      <td>0.249</td>\n",
              "      <td>0.338</td>\n",
              "    </tr>\n",
              "    <tr>\n",
              "      <th>4</th>\n",
              "      <td>0.212</td>\n",
              "      <td>0.437</td>\n",
              "    </tr>\n",
              "    <tr>\n",
              "      <th>...</th>\n",
              "      <td>...</td>\n",
              "      <td>...</td>\n",
              "    </tr>\n",
              "    <tr>\n",
              "      <th>913</th>\n",
              "      <td>0.346</td>\n",
              "      <td>0.507</td>\n",
              "    </tr>\n",
              "    <tr>\n",
              "      <th>914</th>\n",
              "      <td>0.208</td>\n",
              "      <td>0.570</td>\n",
              "    </tr>\n",
              "    <tr>\n",
              "      <th>915</th>\n",
              "      <td>0.089</td>\n",
              "      <td>0.387</td>\n",
              "    </tr>\n",
              "    <tr>\n",
              "      <th>916</th>\n",
              "      <td>0.292</td>\n",
              "      <td>0.803</td>\n",
              "    </tr>\n",
              "    <tr>\n",
              "      <th>917</th>\n",
              "      <td>0.174</td>\n",
              "      <td>0.796</td>\n",
              "    </tr>\n",
              "  </tbody>\n",
              "</table>\n",
              "<p>918 rows × 2 columns</p>\n",
              "</div>\n",
              "      <button class=\"colab-df-convert\" onclick=\"convertToInteractive('df-973d1957-a412-4277-80bd-676297360cfc')\"\n",
              "              title=\"Convert this dataframe to an interactive table.\"\n",
              "              style=\"display:none;\">\n",
              "        \n",
              "  <svg xmlns=\"http://www.w3.org/2000/svg\" height=\"24px\"viewBox=\"0 0 24 24\"\n",
              "       width=\"24px\">\n",
              "    <path d=\"M0 0h24v24H0V0z\" fill=\"none\"/>\n",
              "    <path d=\"M18.56 5.44l.94 2.06.94-2.06 2.06-.94-2.06-.94-.94-2.06-.94 2.06-2.06.94zm-11 1L8.5 8.5l.94-2.06 2.06-.94-2.06-.94L8.5 2.5l-.94 2.06-2.06.94zm10 10l.94 2.06.94-2.06 2.06-.94-2.06-.94-.94-2.06-.94 2.06-2.06.94z\"/><path d=\"M17.41 7.96l-1.37-1.37c-.4-.4-.92-.59-1.43-.59-.52 0-1.04.2-1.43.59L10.3 9.45l-7.72 7.72c-.78.78-.78 2.05 0 2.83L4 21.41c.39.39.9.59 1.41.59.51 0 1.02-.2 1.41-.59l7.78-7.78 2.81-2.81c.8-.78.8-2.07 0-2.86zM5.41 20L4 18.59l7.72-7.72 1.47 1.35L5.41 20z\"/>\n",
              "  </svg>\n",
              "      </button>\n",
              "      \n",
              "  <style>\n",
              "    .colab-df-container {\n",
              "      display:flex;\n",
              "      flex-wrap:wrap;\n",
              "      gap: 12px;\n",
              "    }\n",
              "\n",
              "    .colab-df-convert {\n",
              "      background-color: #E8F0FE;\n",
              "      border: none;\n",
              "      border-radius: 50%;\n",
              "      cursor: pointer;\n",
              "      display: none;\n",
              "      fill: #1967D2;\n",
              "      height: 32px;\n",
              "      padding: 0 0 0 0;\n",
              "      width: 32px;\n",
              "    }\n",
              "\n",
              "    .colab-df-convert:hover {\n",
              "      background-color: #E2EBFA;\n",
              "      box-shadow: 0px 1px 2px rgba(60, 64, 67, 0.3), 0px 1px 3px 1px rgba(60, 64, 67, 0.15);\n",
              "      fill: #174EA6;\n",
              "    }\n",
              "\n",
              "    [theme=dark] .colab-df-convert {\n",
              "      background-color: #3B4455;\n",
              "      fill: #D2E3FC;\n",
              "    }\n",
              "\n",
              "    [theme=dark] .colab-df-convert:hover {\n",
              "      background-color: #434B5C;\n",
              "      box-shadow: 0px 1px 3px 1px rgba(0, 0, 0, 0.15);\n",
              "      filter: drop-shadow(0px 1px 2px rgba(0, 0, 0, 0.3));\n",
              "      fill: #FFFFFF;\n",
              "    }\n",
              "  </style>\n",
              "\n",
              "      <script>\n",
              "        const buttonEl =\n",
              "          document.querySelector('#df-973d1957-a412-4277-80bd-676297360cfc button.colab-df-convert');\n",
              "        buttonEl.style.display =\n",
              "          google.colab.kernel.accessAllowed ? 'block' : 'none';\n",
              "\n",
              "        async function convertToInteractive(key) {\n",
              "          const element = document.querySelector('#df-973d1957-a412-4277-80bd-676297360cfc');\n",
              "          const dataTable =\n",
              "            await google.colab.kernel.invokeFunction('convertToInteractive',\n",
              "                                                     [key], {});\n",
              "          if (!dataTable) return;\n",
              "\n",
              "          const docLinkHtml = 'Like what you see? Visit the ' +\n",
              "            '<a target=\"_blank\" href=https://colab.research.google.com/notebooks/data_table.ipynb>data table notebook</a>'\n",
              "            + ' to learn more about interactive tables.';\n",
              "          element.innerHTML = '';\n",
              "          dataTable['output_type'] = 'display_data';\n",
              "          await google.colab.output.renderOutput(dataTable, element);\n",
              "          const docLink = document.createElement('div');\n",
              "          docLink.innerHTML = docLinkHtml;\n",
              "          element.appendChild(docLink);\n",
              "        }\n",
              "      </script>\n",
              "    </div>\n",
              "  </div>\n",
              "  "
            ],
            "text/plain": [
              "     Cholesterol  MaxHR\n",
              "0          0.394  0.789\n",
              "1          0.183  0.676\n",
              "2          0.382  0.268\n",
              "3          0.249  0.338\n",
              "4          0.212  0.437\n",
              "..           ...    ...\n",
              "913        0.346  0.507\n",
              "914        0.208  0.570\n",
              "915        0.089  0.387\n",
              "916        0.292  0.803\n",
              "917        0.174  0.796\n",
              "\n",
              "[918 rows x 2 columns]"
            ]
          },
          "metadata": {},
          "execution_count": 115
        }
      ]
    },
    {
      "cell_type": "code",
      "source": [
        "# criando matriz de correlação\n",
        "corr = chol_mhr.corr()\n",
        "corr"
      ],
      "metadata": {
        "colab": {
          "base_uri": "https://localhost:8080/",
          "height": 112
        },
        "id": "ERZ3krkXg_Kg",
        "outputId": "c8c5dec4-2598-4b0e-e7e8-062e2115513b"
      },
      "execution_count": 116,
      "outputs": [
        {
          "output_type": "execute_result",
          "data": {
            "text/html": [
              "\n",
              "  <div id=\"df-313963c8-1928-46a3-8e02-1ba9bbc80fc2\">\n",
              "    <div class=\"colab-df-container\">\n",
              "      <div>\n",
              "<style scoped>\n",
              "    .dataframe tbody tr th:only-of-type {\n",
              "        vertical-align: middle;\n",
              "    }\n",
              "\n",
              "    .dataframe tbody tr th {\n",
              "        vertical-align: top;\n",
              "    }\n",
              "\n",
              "    .dataframe thead th {\n",
              "        text-align: right;\n",
              "    }\n",
              "</style>\n",
              "<table border=\"1\" class=\"dataframe\">\n",
              "  <thead>\n",
              "    <tr style=\"text-align: right;\">\n",
              "      <th></th>\n",
              "      <th>Cholesterol</th>\n",
              "      <th>MaxHR</th>\n",
              "    </tr>\n",
              "  </thead>\n",
              "  <tbody>\n",
              "    <tr>\n",
              "      <th>Cholesterol</th>\n",
              "      <td>1.000000</td>\n",
              "      <td>0.072451</td>\n",
              "    </tr>\n",
              "    <tr>\n",
              "      <th>MaxHR</th>\n",
              "      <td>0.072451</td>\n",
              "      <td>1.000000</td>\n",
              "    </tr>\n",
              "  </tbody>\n",
              "</table>\n",
              "</div>\n",
              "      <button class=\"colab-df-convert\" onclick=\"convertToInteractive('df-313963c8-1928-46a3-8e02-1ba9bbc80fc2')\"\n",
              "              title=\"Convert this dataframe to an interactive table.\"\n",
              "              style=\"display:none;\">\n",
              "        \n",
              "  <svg xmlns=\"http://www.w3.org/2000/svg\" height=\"24px\"viewBox=\"0 0 24 24\"\n",
              "       width=\"24px\">\n",
              "    <path d=\"M0 0h24v24H0V0z\" fill=\"none\"/>\n",
              "    <path d=\"M18.56 5.44l.94 2.06.94-2.06 2.06-.94-2.06-.94-.94-2.06-.94 2.06-2.06.94zm-11 1L8.5 8.5l.94-2.06 2.06-.94-2.06-.94L8.5 2.5l-.94 2.06-2.06.94zm10 10l.94 2.06.94-2.06 2.06-.94-2.06-.94-.94-2.06-.94 2.06-2.06.94z\"/><path d=\"M17.41 7.96l-1.37-1.37c-.4-.4-.92-.59-1.43-.59-.52 0-1.04.2-1.43.59L10.3 9.45l-7.72 7.72c-.78.78-.78 2.05 0 2.83L4 21.41c.39.39.9.59 1.41.59.51 0 1.02-.2 1.41-.59l7.78-7.78 2.81-2.81c.8-.78.8-2.07 0-2.86zM5.41 20L4 18.59l7.72-7.72 1.47 1.35L5.41 20z\"/>\n",
              "  </svg>\n",
              "      </button>\n",
              "      \n",
              "  <style>\n",
              "    .colab-df-container {\n",
              "      display:flex;\n",
              "      flex-wrap:wrap;\n",
              "      gap: 12px;\n",
              "    }\n",
              "\n",
              "    .colab-df-convert {\n",
              "      background-color: #E8F0FE;\n",
              "      border: none;\n",
              "      border-radius: 50%;\n",
              "      cursor: pointer;\n",
              "      display: none;\n",
              "      fill: #1967D2;\n",
              "      height: 32px;\n",
              "      padding: 0 0 0 0;\n",
              "      width: 32px;\n",
              "    }\n",
              "\n",
              "    .colab-df-convert:hover {\n",
              "      background-color: #E2EBFA;\n",
              "      box-shadow: 0px 1px 2px rgba(60, 64, 67, 0.3), 0px 1px 3px 1px rgba(60, 64, 67, 0.15);\n",
              "      fill: #174EA6;\n",
              "    }\n",
              "\n",
              "    [theme=dark] .colab-df-convert {\n",
              "      background-color: #3B4455;\n",
              "      fill: #D2E3FC;\n",
              "    }\n",
              "\n",
              "    [theme=dark] .colab-df-convert:hover {\n",
              "      background-color: #434B5C;\n",
              "      box-shadow: 0px 1px 3px 1px rgba(0, 0, 0, 0.15);\n",
              "      filter: drop-shadow(0px 1px 2px rgba(0, 0, 0, 0.3));\n",
              "      fill: #FFFFFF;\n",
              "    }\n",
              "  </style>\n",
              "\n",
              "      <script>\n",
              "        const buttonEl =\n",
              "          document.querySelector('#df-313963c8-1928-46a3-8e02-1ba9bbc80fc2 button.colab-df-convert');\n",
              "        buttonEl.style.display =\n",
              "          google.colab.kernel.accessAllowed ? 'block' : 'none';\n",
              "\n",
              "        async function convertToInteractive(key) {\n",
              "          const element = document.querySelector('#df-313963c8-1928-46a3-8e02-1ba9bbc80fc2');\n",
              "          const dataTable =\n",
              "            await google.colab.kernel.invokeFunction('convertToInteractive',\n",
              "                                                     [key], {});\n",
              "          if (!dataTable) return;\n",
              "\n",
              "          const docLinkHtml = 'Like what you see? Visit the ' +\n",
              "            '<a target=\"_blank\" href=https://colab.research.google.com/notebooks/data_table.ipynb>data table notebook</a>'\n",
              "            + ' to learn more about interactive tables.';\n",
              "          element.innerHTML = '';\n",
              "          dataTable['output_type'] = 'display_data';\n",
              "          await google.colab.output.renderOutput(dataTable, element);\n",
              "          const docLink = document.createElement('div');\n",
              "          docLink.innerHTML = docLinkHtml;\n",
              "          element.appendChild(docLink);\n",
              "        }\n",
              "      </script>\n",
              "    </div>\n",
              "  </div>\n",
              "  "
            ],
            "text/plain": [
              "             Cholesterol     MaxHR\n",
              "Cholesterol     1.000000  0.072451\n",
              "MaxHR           0.072451  1.000000"
            ]
          },
          "metadata": {},
          "execution_count": 116
        }
      ]
    },
    {
      "cell_type": "code",
      "source": [
        "# mapa de calor com matriz de correlação\n",
        "sns.heatmap(corr, annot = True)"
      ],
      "metadata": {
        "colab": {
          "base_uri": "https://localhost:8080/",
          "height": 286
        },
        "id": "Vlpqg5UJhpSl",
        "outputId": "4ef8d29b-99e5-4fff-dc58-bd76975e61cc"
      },
      "execution_count": 117,
      "outputs": [
        {
          "output_type": "execute_result",
          "data": {
            "text/plain": [
              "<matplotlib.axes._subplots.AxesSubplot at 0x7fc216dbd310>"
            ]
          },
          "metadata": {},
          "execution_count": 117
        },
        {
          "output_type": "display_data",
          "data": {
            "image/png": "[encoded data removed]",
            "text/plain": [
              "<Figure size 432x288 with 2 Axes>"
            ]
          },
          "metadata": {
            "needs_background": "light"
          }
        }
      ]
    },
    {
      "cell_type": "markdown",
      "source": [
        "De acordo com a escala de correlação, há uma correlação positiva fraca entre a taxa de colesterol e a frequência cardíaca máxima. \n",
        "\n",
        "\n",
        "![image.png](data:image/png;base64,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)"
      ],
      "metadata": {
        "id": "Um0_tYMDiEHA"
      }
    },
    {
      "cell_type": "markdown",
      "source": [
        "4. Para pessoas com doenças cardíacas, qual o tipo de dor no peito é mais frequente? E qual o menos?"
      ],
      "metadata": {
        "id": "LduVrwXZlebf"
      }
    },
    {
      "cell_type": "code",
      "source": [
        "cpt_hd = pd.DataFrame({'ChestPainType': df1['ChestPainType'], 'HeartDisease': df1['HeartDisease']}) # novo data frame\n",
        "cpt_hd = cpt_hd.query('HeartDisease == 1') # filtrando 'HeartDisease == 1'\n",
        "plt_cpt_hd = cpt_hd.groupby('ChestPainType').sum() # forma um objeto agrupado do tipo groupby"
      ],
      "metadata": {
        "id": "ck3y747BkGRA"
      },
      "execution_count": 118,
      "outputs": []
    },
    {
      "cell_type": "code",
      "source": [
        "plt_cpt_hd = pd.DataFrame({'ChestPainType': ['ASY', 'ATA', 'NAP', 'TA'], 'HeartDisease': [392, 24, 72, 20]}) # formando o data frame para permitir a plotagem\n",
        "plt_cpt_hd = plt_cpt_hd.sort_values(by = 'HeartDisease', ascending = True) # ordenando o data frame em ordem crescente\n",
        "plt_cpt_hd"
      ],
      "metadata": {
        "colab": {
          "base_uri": "https://localhost:8080/",
          "height": 174
        },
        "id": "MXjpTAhf20IB",
        "outputId": "0f7afbee-a8d0-4225-cdec-f4c6a0620d06"
      },
      "execution_count": 119,
      "outputs": [
        {
          "output_type": "execute_result",
          "data": {
            "text/html": [
              "\n",
              "  <div id=\"df-d676dbd2-9216-4374-a68e-c337155a6bf2\">\n",
              "    <div class=\"colab-df-container\">\n",
              "      <div>\n",
              "<style scoped>\n",
              "    .dataframe tbody tr th:only-of-type {\n",
              "        vertical-align: middle;\n",
              "    }\n",
              "\n",
              "    .dataframe tbody tr th {\n",
              "        vertical-align: top;\n",
              "    }\n",
              "\n",
              "    .dataframe thead th {\n",
              "        text-align: right;\n",
              "    }\n",
              "</style>\n",
              "<table border=\"1\" class=\"dataframe\">\n",
              "  <thead>\n",
              "    <tr style=\"text-align: right;\">\n",
              "      <th></th>\n",
              "      <th>ChestPainType</th>\n",
              "      <th>HeartDisease</th>\n",
              "    </tr>\n",
              "  </thead>\n",
              "  <tbody>\n",
              "    <tr>\n",
              "      <th>3</th>\n",
              "      <td>TA</td>\n",
              "      <td>20</td>\n",
              "    </tr>\n",
              "    <tr>\n",
              "      <th>1</th>\n",
              "      <td>ATA</td>\n",
              "      <td>24</td>\n",
              "    </tr>\n",
              "    <tr>\n",
              "      <th>2</th>\n",
              "      <td>NAP</td>\n",
              "      <td>72</td>\n",
              "    </tr>\n",
              "    <tr>\n",
              "      <th>0</th>\n",
              "      <td>ASY</td>\n",
              "      <td>392</td>\n",
              "    </tr>\n",
              "  </tbody>\n",
              "</table>\n",
              "</div>\n",
              "      <button class=\"colab-df-convert\" onclick=\"convertToInteractive('df-d676dbd2-9216-4374-a68e-c337155a6bf2')\"\n",
              "              title=\"Convert this dataframe to an interactive table.\"\n",
              "              style=\"display:none;\">\n",
              "        \n",
              "  <svg xmlns=\"http://www.w3.org/2000/svg\" height=\"24px\"viewBox=\"0 0 24 24\"\n",
              "       width=\"24px\">\n",
              "    <path d=\"M0 0h24v24H0V0z\" fill=\"none\"/>\n",
              "    <path d=\"M18.56 5.44l.94 2.06.94-2.06 2.06-.94-2.06-.94-.94-2.06-.94 2.06-2.06.94zm-11 1L8.5 8.5l.94-2.06 2.06-.94-2.06-.94L8.5 2.5l-.94 2.06-2.06.94zm10 10l.94 2.06.94-2.06 2.06-.94-2.06-.94-.94-2.06-.94 2.06-2.06.94z\"/><path d=\"M17.41 7.96l-1.37-1.37c-.4-.4-.92-.59-1.43-.59-.52 0-1.04.2-1.43.59L10.3 9.45l-7.72 7.72c-.78.78-.78 2.05 0 2.83L4 21.41c.39.39.9.59 1.41.59.51 0 1.02-.2 1.41-.59l7.78-7.78 2.81-2.81c.8-.78.8-2.07 0-2.86zM5.41 20L4 18.59l7.72-7.72 1.47 1.35L5.41 20z\"/>\n",
              "  </svg>\n",
              "      </button>\n",
              "      \n",
              "  <style>\n",
              "    .colab-df-container {\n",
              "      display:flex;\n",
              "      flex-wrap:wrap;\n",
              "      gap: 12px;\n",
              "    }\n",
              "\n",
              "    .colab-df-convert {\n",
              "      background-color: #E8F0FE;\n",
              "      border: none;\n",
              "      border-radius: 50%;\n",
              "      cursor: pointer;\n",
              "      display: none;\n",
              "      fill: #1967D2;\n",
              "      height: 32px;\n",
              "      padding: 0 0 0 0;\n",
              "      width: 32px;\n",
              "    }\n",
              "\n",
              "    .colab-df-convert:hover {\n",
              "      background-color: #E2EBFA;\n",
              "      box-shadow: 0px 1px 2px rgba(60, 64, 67, 0.3), 0px 1px 3px 1px rgba(60, 64, 67, 0.15);\n",
              "      fill: #174EA6;\n",
              "    }\n",
              "\n",
              "    [theme=dark] .colab-df-convert {\n",
              "      background-color: #3B4455;\n",
              "      fill: #D2E3FC;\n",
              "    }\n",
              "\n",
              "    [theme=dark] .colab-df-convert:hover {\n",
              "      background-color: #434B5C;\n",
              "      box-shadow: 0px 1px 3px 1px rgba(0, 0, 0, 0.15);\n",
              "      filter: drop-shadow(0px 1px 2px rgba(0, 0, 0, 0.3));\n",
              "      fill: #FFFFFF;\n",
              "    }\n",
              "  </style>\n",
              "\n",
              "      <script>\n",
              "        const buttonEl =\n",
              "          document.querySelector('#df-d676dbd2-9216-4374-a68e-c337155a6bf2 button.colab-df-convert');\n",
              "        buttonEl.style.display =\n",
              "          google.colab.kernel.accessAllowed ? 'block' : 'none';\n",
              "\n",
              "        async function convertToInteractive(key) {\n",
              "          const element = document.querySelector('#df-d676dbd2-9216-4374-a68e-c337155a6bf2');\n",
              "          const dataTable =\n",
              "            await google.colab.kernel.invokeFunction('convertToInteractive',\n",
              "                                                     [key], {});\n",
              "          if (!dataTable) return;\n",
              "\n",
              "          const docLinkHtml = 'Like what you see? Visit the ' +\n",
              "            '<a target=\"_blank\" href=https://colab.research.google.com/notebooks/data_table.ipynb>data table notebook</a>'\n",
              "            + ' to learn more about interactive tables.';\n",
              "          element.innerHTML = '';\n",
              "          dataTable['output_type'] = 'display_data';\n",
              "          await google.colab.output.renderOutput(dataTable, element);\n",
              "          const docLink = document.createElement('div');\n",
              "          docLink.innerHTML = docLinkHtml;\n",
              "          element.appendChild(docLink);\n",
              "        }\n",
              "      </script>\n",
              "    </div>\n",
              "  </div>\n",
              "  "
            ],
            "text/plain": [
              "  ChestPainType  HeartDisease\n",
              "3            TA            20\n",
              "1           ATA            24\n",
              "2           NAP            72\n",
              "0           ASY           392"
            ]
          },
          "metadata": {},
          "execution_count": 119
        }
      ]
    },
    {
      "cell_type": "code",
      "source": [
        "palette = sns.cubehelix_palette(start=2, rot=0, dark=0, light=.7, reverse=False)\n",
        "\n",
        "# gráfico de barra personalizado\n",
        "p = sns.barplot(x = 'ChestPainType', y = 'HeartDisease', data = plt_cpt_hd, palette = palette)\n",
        "\n",
        "# título do gráfico\n",
        "p.set_title('Ocorrência de tipo de dor no peito para doentes cardíacos')"
      ],
      "metadata": {
        "colab": {
          "base_uri": "https://localhost:8080/",
          "height": 312
        },
        "id": "2Xo5KMVvrKM0",
        "outputId": "e1668d97-63fc-4cf6-e79a-09a0beee5eff"
      },
      "execution_count": 120,
      "outputs": [
        {
          "output_type": "execute_result",
          "data": {
            "text/plain": [
              "Text(0.5, 1.0, 'Ocorrência de tipo de dor no peito para doentes cardíacos')"
            ]
          },
          "metadata": {},
          "execution_count": 120
        },
        {
          "output_type": "display_data",
          "data": {
            "image/png": "[encoded data removed]",
            "text/plain": [
              "<Figure size 432x288 with 1 Axes>"
            ]
          },
          "metadata": {
            "needs_background": "light"
          }
        }
      ]
    },
    {
      "cell_type": "markdown",
      "source": [
        "Assim sendo, para doentes cardíacos, o tipo de dor no peito mais comum é o ASY. E o tipo de dor no peito menos comum é a TA."
      ],
      "metadata": {
        "id": "QKIcECB1Ay6t"
      }
    },
    {
      "cell_type": "markdown",
      "source": [
        "5. Qual o valor médio de colesterol para pessoas que têm uma doença cardíaca? "
      ],
      "metadata": {
        "id": "OTOOgnhMRLUv"
      }
    },
    {
      "cell_type": "code",
      "source": [
        "chol_hd = df1.loc[:, ['Cholesterol', 'HeartDisease']] # filtrando 2 colunas"
      ],
      "metadata": {
        "id": "m47VT8NQ952I"
      },
      "execution_count": 121,
      "outputs": []
    },
    {
      "cell_type": "code",
      "source": [
        "chol_hd = chol_hd.query('HeartDisease == 1') # filtrando o valor '1' da coluna 'HeartDisease'\n",
        "chol_hd"
      ],
      "metadata": {
        "colab": {
          "base_uri": "https://localhost:8080/",
          "height": 423
        },
        "id": "c6o3ICJTRg7h",
        "outputId": "039fa686-3b06-4628-81c9-3ba07866400d"
      },
      "execution_count": 122,
      "outputs": [
        {
          "output_type": "execute_result",
          "data": {
            "text/html": [
              "\n",
              "  <div id=\"df-194eae49-3486-48b1-8b91-2876546519f3\">\n",
              "    <div class=\"colab-df-container\">\n",
              "      <div>\n",
              "<style scoped>\n",
              "    .dataframe tbody tr th:only-of-type {\n",
              "        vertical-align: middle;\n",
              "    }\n",
              "\n",
              "    .dataframe tbody tr th {\n",
              "        vertical-align: top;\n",
              "    }\n",
              "\n",
              "    .dataframe thead th {\n",
              "        text-align: right;\n",
              "    }\n",
              "</style>\n",
              "<table border=\"1\" class=\"dataframe\">\n",
              "  <thead>\n",
              "    <tr style=\"text-align: right;\">\n",
              "      <th>Person</th>\n",
              "      <th>Cholesterol</th>\n",
              "      <th>HeartDisease</th>\n",
              "    </tr>\n",
              "  </thead>\n",
              "  <tbody>\n",
              "    <tr>\n",
              "      <th>1</th>\n",
              "      <td>180.0</td>\n",
              "      <td>1</td>\n",
              "    </tr>\n",
              "    <tr>\n",
              "      <th>3</th>\n",
              "      <td>214.0</td>\n",
              "      <td>1</td>\n",
              "    </tr>\n",
              "    <tr>\n",
              "      <th>8</th>\n",
              "      <td>207.0</td>\n",
              "      <td>1</td>\n",
              "    </tr>\n",
              "    <tr>\n",
              "      <th>11</th>\n",
              "      <td>164.0</td>\n",
              "      <td>1</td>\n",
              "    </tr>\n",
              "    <tr>\n",
              "      <th>13</th>\n",
              "      <td>234.0</td>\n",
              "      <td>1</td>\n",
              "    </tr>\n",
              "    <tr>\n",
              "      <th>...</th>\n",
              "      <td>...</td>\n",
              "      <td>...</td>\n",
              "    </tr>\n",
              "    <tr>\n",
              "      <th>912</th>\n",
              "      <td>241.0</td>\n",
              "      <td>1</td>\n",
              "    </tr>\n",
              "    <tr>\n",
              "      <th>913</th>\n",
              "      <td>264.0</td>\n",
              "      <td>1</td>\n",
              "    </tr>\n",
              "    <tr>\n",
              "      <th>914</th>\n",
              "      <td>193.0</td>\n",
              "      <td>1</td>\n",
              "    </tr>\n",
              "    <tr>\n",
              "      <th>915</th>\n",
              "      <td>131.0</td>\n",
              "      <td>1</td>\n",
              "    </tr>\n",
              "    <tr>\n",
              "      <th>916</th>\n",
              "      <td>236.0</td>\n",
              "      <td>1</td>\n",
              "    </tr>\n",
              "  </tbody>\n",
              "</table>\n",
              "<p>508 rows × 2 columns</p>\n",
              "</div>\n",
              "      <button class=\"colab-df-convert\" onclick=\"convertToInteractive('df-194eae49-3486-48b1-8b91-2876546519f3')\"\n",
              "              title=\"Convert this dataframe to an interactive table.\"\n",
              "              style=\"display:none;\">\n",
              "        \n",
              "  <svg xmlns=\"http://www.w3.org/2000/svg\" height=\"24px\"viewBox=\"0 0 24 24\"\n",
              "       width=\"24px\">\n",
              "    <path d=\"M0 0h24v24H0V0z\" fill=\"none\"/>\n",
              "    <path d=\"M18.56 5.44l.94 2.06.94-2.06 2.06-.94-2.06-.94-.94-2.06-.94 2.06-2.06.94zm-11 1L8.5 8.5l.94-2.06 2.06-.94-2.06-.94L8.5 2.5l-.94 2.06-2.06.94zm10 10l.94 2.06.94-2.06 2.06-.94-2.06-.94-.94-2.06-.94 2.06-2.06.94z\"/><path d=\"M17.41 7.96l-1.37-1.37c-.4-.4-.92-.59-1.43-.59-.52 0-1.04.2-1.43.59L10.3 9.45l-7.72 7.72c-.78.78-.78 2.05 0 2.83L4 21.41c.39.39.9.59 1.41.59.51 0 1.02-.2 1.41-.59l7.78-7.78 2.81-2.81c.8-.78.8-2.07 0-2.86zM5.41 20L4 18.59l7.72-7.72 1.47 1.35L5.41 20z\"/>\n",
              "  </svg>\n",
              "      </button>\n",
              "      \n",
              "  <style>\n",
              "    .colab-df-container {\n",
              "      display:flex;\n",
              "      flex-wrap:wrap;\n",
              "      gap: 12px;\n",
              "    }\n",
              "\n",
              "    .colab-df-convert {\n",
              "      background-color: #E8F0FE;\n",
              "      border: none;\n",
              "      border-radius: 50%;\n",
              "      cursor: pointer;\n",
              "      display: none;\n",
              "      fill: #1967D2;\n",
              "      height: 32px;\n",
              "      padding: 0 0 0 0;\n",
              "      width: 32px;\n",
              "    }\n",
              "\n",
              "    .colab-df-convert:hover {\n",
              "      background-color: #E2EBFA;\n",
              "      box-shadow: 0px 1px 2px rgba(60, 64, 67, 0.3), 0px 1px 3px 1px rgba(60, 64, 67, 0.15);\n",
              "      fill: #174EA6;\n",
              "    }\n",
              "\n",
              "    [theme=dark] .colab-df-convert {\n",
              "      background-color: #3B4455;\n",
              "      fill: #D2E3FC;\n",
              "    }\n",
              "\n",
              "    [theme=dark] .colab-df-convert:hover {\n",
              "      background-color: #434B5C;\n",
              "      box-shadow: 0px 1px 3px 1px rgba(0, 0, 0, 0.15);\n",
              "      filter: drop-shadow(0px 1px 2px rgba(0, 0, 0, 0.3));\n",
              "      fill: #FFFFFF;\n",
              "    }\n",
              "  </style>\n",
              "\n",
              "      <script>\n",
              "        const buttonEl =\n",
              "          document.querySelector('#df-194eae49-3486-48b1-8b91-2876546519f3 button.colab-df-convert');\n",
              "        buttonEl.style.display =\n",
              "          google.colab.kernel.accessAllowed ? 'block' : 'none';\n",
              "\n",
              "        async function convertToInteractive(key) {\n",
              "          const element = document.querySelector('#df-194eae49-3486-48b1-8b91-2876546519f3');\n",
              "          const dataTable =\n",
              "            await google.colab.kernel.invokeFunction('convertToInteractive',\n",
              "                                                     [key], {});\n",
              "          if (!dataTable) return;\n",
              "\n",
              "          const docLinkHtml = 'Like what you see? Visit the ' +\n",
              "            '<a target=\"_blank\" href=https://colab.research.google.com/notebooks/data_table.ipynb>data table notebook</a>'\n",
              "            + ' to learn more about interactive tables.';\n",
              "          element.innerHTML = '';\n",
              "          dataTable['output_type'] = 'display_data';\n",
              "          await google.colab.output.renderOutput(dataTable, element);\n",
              "          const docLink = document.createElement('div');\n",
              "          docLink.innerHTML = docLinkHtml;\n",
              "          element.appendChild(docLink);\n",
              "        }\n",
              "      </script>\n",
              "    </div>\n",
              "  </div>\n",
              "  "
            ],
            "text/plain": [
              "Person  Cholesterol  HeartDisease\n",
              "1             180.0             1\n",
              "3             214.0             1\n",
              "8             207.0             1\n",
              "11            164.0             1\n",
              "13            234.0             1\n",
              "..              ...           ...\n",
              "912           241.0             1\n",
              "913           264.0             1\n",
              "914           193.0             1\n",
              "915           131.0             1\n",
              "916           236.0             1\n",
              "\n",
              "[508 rows x 2 columns]"
            ]
          },
          "metadata": {},
          "execution_count": 122
        }
      ]
    },
    {
      "cell_type": "code",
      "source": [
        "chol_hd['Cholesterol'].mean() # média da coluna 'Cholesterol'"
      ],
      "metadata": {
        "colab": {
          "base_uri": "https://localhost:8080/"
        },
        "id": "5VzfpcZoRiYq",
        "outputId": "74eb98dd-efe9-4748-b188-63b07e699e31"
      },
      "execution_count": 123,
      "outputs": [
        {
          "output_type": "execute_result",
          "data": {
            "text/plain": [
              "235.42427907295846"
            ]
          },
          "metadata": {},
          "execution_count": 123
        }
      ]
    },
    {
      "cell_type": "markdown",
      "source": [
        "Pessoas com doenças cardíacas tem a taxa de colesterol médio de 235,42. O que significa que ter um colesterol alto, na maioria dos casos, ocasiona em ter uma doença cardíaca (se considerarmos erroneamente que colesterol alto é o único fator para ter doença cardíaca). "
      ],
      "metadata": {
        "id": "3gcIbUBiUrsf"
      }
    },
    {
      "cell_type": "markdown",
      "source": [
        "6. Existe correlação entre a pressão sanguínea em repouso ('RestingBP') e a taxa de colesterol ('Cholesterol')?"
      ],
      "metadata": {
        "id": "mAcMSqy8qrJn"
      }
    },
    {
      "cell_type": "code",
      "source": [
        "# tanto faz usar df1 ou df1_norm\n",
        "rbp_chol = df1.loc[:, ['RestingBP', 'Cholesterol']] # filtrando duas colunas do data frame\n",
        "rbp_chol"
      ],
      "metadata": {
        "colab": {
          "base_uri": "https://localhost:8080/",
          "height": 423
        },
        "id": "iDOIW7V7Sf_f",
        "outputId": "e376e1c3-d921-459c-bcdd-51c8ddfbed3c"
      },
      "execution_count": 124,
      "outputs": [
        {
          "output_type": "execute_result",
          "data": {
            "text/html": [
              "\n",
              "  <div id=\"df-4c861817-5f6b-4e22-b539-213090bc1294\">\n",
              "    <div class=\"colab-df-container\">\n",
              "      <div>\n",
              "<style scoped>\n",
              "    .dataframe tbody tr th:only-of-type {\n",
              "        vertical-align: middle;\n",
              "    }\n",
              "\n",
              "    .dataframe tbody tr th {\n",
              "        vertical-align: top;\n",
              "    }\n",
              "\n",
              "    .dataframe thead th {\n",
              "        text-align: right;\n",
              "    }\n",
              "</style>\n",
              "<table border=\"1\" class=\"dataframe\">\n",
              "  <thead>\n",
              "    <tr style=\"text-align: right;\">\n",
              "      <th>Person</th>\n",
              "      <th>RestingBP</th>\n",
              "      <th>Cholesterol</th>\n",
              "    </tr>\n",
              "  </thead>\n",
              "  <tbody>\n",
              "    <tr>\n",
              "      <th>0</th>\n",
              "      <td>140.0</td>\n",
              "      <td>289.0</td>\n",
              "    </tr>\n",
              "    <tr>\n",
              "      <th>1</th>\n",
              "      <td>160.0</td>\n",
              "      <td>180.0</td>\n",
              "    </tr>\n",
              "    <tr>\n",
              "      <th>2</th>\n",
              "      <td>130.0</td>\n",
              "      <td>283.0</td>\n",
              "    </tr>\n",
              "    <tr>\n",
              "      <th>3</th>\n",
              "      <td>138.0</td>\n",
              "      <td>214.0</td>\n",
              "    </tr>\n",
              "    <tr>\n",
              "      <th>4</th>\n",
              "      <td>150.0</td>\n",
              "      <td>195.0</td>\n",
              "    </tr>\n",
              "    <tr>\n",
              "      <th>...</th>\n",
              "      <td>...</td>\n",
              "      <td>...</td>\n",
              "    </tr>\n",
              "    <tr>\n",
              "      <th>913</th>\n",
              "      <td>110.0</td>\n",
              "      <td>264.0</td>\n",
              "    </tr>\n",
              "    <tr>\n",
              "      <th>914</th>\n",
              "      <td>144.0</td>\n",
              "      <td>193.0</td>\n",
              "    </tr>\n",
              "    <tr>\n",
              "      <th>915</th>\n",
              "      <td>130.0</td>\n",
              "      <td>131.0</td>\n",
              "    </tr>\n",
              "    <tr>\n",
              "      <th>916</th>\n",
              "      <td>130.0</td>\n",
              "      <td>236.0</td>\n",
              "    </tr>\n",
              "    <tr>\n",
              "      <th>917</th>\n",
              "      <td>138.0</td>\n",
              "      <td>175.0</td>\n",
              "    </tr>\n",
              "  </tbody>\n",
              "</table>\n",
              "<p>918 rows × 2 columns</p>\n",
              "</div>\n",
              "      <button class=\"colab-df-convert\" onclick=\"convertToInteractive('df-4c861817-5f6b-4e22-b539-213090bc1294')\"\n",
              "              title=\"Convert this dataframe to an interactive table.\"\n",
              "              style=\"display:none;\">\n",
              "        \n",
              "  <svg xmlns=\"http://www.w3.org/2000/svg\" height=\"24px\"viewBox=\"0 0 24 24\"\n",
              "       width=\"24px\">\n",
              "    <path d=\"M0 0h24v24H0V0z\" fill=\"none\"/>\n",
              "    <path d=\"M18.56 5.44l.94 2.06.94-2.06 2.06-.94-2.06-.94-.94-2.06-.94 2.06-2.06.94zm-11 1L8.5 8.5l.94-2.06 2.06-.94-2.06-.94L8.5 2.5l-.94 2.06-2.06.94zm10 10l.94 2.06.94-2.06 2.06-.94-2.06-.94-.94-2.06-.94 2.06-2.06.94z\"/><path d=\"M17.41 7.96l-1.37-1.37c-.4-.4-.92-.59-1.43-.59-.52 0-1.04.2-1.43.59L10.3 9.45l-7.72 7.72c-.78.78-.78 2.05 0 2.83L4 21.41c.39.39.9.59 1.41.59.51 0 1.02-.2 1.41-.59l7.78-7.78 2.81-2.81c.8-.78.8-2.07 0-2.86zM5.41 20L4 18.59l7.72-7.72 1.47 1.35L5.41 20z\"/>\n",
              "  </svg>\n",
              "      </button>\n",
              "      \n",
              "  <style>\n",
              "    .colab-df-container {\n",
              "      display:flex;\n",
              "      flex-wrap:wrap;\n",
              "      gap: 12px;\n",
              "    }\n",
              "\n",
              "    .colab-df-convert {\n",
              "      background-color: #E8F0FE;\n",
              "      border: none;\n",
              "      border-radius: 50%;\n",
              "      cursor: pointer;\n",
              "      display: none;\n",
              "      fill: #1967D2;\n",
              "      height: 32px;\n",
              "      padding: 0 0 0 0;\n",
              "      width: 32px;\n",
              "    }\n",
              "\n",
              "    .colab-df-convert:hover {\n",
              "      background-color: #E2EBFA;\n",
              "      box-shadow: 0px 1px 2px rgba(60, 64, 67, 0.3), 0px 1px 3px 1px rgba(60, 64, 67, 0.15);\n",
              "      fill: #174EA6;\n",
              "    }\n",
              "\n",
              "    [theme=dark] .colab-df-convert {\n",
              "      background-color: #3B4455;\n",
              "      fill: #D2E3FC;\n",
              "    }\n",
              "\n",
              "    [theme=dark] .colab-df-convert:hover {\n",
              "      background-color: #434B5C;\n",
              "      box-shadow: 0px 1px 3px 1px rgba(0, 0, 0, 0.15);\n",
              "      filter: drop-shadow(0px 1px 2px rgba(0, 0, 0, 0.3));\n",
              "      fill: #FFFFFF;\n",
              "    }\n",
              "  </style>\n",
              "\n",
              "      <script>\n",
              "        const buttonEl =\n",
              "          document.querySelector('#df-4c861817-5f6b-4e22-b539-213090bc1294 button.colab-df-convert');\n",
              "        buttonEl.style.display =\n",
              "          google.colab.kernel.accessAllowed ? 'block' : 'none';\n",
              "\n",
              "        async function convertToInteractive(key) {\n",
              "          const element = document.querySelector('#df-4c861817-5f6b-4e22-b539-213090bc1294');\n",
              "          const dataTable =\n",
              "            await google.colab.kernel.invokeFunction('convertToInteractive',\n",
              "                                                     [key], {});\n",
              "          if (!dataTable) return;\n",
              "\n",
              "          const docLinkHtml = 'Like what you see? Visit the ' +\n",
              "            '<a target=\"_blank\" href=https://colab.research.google.com/notebooks/data_table.ipynb>data table notebook</a>'\n",
              "            + ' to learn more about interactive tables.';\n",
              "          element.innerHTML = '';\n",
              "          dataTable['output_type'] = 'display_data';\n",
              "          await google.colab.output.renderOutput(dataTable, element);\n",
              "          const docLink = document.createElement('div');\n",
              "          docLink.innerHTML = docLinkHtml;\n",
              "          element.appendChild(docLink);\n",
              "        }\n",
              "      </script>\n",
              "    </div>\n",
              "  </div>\n",
              "  "
            ],
            "text/plain": [
              "Person  RestingBP  Cholesterol\n",
              "0           140.0        289.0\n",
              "1           160.0        180.0\n",
              "2           130.0        283.0\n",
              "3           138.0        214.0\n",
              "4           150.0        195.0\n",
              "..            ...          ...\n",
              "913         110.0        264.0\n",
              "914         144.0        193.0\n",
              "915         130.0        131.0\n",
              "916         130.0        236.0\n",
              "917         138.0        175.0\n",
              "\n",
              "[918 rows x 2 columns]"
            ]
          },
          "metadata": {},
          "execution_count": 124
        }
      ]
    },
    {
      "cell_type": "code",
      "source": [
        "corre = rbp_chol.corr() # calculando matriz de correlação\n",
        "corre"
      ],
      "metadata": {
        "colab": {
          "base_uri": "https://localhost:8080/",
          "height": 143
        },
        "id": "TEE0yJH2rsxm",
        "outputId": "93e3c407-4e3b-4303-cf47-35a743bf36e0"
      },
      "execution_count": 125,
      "outputs": [
        {
          "output_type": "execute_result",
          "data": {
            "text/html": [
              "\n",
              "  <div id=\"df-a35d0263-c59e-4348-96ef-190f33774600\">\n",
              "    <div class=\"colab-df-container\">\n",
              "      <div>\n",
              "<style scoped>\n",
              "    .dataframe tbody tr th:only-of-type {\n",
              "        vertical-align: middle;\n",
              "    }\n",
              "\n",
              "    .dataframe tbody tr th {\n",
              "        vertical-align: top;\n",
              "    }\n",
              "\n",
              "    .dataframe thead th {\n",
              "        text-align: right;\n",
              "    }\n",
              "</style>\n",
              "<table border=\"1\" class=\"dataframe\">\n",
              "  <thead>\n",
              "    <tr style=\"text-align: right;\">\n",
              "      <th>Person</th>\n",
              "      <th>RestingBP</th>\n",
              "      <th>Cholesterol</th>\n",
              "    </tr>\n",
              "    <tr>\n",
              "      <th>Person</th>\n",
              "      <th></th>\n",
              "      <th></th>\n",
              "    </tr>\n",
              "  </thead>\n",
              "  <tbody>\n",
              "    <tr>\n",
              "      <th>RestingBP</th>\n",
              "      <td>1.000000</td>\n",
              "      <td>0.096524</td>\n",
              "    </tr>\n",
              "    <tr>\n",
              "      <th>Cholesterol</th>\n",
              "      <td>0.096524</td>\n",
              "      <td>1.000000</td>\n",
              "    </tr>\n",
              "  </tbody>\n",
              "</table>\n",
              "</div>\n",
              "      <button class=\"colab-df-convert\" onclick=\"convertToInteractive('df-a35d0263-c59e-4348-96ef-190f33774600')\"\n",
              "              title=\"Convert this dataframe to an interactive table.\"\n",
              "              style=\"display:none;\">\n",
              "        \n",
              "  <svg xmlns=\"http://www.w3.org/2000/svg\" height=\"24px\"viewBox=\"0 0 24 24\"\n",
              "       width=\"24px\">\n",
              "    <path d=\"M0 0h24v24H0V0z\" fill=\"none\"/>\n",
              "    <path d=\"M18.56 5.44l.94 2.06.94-2.06 2.06-.94-2.06-.94-.94-2.06-.94 2.06-2.06.94zm-11 1L8.5 8.5l.94-2.06 2.06-.94-2.06-.94L8.5 2.5l-.94 2.06-2.06.94zm10 10l.94 2.06.94-2.06 2.06-.94-2.06-.94-.94-2.06-.94 2.06-2.06.94z\"/><path d=\"M17.41 7.96l-1.37-1.37c-.4-.4-.92-.59-1.43-.59-.52 0-1.04.2-1.43.59L10.3 9.45l-7.72 7.72c-.78.78-.78 2.05 0 2.83L4 21.41c.39.39.9.59 1.41.59.51 0 1.02-.2 1.41-.59l7.78-7.78 2.81-2.81c.8-.78.8-2.07 0-2.86zM5.41 20L4 18.59l7.72-7.72 1.47 1.35L5.41 20z\"/>\n",
              "  </svg>\n",
              "      </button>\n",
              "      \n",
              "  <style>\n",
              "    .colab-df-container {\n",
              "      display:flex;\n",
              "      flex-wrap:wrap;\n",
              "      gap: 12px;\n",
              "    }\n",
              "\n",
              "    .colab-df-convert {\n",
              "      background-color: #E8F0FE;\n",
              "      border: none;\n",
              "      border-radius: 50%;\n",
              "      cursor: pointer;\n",
              "      display: none;\n",
              "      fill: #1967D2;\n",
              "      height: 32px;\n",
              "      padding: 0 0 0 0;\n",
              "      width: 32px;\n",
              "    }\n",
              "\n",
              "    .colab-df-convert:hover {\n",
              "      background-color: #E2EBFA;\n",
              "      box-shadow: 0px 1px 2px rgba(60, 64, 67, 0.3), 0px 1px 3px 1px rgba(60, 64, 67, 0.15);\n",
              "      fill: #174EA6;\n",
              "    }\n",
              "\n",
              "    [theme=dark] .colab-df-convert {\n",
              "      background-color: #3B4455;\n",
              "      fill: #D2E3FC;\n",
              "    }\n",
              "\n",
              "    [theme=dark] .colab-df-convert:hover {\n",
              "      background-color: #434B5C;\n",
              "      box-shadow: 0px 1px 3px 1px rgba(0, 0, 0, 0.15);\n",
              "      filter: drop-shadow(0px 1px 2px rgba(0, 0, 0, 0.3));\n",
              "      fill: #FFFFFF;\n",
              "    }\n",
              "  </style>\n",
              "\n",
              "      <script>\n",
              "        const buttonEl =\n",
              "          document.querySelector('#df-a35d0263-c59e-4348-96ef-190f33774600 button.colab-df-convert');\n",
              "        buttonEl.style.display =\n",
              "          google.colab.kernel.accessAllowed ? 'block' : 'none';\n",
              "\n",
              "        async function convertToInteractive(key) {\n",
              "          const element = document.querySelector('#df-a35d0263-c59e-4348-96ef-190f33774600');\n",
              "          const dataTable =\n",
              "            await google.colab.kernel.invokeFunction('convertToInteractive',\n",
              "                                                     [key], {});\n",
              "          if (!dataTable) return;\n",
              "\n",
              "          const docLinkHtml = 'Like what you see? Visit the ' +\n",
              "            '<a target=\"_blank\" href=https://colab.research.google.com/notebooks/data_table.ipynb>data table notebook</a>'\n",
              "            + ' to learn more about interactive tables.';\n",
              "          element.innerHTML = '';\n",
              "          dataTable['output_type'] = 'display_data';\n",
              "          await google.colab.output.renderOutput(dataTable, element);\n",
              "          const docLink = document.createElement('div');\n",
              "          docLink.innerHTML = docLinkHtml;\n",
              "          element.appendChild(docLink);\n",
              "        }\n",
              "      </script>\n",
              "    </div>\n",
              "  </div>\n",
              "  "
            ],
            "text/plain": [
              "Person       RestingBP  Cholesterol\n",
              "Person                             \n",
              "RestingBP     1.000000     0.096524\n",
              "Cholesterol   0.096524     1.000000"
            ]
          },
          "metadata": {},
          "execution_count": 125
        }
      ]
    },
    {
      "cell_type": "code",
      "source": [
        "# mapa de calor da matriz de correlação\n",
        "sns.heatmap(corre, annot = True)"
      ],
      "metadata": {
        "colab": {
          "base_uri": "https://localhost:8080/",
          "height": 300
        },
        "id": "oOtxx2hrrzg0",
        "outputId": "8d54c11b-8c0b-43fd-fbee-a9ee020cb500"
      },
      "execution_count": 126,
      "outputs": [
        {
          "output_type": "execute_result",
          "data": {
            "text/plain": [
              "<matplotlib.axes._subplots.AxesSubplot at 0x7fc216c64250>"
            ]
          },
          "metadata": {},
          "execution_count": 126
        },
        {
          "output_type": "display_data",
          "data": {
            "image/png": "[encoded data removed]",
            "text/plain": [
              "<Figure size 432x288 with 2 Axes>"
            ]
          },
          "metadata": {
            "needs_background": "light"
          }
        }
      ]
    },
    {
      "cell_type": "markdown",
      "source": [
        "De acordo com a escala de correlação, a correlação entre os dados do data frame de 'RestingBP' e 'Cholesterol' é baixa. "
      ],
      "metadata": {
        "id": "m9n2FKOCtb2n"
      }
    },
    {
      "cell_type": "markdown",
      "source": [
        "7. Visão geral de correlação entre todos os dados do data frame (df1_norm)."
      ],
      "metadata": {
        "id": "LcA_XdpOwgSi"
      }
    },
    {
      "cell_type": "code",
      "source": [
        "rs = np.random.RandomState(0) # colocando no estado 0\n",
        "corr = df1_norm.corr() # calculando correlação de todo o data frame 'df1_norm'\n",
        "corr.style.background_gradient(cmap='coolwarm') # background de fundo da matriz de correlação"
      ],
      "metadata": {
        "colab": {
          "base_uri": "https://localhost:8080/",
          "height": 269
        },
        "id": "vumrr9ijsgVr",
        "outputId": "ef5e9c7a-6561-4881-8a54-d802801dc127"
      },
      "execution_count": 127,
      "outputs": [
        {
          "output_type": "execute_result",
          "data": {
            "text/html": [
              "<style  type=\"text/css\" >\n",
              "#T_94778212_6016_11ec_b0a4_0242ac1c0002row0_col0,#T_94778212_6016_11ec_b0a4_0242ac1c0002row1_col1,#T_94778212_6016_11ec_b0a4_0242ac1c0002row2_col2,#T_94778212_6016_11ec_b0a4_0242ac1c0002row3_col3,#T_94778212_6016_11ec_b0a4_0242ac1c0002row4_col4,#T_94778212_6016_11ec_b0a4_0242ac1c0002row5_col5,#T_94778212_6016_11ec_b0a4_0242ac1c0002row6_col6{\n",
              "            background-color:  #b40426;\n",
              "            color:  #f1f1f1;\n",
              "        }#T_94778212_6016_11ec_b0a4_0242ac1c0002row0_col1,#T_94778212_6016_11ec_b0a4_0242ac1c0002row2_col4{\n",
              "            background-color:  #abc8fd;\n",
              "            color:  #000000;\n",
              "        }#T_94778212_6016_11ec_b0a4_0242ac1c0002row0_col2{\n",
              "            background-color:  #3f53c6;\n",
              "            color:  #f1f1f1;\n",
              "        }#T_94778212_6016_11ec_b0a4_0242ac1c0002row0_col3,#T_94778212_6016_11ec_b0a4_0242ac1c0002row1_col3,#T_94778212_6016_11ec_b0a4_0242ac1c0002row2_col3,#T_94778212_6016_11ec_b0a4_0242ac1c0002row4_col0,#T_94778212_6016_11ec_b0a4_0242ac1c0002row4_col1,#T_94778212_6016_11ec_b0a4_0242ac1c0002row4_col3,#T_94778212_6016_11ec_b0a4_0242ac1c0002row4_col5,#T_94778212_6016_11ec_b0a4_0242ac1c0002row4_col6,#T_94778212_6016_11ec_b0a4_0242ac1c0002row5_col3,#T_94778212_6016_11ec_b0a4_0242ac1c0002row6_col2,#T_94778212_6016_11ec_b0a4_0242ac1c0002row6_col3,#T_94778212_6016_11ec_b0a4_0242ac1c0002row6_col4{\n",
              "            background-color:  #3b4cc0;\n",
              "            color:  #f1f1f1;\n",
              "        }#T_94778212_6016_11ec_b0a4_0242ac1c0002row0_col4,#T_94778212_6016_11ec_b0a4_0242ac1c0002row3_col2{\n",
              "            background-color:  #3e51c5;\n",
              "            color:  #f1f1f1;\n",
              "        }#T_94778212_6016_11ec_b0a4_0242ac1c0002row0_col5{\n",
              "            background-color:  #b3cdfb;\n",
              "            color:  #000000;\n",
              "        }#T_94778212_6016_11ec_b0a4_0242ac1c0002row0_col6,#T_94778212_6016_11ec_b0a4_0242ac1c0002row6_col5{\n",
              "            background-color:  #d9dce1;\n",
              "            color:  #000000;\n",
              "        }#T_94778212_6016_11ec_b0a4_0242ac1c0002row1_col0{\n",
              "            background-color:  #d4dbe6;\n",
              "            color:  #000000;\n",
              "        }#T_94778212_6016_11ec_b0a4_0242ac1c0002row1_col2{\n",
              "            background-color:  #5b7ae5;\n",
              "            color:  #000000;\n",
              "        }#T_94778212_6016_11ec_b0a4_0242ac1c0002row1_col4{\n",
              "            background-color:  #7ea1fa;\n",
              "            color:  #000000;\n",
              "        }#T_94778212_6016_11ec_b0a4_0242ac1c0002row1_col5,#T_94778212_6016_11ec_b0a4_0242ac1c0002row3_col4,#T_94778212_6016_11ec_b0a4_0242ac1c0002row3_col6{\n",
              "            background-color:  #9abbff;\n",
              "            color:  #000000;\n",
              "        }#T_94778212_6016_11ec_b0a4_0242ac1c0002row1_col6{\n",
              "            background-color:  #b6cefa;\n",
              "            color:  #000000;\n",
              "        }#T_94778212_6016_11ec_b0a4_0242ac1c0002row2_col0,#T_94778212_6016_11ec_b0a4_0242ac1c0002row2_col6{\n",
              "            background-color:  #97b8ff;\n",
              "            color:  #000000;\n",
              "        }#T_94778212_6016_11ec_b0a4_0242ac1c0002row2_col1{\n",
              "            background-color:  #7699f6;\n",
              "            color:  #000000;\n",
              "        }#T_94778212_6016_11ec_b0a4_0242ac1c0002row2_col5{\n",
              "            background-color:  #779af7;\n",
              "            color:  #000000;\n",
              "        }#T_94778212_6016_11ec_b0a4_0242ac1c0002row3_col0{\n",
              "            background-color:  #96b7ff;\n",
              "            color:  #000000;\n",
              "        }#T_94778212_6016_11ec_b0a4_0242ac1c0002row3_col1{\n",
              "            background-color:  #5977e3;\n",
              "            color:  #000000;\n",
              "        }#T_94778212_6016_11ec_b0a4_0242ac1c0002row3_col5{\n",
              "            background-color:  #6687ed;\n",
              "            color:  #000000;\n",
              "        }#T_94778212_6016_11ec_b0a4_0242ac1c0002row4_col2{\n",
              "            background-color:  #5470de;\n",
              "            color:  #000000;\n",
              "        }#T_94778212_6016_11ec_b0a4_0242ac1c0002row5_col0{\n",
              "            background-color:  #d3dbe7;\n",
              "            color:  #000000;\n",
              "        }#T_94778212_6016_11ec_b0a4_0242ac1c0002row5_col1{\n",
              "            background-color:  #8fb1fe;\n",
              "            color:  #000000;\n",
              "        }#T_94778212_6016_11ec_b0a4_0242ac1c0002row5_col2{\n",
              "            background-color:  #4f69d9;\n",
              "            color:  #000000;\n",
              "        }#T_94778212_6016_11ec_b0a4_0242ac1c0002row5_col4{\n",
              "            background-color:  #7093f3;\n",
              "            color:  #000000;\n",
              "        }#T_94778212_6016_11ec_b0a4_0242ac1c0002row5_col6{\n",
              "            background-color:  #eed0c0;\n",
              "            color:  #000000;\n",
              "        }#T_94778212_6016_11ec_b0a4_0242ac1c0002row6_col0{\n",
              "            background-color:  #d8dce2;\n",
              "            color:  #000000;\n",
              "        }#T_94778212_6016_11ec_b0a4_0242ac1c0002row6_col1{\n",
              "            background-color:  #7da0f9;\n",
              "            color:  #000000;\n",
              "        }</style><table id=\"T_94778212_6016_11ec_b0a4_0242ac1c0002\" class=\"dataframe\"><thead>    <tr>        <th class=\"blank level0\" ></th>        <th class=\"col_heading level0 col0\" >Age</th>        <th class=\"col_heading level0 col1\" >RestingBP</th>        <th class=\"col_heading level0 col2\" >Cholesterol</th>        <th class=\"col_heading level0 col3\" >FastingBS</th>        <th class=\"col_heading level0 col4\" >MaxHR</th>        <th class=\"col_heading level0 col5\" >Oldpeak</th>        <th class=\"col_heading level0 col6\" >HeartDisease</th>    </tr></thead><tbody>\n",
              "                <tr>\n",
              "                        <th id=\"T_94778212_6016_11ec_b0a4_0242ac1c0002level0_row0\" class=\"row_heading level0 row0\" >Age</th>\n",
              "                        <td id=\"T_94778212_6016_11ec_b0a4_0242ac1c0002row0_col0\" class=\"data row0 col0\" >1.000000</td>\n",
              "                        <td id=\"T_94778212_6016_11ec_b0a4_0242ac1c0002row0_col1\" class=\"data row0 col1\" >0.263162</td>\n",
              "                        <td id=\"T_94778212_6016_11ec_b0a4_0242ac1c0002row0_col2\" class=\"data row0 col2\" >0.006465</td>\n",
              "                        <td id=\"T_94778212_6016_11ec_b0a4_0242ac1c0002row0_col3\" class=\"data row0 col3\" >0.000000</td>\n",
              "                        <td id=\"T_94778212_6016_11ec_b0a4_0242ac1c0002row0_col4\" class=\"data row0 col4\" >-0.382153</td>\n",
              "                        <td id=\"T_94778212_6016_11ec_b0a4_0242ac1c0002row0_col5\" class=\"data row0 col5\" >0.258855</td>\n",
              "                        <td id=\"T_94778212_6016_11ec_b0a4_0242ac1c0002row0_col6\" class=\"data row0 col6\" >0.282039</td>\n",
              "            </tr>\n",
              "            <tr>\n",
              "                        <th id=\"T_94778212_6016_11ec_b0a4_0242ac1c0002level0_row1\" class=\"row_heading level0 row1\" >RestingBP</th>\n",
              "                        <td id=\"T_94778212_6016_11ec_b0a4_0242ac1c0002row1_col0\" class=\"data row1 col0\" >0.263162</td>\n",
              "                        <td id=\"T_94778212_6016_11ec_b0a4_0242ac1c0002row1_col1\" class=\"data row1 col1\" >1.000000</td>\n",
              "                        <td id=\"T_94778212_6016_11ec_b0a4_0242ac1c0002row1_col2\" class=\"data row1 col2\" >0.096438</td>\n",
              "                        <td id=\"T_94778212_6016_11ec_b0a4_0242ac1c0002row1_col3\" class=\"data row1 col3\" >-0.000000</td>\n",
              "                        <td id=\"T_94778212_6016_11ec_b0a4_0242ac1c0002row1_col4\" class=\"data row1 col4\" >-0.109703</td>\n",
              "                        <td id=\"T_94778212_6016_11ec_b0a4_0242ac1c0002row1_col5\" class=\"data row1 col5\" >0.174093</td>\n",
              "                        <td id=\"T_94778212_6016_11ec_b0a4_0242ac1c0002row1_col6\" class=\"data row1 col6\" >0.118022</td>\n",
              "            </tr>\n",
              "            <tr>\n",
              "                        <th id=\"T_94778212_6016_11ec_b0a4_0242ac1c0002level0_row2\" class=\"row_heading level0 row2\" >Cholesterol</th>\n",
              "                        <td id=\"T_94778212_6016_11ec_b0a4_0242ac1c0002row2_col0\" class=\"data row2 col0\" >0.006465</td>\n",
              "                        <td id=\"T_94778212_6016_11ec_b0a4_0242ac1c0002row2_col1\" class=\"data row2 col1\" >0.096438</td>\n",
              "                        <td id=\"T_94778212_6016_11ec_b0a4_0242ac1c0002row2_col2\" class=\"data row2 col2\" >1.000000</td>\n",
              "                        <td id=\"T_94778212_6016_11ec_b0a4_0242ac1c0002row2_col3\" class=\"data row2 col3\" >0.000000</td>\n",
              "                        <td id=\"T_94778212_6016_11ec_b0a4_0242ac1c0002row2_col4\" class=\"data row2 col4\" >0.072451</td>\n",
              "                        <td id=\"T_94778212_6016_11ec_b0a4_0242ac1c0002row2_col5\" class=\"data row2 col5\" >0.059110</td>\n",
              "                        <td id=\"T_94778212_6016_11ec_b0a4_0242ac1c0002row2_col6\" class=\"data row2 col6\" >-0.011897</td>\n",
              "            </tr>\n",
              "            <tr>\n",
              "                        <th id=\"T_94778212_6016_11ec_b0a4_0242ac1c0002level0_row3\" class=\"row_heading level0 row3\" >FastingBS</th>\n",
              "                        <td id=\"T_94778212_6016_11ec_b0a4_0242ac1c0002row3_col0\" class=\"data row3 col0\" >0.000000</td>\n",
              "                        <td id=\"T_94778212_6016_11ec_b0a4_0242ac1c0002row3_col1\" class=\"data row3 col1\" >-0.000000</td>\n",
              "                        <td id=\"T_94778212_6016_11ec_b0a4_0242ac1c0002row3_col2\" class=\"data row3 col2\" >0.000000</td>\n",
              "                        <td id=\"T_94778212_6016_11ec_b0a4_0242ac1c0002row3_col3\" class=\"data row3 col3\" >1.000000</td>\n",
              "                        <td id=\"T_94778212_6016_11ec_b0a4_0242ac1c0002row3_col4\" class=\"data row3 col4\" >0.000000</td>\n",
              "                        <td id=\"T_94778212_6016_11ec_b0a4_0242ac1c0002row3_col5\" class=\"data row3 col5\" >-0.000000</td>\n",
              "                        <td id=\"T_94778212_6016_11ec_b0a4_0242ac1c0002row3_col6\" class=\"data row3 col6\" >0.000000</td>\n",
              "            </tr>\n",
              "            <tr>\n",
              "                        <th id=\"T_94778212_6016_11ec_b0a4_0242ac1c0002level0_row4\" class=\"row_heading level0 row4\" >MaxHR</th>\n",
              "                        <td id=\"T_94778212_6016_11ec_b0a4_0242ac1c0002row4_col0\" class=\"data row4 col0\" >-0.382153</td>\n",
              "                        <td id=\"T_94778212_6016_11ec_b0a4_0242ac1c0002row4_col1\" class=\"data row4 col1\" >-0.109703</td>\n",
              "                        <td id=\"T_94778212_6016_11ec_b0a4_0242ac1c0002row4_col2\" class=\"data row4 col2\" >0.072451</td>\n",
              "                        <td id=\"T_94778212_6016_11ec_b0a4_0242ac1c0002row4_col3\" class=\"data row4 col3\" >0.000000</td>\n",
              "                        <td id=\"T_94778212_6016_11ec_b0a4_0242ac1c0002row4_col4\" class=\"data row4 col4\" >1.000000</td>\n",
              "                        <td id=\"T_94778212_6016_11ec_b0a4_0242ac1c0002row4_col5\" class=\"data row4 col5\" >-0.160881</td>\n",
              "                        <td id=\"T_94778212_6016_11ec_b0a4_0242ac1c0002row4_col6\" class=\"data row4 col6\" >-0.400346</td>\n",
              "            </tr>\n",
              "            <tr>\n",
              "                        <th id=\"T_94778212_6016_11ec_b0a4_0242ac1c0002level0_row5\" class=\"row_heading level0 row5\" >Oldpeak</th>\n",
              "                        <td id=\"T_94778212_6016_11ec_b0a4_0242ac1c0002row5_col0\" class=\"data row5 col0\" >0.258855</td>\n",
              "                        <td id=\"T_94778212_6016_11ec_b0a4_0242ac1c0002row5_col1\" class=\"data row5 col1\" >0.174093</td>\n",
              "                        <td id=\"T_94778212_6016_11ec_b0a4_0242ac1c0002row5_col2\" class=\"data row5 col2\" >0.059110</td>\n",
              "                        <td id=\"T_94778212_6016_11ec_b0a4_0242ac1c0002row5_col3\" class=\"data row5 col3\" >-0.000000</td>\n",
              "                        <td id=\"T_94778212_6016_11ec_b0a4_0242ac1c0002row5_col4\" class=\"data row5 col4\" >-0.160881</td>\n",
              "                        <td id=\"T_94778212_6016_11ec_b0a4_0242ac1c0002row5_col5\" class=\"data row5 col5\" >1.000000</td>\n",
              "                        <td id=\"T_94778212_6016_11ec_b0a4_0242ac1c0002row5_col6\" class=\"data row5 col6\" >0.404138</td>\n",
              "            </tr>\n",
              "            <tr>\n",
              "                        <th id=\"T_94778212_6016_11ec_b0a4_0242ac1c0002level0_row6\" class=\"row_heading level0 row6\" >HeartDisease</th>\n",
              "                        <td id=\"T_94778212_6016_11ec_b0a4_0242ac1c0002row6_col0\" class=\"data row6 col0\" >0.282039</td>\n",
              "                        <td id=\"T_94778212_6016_11ec_b0a4_0242ac1c0002row6_col1\" class=\"data row6 col1\" >0.118022</td>\n",
              "                        <td id=\"T_94778212_6016_11ec_b0a4_0242ac1c0002row6_col2\" class=\"data row6 col2\" >-0.011897</td>\n",
              "                        <td id=\"T_94778212_6016_11ec_b0a4_0242ac1c0002row6_col3\" class=\"data row6 col3\" >0.000000</td>\n",
              "                        <td id=\"T_94778212_6016_11ec_b0a4_0242ac1c0002row6_col4\" class=\"data row6 col4\" >-0.400346</td>\n",
              "                        <td id=\"T_94778212_6016_11ec_b0a4_0242ac1c0002row6_col5\" class=\"data row6 col5\" >0.404138</td>\n",
              "                        <td id=\"T_94778212_6016_11ec_b0a4_0242ac1c0002row6_col6\" class=\"data row6 col6\" >1.000000</td>\n",
              "            </tr>\n",
              "    </tbody></table>"
            ],
            "text/plain": [
              "<pandas.io.formats.style.Styler at 0x7fc216d3e510>"
            ]
          },
          "metadata": {},
          "execution_count": 127
        }
      ]
    },
    {
      "cell_type": "code",
      "source": [
        "# mapa de calor da matriz de correlação de todo o data frame \n",
        "sns.heatmap(corr, xticklabels=corr.columns, yticklabels=corr.columns, cmap='coolwarm', annot = True)"
      ],
      "metadata": {
        "colab": {
          "base_uri": "https://localhost:8080/",
          "height": 344
        },
        "id": "5EEI8pWiucbu",
        "outputId": "1141c60b-53ee-4845-d192-8df8585a8bf3"
      },
      "execution_count": 128,
      "outputs": [
        {
          "output_type": "execute_result",
          "data": {
            "text/plain": [
              "<matplotlib.axes._subplots.AxesSubplot at 0x7fc216bfbc50>"
            ]
          },
          "metadata": {},
          "execution_count": 128
        },
        {
          "output_type": "display_data",
          "data": {
            "image/png": "[encoded data removed]",
            "text/plain": [
              "<Figure size 432x288 with 2 Axes>"
            ]
          },
          "metadata": {
            "needs_background": "light"
          }
        }
      ]
    },
    {
      "cell_type": "markdown",
      "source": [
        "Análise de correlações consideráveis:\n",
        "\n",
        "**1**.   **CORRELAÇÃO APROXIMADAMENTE MÉDIA**\n",
        "\n",
        "*   HeartDisease com: Oldpeak/MaxHR\n",
        "*   MaxHR com: Age\n",
        "\n",
        "**2**.   **CORRELAÇÃO APROXIMADAMENTE FRACA**\n",
        "\n",
        "*   HeartDisease com: Age/RestingBP\n",
        "*   Oldpeak com: Age/RestingBP/MaxHR\n",
        "*   MaxHR com: RestingBP/Oldpeak\n",
        "*   RestingBP com: Age/HeartDisease/Oldpeak/MaxHR\n",
        "*   Age com: RestingBP/MaxHR/Oldpeak/HeartDisease\n",
        "\n",
        "\n",
        "\n",
        "\n",
        "\n",
        "\n",
        "\n",
        "\n"
      ],
      "metadata": {
        "id": "_WMtSm5GxgTH"
      }
    },
    {
      "cell_type": "markdown",
      "source": [
        "8. Supondo que ter uma frequência cardíaca alta dependa exlusivamente da idade (o que não é verdade, pois estamos tratando de um problema multicausal), ter uma frequência cardíaca máxima alta significa, na maioria dos casos, ter uma idade mais alta ou estar em um grupo social?   "
      ],
      "metadata": {
        "id": "JosxigwP466Q"
      }
    },
    {
      "cell_type": "code",
      "source": [
        "y = df1_norm.loc[:, ['Age', 'MaxHR']] # filtando duas colunas do data frame\n",
        "y"
      ],
      "metadata": {
        "colab": {
          "base_uri": "https://localhost:8080/",
          "height": 423
        },
        "id": "21J9Zihgp7WD",
        "outputId": "f90495aa-2efa-4fe4-9788-142089c2facb"
      },
      "execution_count": 129,
      "outputs": [
        {
          "output_type": "execute_result",
          "data": {
            "text/html": [
              "\n",
              "  <div id=\"df-6e3f0267-091e-49e1-9d98-ccf9acffa648\">\n",
              "    <div class=\"colab-df-container\">\n",
              "      <div>\n",
              "<style scoped>\n",
              "    .dataframe tbody tr th:only-of-type {\n",
              "        vertical-align: middle;\n",
              "    }\n",
              "\n",
              "    .dataframe tbody tr th {\n",
              "        vertical-align: top;\n",
              "    }\n",
              "\n",
              "    .dataframe thead th {\n",
              "        text-align: right;\n",
              "    }\n",
              "</style>\n",
              "<table border=\"1\" class=\"dataframe\">\n",
              "  <thead>\n",
              "    <tr style=\"text-align: right;\">\n",
              "      <th></th>\n",
              "      <th>Age</th>\n",
              "      <th>MaxHR</th>\n",
              "    </tr>\n",
              "  </thead>\n",
              "  <tbody>\n",
              "    <tr>\n",
              "      <th>0</th>\n",
              "      <td>40</td>\n",
              "      <td>0.789</td>\n",
              "    </tr>\n",
              "    <tr>\n",
              "      <th>1</th>\n",
              "      <td>49</td>\n",
              "      <td>0.676</td>\n",
              "    </tr>\n",
              "    <tr>\n",
              "      <th>2</th>\n",
              "      <td>37</td>\n",
              "      <td>0.268</td>\n",
              "    </tr>\n",
              "    <tr>\n",
              "      <th>3</th>\n",
              "      <td>48</td>\n",
              "      <td>0.338</td>\n",
              "    </tr>\n",
              "    <tr>\n",
              "      <th>4</th>\n",
              "      <td>54</td>\n",
              "      <td>0.437</td>\n",
              "    </tr>\n",
              "    <tr>\n",
              "      <th>...</th>\n",
              "      <td>...</td>\n",
              "      <td>...</td>\n",
              "    </tr>\n",
              "    <tr>\n",
              "      <th>913</th>\n",
              "      <td>45</td>\n",
              "      <td>0.507</td>\n",
              "    </tr>\n",
              "    <tr>\n",
              "      <th>914</th>\n",
              "      <td>68</td>\n",
              "      <td>0.570</td>\n",
              "    </tr>\n",
              "    <tr>\n",
              "      <th>915</th>\n",
              "      <td>57</td>\n",
              "      <td>0.387</td>\n",
              "    </tr>\n",
              "    <tr>\n",
              "      <th>916</th>\n",
              "      <td>57</td>\n",
              "      <td>0.803</td>\n",
              "    </tr>\n",
              "    <tr>\n",
              "      <th>917</th>\n",
              "      <td>38</td>\n",
              "      <td>0.796</td>\n",
              "    </tr>\n",
              "  </tbody>\n",
              "</table>\n",
              "<p>918 rows × 2 columns</p>\n",
              "</div>\n",
              "      <button class=\"colab-df-convert\" onclick=\"convertToInteractive('df-6e3f0267-091e-49e1-9d98-ccf9acffa648')\"\n",
              "              title=\"Convert this dataframe to an interactive table.\"\n",
              "              style=\"display:none;\">\n",
              "        \n",
              "  <svg xmlns=\"http://www.w3.org/2000/svg\" height=\"24px\"viewBox=\"0 0 24 24\"\n",
              "       width=\"24px\">\n",
              "    <path d=\"M0 0h24v24H0V0z\" fill=\"none\"/>\n",
              "    <path d=\"M18.56 5.44l.94 2.06.94-2.06 2.06-.94-2.06-.94-.94-2.06-.94 2.06-2.06.94zm-11 1L8.5 8.5l.94-2.06 2.06-.94-2.06-.94L8.5 2.5l-.94 2.06-2.06.94zm10 10l.94 2.06.94-2.06 2.06-.94-2.06-.94-.94-2.06-.94 2.06-2.06.94z\"/><path d=\"M17.41 7.96l-1.37-1.37c-.4-.4-.92-.59-1.43-.59-.52 0-1.04.2-1.43.59L10.3 9.45l-7.72 7.72c-.78.78-.78 2.05 0 2.83L4 21.41c.39.39.9.59 1.41.59.51 0 1.02-.2 1.41-.59l7.78-7.78 2.81-2.81c.8-.78.8-2.07 0-2.86zM5.41 20L4 18.59l7.72-7.72 1.47 1.35L5.41 20z\"/>\n",
              "  </svg>\n",
              "      </button>\n",
              "      \n",
              "  <style>\n",
              "    .colab-df-container {\n",
              "      display:flex;\n",
              "      flex-wrap:wrap;\n",
              "      gap: 12px;\n",
              "    }\n",
              "\n",
              "    .colab-df-convert {\n",
              "      background-color: #E8F0FE;\n",
              "      border: none;\n",
              "      border-radius: 50%;\n",
              "      cursor: pointer;\n",
              "      display: none;\n",
              "      fill: #1967D2;\n",
              "      height: 32px;\n",
              "      padding: 0 0 0 0;\n",
              "      width: 32px;\n",
              "    }\n",
              "\n",
              "    .colab-df-convert:hover {\n",
              "      background-color: #E2EBFA;\n",
              "      box-shadow: 0px 1px 2px rgba(60, 64, 67, 0.3), 0px 1px 3px 1px rgba(60, 64, 67, 0.15);\n",
              "      fill: #174EA6;\n",
              "    }\n",
              "\n",
              "    [theme=dark] .colab-df-convert {\n",
              "      background-color: #3B4455;\n",
              "      fill: #D2E3FC;\n",
              "    }\n",
              "\n",
              "    [theme=dark] .colab-df-convert:hover {\n",
              "      background-color: #434B5C;\n",
              "      box-shadow: 0px 1px 3px 1px rgba(0, 0, 0, 0.15);\n",
              "      filter: drop-shadow(0px 1px 2px rgba(0, 0, 0, 0.3));\n",
              "      fill: #FFFFFF;\n",
              "    }\n",
              "  </style>\n",
              "\n",
              "      <script>\n",
              "        const buttonEl =\n",
              "          document.querySelector('#df-6e3f0267-091e-49e1-9d98-ccf9acffa648 button.colab-df-convert');\n",
              "        buttonEl.style.display =\n",
              "          google.colab.kernel.accessAllowed ? 'block' : 'none';\n",
              "\n",
              "        async function convertToInteractive(key) {\n",
              "          const element = document.querySelector('#df-6e3f0267-091e-49e1-9d98-ccf9acffa648');\n",
              "          const dataTable =\n",
              "            await google.colab.kernel.invokeFunction('convertToInteractive',\n",
              "                                                     [key], {});\n",
              "          if (!dataTable) return;\n",
              "\n",
              "          const docLinkHtml = 'Like what you see? Visit the ' +\n",
              "            '<a target=\"_blank\" href=https://colab.research.google.com/notebooks/data_table.ipynb>data table notebook</a>'\n",
              "            + ' to learn more about interactive tables.';\n",
              "          element.innerHTML = '';\n",
              "          dataTable['output_type'] = 'display_data';\n",
              "          await google.colab.output.renderOutput(dataTable, element);\n",
              "          const docLink = document.createElement('div');\n",
              "          docLink.innerHTML = docLinkHtml;\n",
              "          element.appendChild(docLink);\n",
              "        }\n",
              "      </script>\n",
              "    </div>\n",
              "  </div>\n",
              "  "
            ],
            "text/plain": [
              "     Age  MaxHR\n",
              "0     40  0.789\n",
              "1     49  0.676\n",
              "2     37  0.268\n",
              "3     48  0.338\n",
              "4     54  0.437\n",
              "..   ...    ...\n",
              "913   45  0.507\n",
              "914   68  0.570\n",
              "915   57  0.387\n",
              "916   57  0.803\n",
              "917   38  0.796\n",
              "\n",
              "[918 rows x 2 columns]"
            ]
          },
          "metadata": {},
          "execution_count": 129
        }
      ]
    },
    {
      "cell_type": "code",
      "source": [
        "fig, ax = plt.subplots(figsize=(10,4)) # ajustando a largura e comprimento do gráfico\n",
        "\n",
        "sns.barplot(x = 'Age', y = 'MaxHR', data = y, ax=ax) # gráfico de barra\n",
        "\n",
        "fig.tight_layout() # ajustando o layout"
      ],
      "metadata": {
        "colab": {
          "base_uri": "https://localhost:8080/",
          "height": 297
        },
        "id": "wddUF5lsruGT",
        "outputId": "79cb527e-35d6-4505-ff98-572f0d8309aa"
      },
      "execution_count": 130,
      "outputs": [
        {
          "output_type": "display_data",
          "data": {
            "image/png": "[encoded data removed]",
            "text/plain": [
              "<Figure size 720x288 with 1 Axes>"
            ]
          },
          "metadata": {
            "needs_background": "light"
          }
        }
      ]
    },
    {
      "cell_type": "markdown",
      "source": [
        "Logo, considerando a idade como único fator para ter uma frequência cardíaca alta, a idade3 (50 a 60 anos), com 406 ocorrências, é a faixa de idade que tende ter uma frequência cardíaca mais alta. E a que idade5 (maior que 71 anos) é a faixa de idade que tende a ter menos. \n",
        "\n",
        "Entretanto, esse resultado para a menor faixa de idade é duvidoso. "
      ],
      "metadata": {
        "id": "ulAawfpNuapr"
      }
    },
    {
      "cell_type": "markdown",
      "source": [
        "9. Qual faixa de idade (com intevalo de 10 anos) foi a mais entrevistada? "
      ],
      "metadata": {
        "id": "vE4hOOcWuyx1"
      }
    },
    {
      "cell_type": "code",
      "source": [
        "age_mhr = df1_norm.loc[:, ['Age']] # filtrando uma coluna do data frame \n",
        "age_mhr"
      ],
      "metadata": {
        "colab": {
          "base_uri": "https://localhost:8080/",
          "height": 423
        },
        "id": "M3qx_nfhv4ah",
        "outputId": "540d9800-b014-4908-9a99-ae9aced55d33"
      },
      "execution_count": 131,
      "outputs": [
        {
          "output_type": "execute_result",
          "data": {
            "text/html": [
              "\n",
              "  <div id=\"df-b3d3f9f8-ee13-4d50-be7d-e3cb2057e070\">\n",
              "    <div class=\"colab-df-container\">\n",
              "      <div>\n",
              "<style scoped>\n",
              "    .dataframe tbody tr th:only-of-type {\n",
              "        vertical-align: middle;\n",
              "    }\n",
              "\n",
              "    .dataframe tbody tr th {\n",
              "        vertical-align: top;\n",
              "    }\n",
              "\n",
              "    .dataframe thead th {\n",
              "        text-align: right;\n",
              "    }\n",
              "</style>\n",
              "<table border=\"1\" class=\"dataframe\">\n",
              "  <thead>\n",
              "    <tr style=\"text-align: right;\">\n",
              "      <th></th>\n",
              "      <th>Age</th>\n",
              "    </tr>\n",
              "  </thead>\n",
              "  <tbody>\n",
              "    <tr>\n",
              "      <th>0</th>\n",
              "      <td>40</td>\n",
              "    </tr>\n",
              "    <tr>\n",
              "      <th>1</th>\n",
              "      <td>49</td>\n",
              "    </tr>\n",
              "    <tr>\n",
              "      <th>2</th>\n",
              "      <td>37</td>\n",
              "    </tr>\n",
              "    <tr>\n",
              "      <th>3</th>\n",
              "      <td>48</td>\n",
              "    </tr>\n",
              "    <tr>\n",
              "      <th>4</th>\n",
              "      <td>54</td>\n",
              "    </tr>\n",
              "    <tr>\n",
              "      <th>...</th>\n",
              "      <td>...</td>\n",
              "    </tr>\n",
              "    <tr>\n",
              "      <th>913</th>\n",
              "      <td>45</td>\n",
              "    </tr>\n",
              "    <tr>\n",
              "      <th>914</th>\n",
              "      <td>68</td>\n",
              "    </tr>\n",
              "    <tr>\n",
              "      <th>915</th>\n",
              "      <td>57</td>\n",
              "    </tr>\n",
              "    <tr>\n",
              "      <th>916</th>\n",
              "      <td>57</td>\n",
              "    </tr>\n",
              "    <tr>\n",
              "      <th>917</th>\n",
              "      <td>38</td>\n",
              "    </tr>\n",
              "  </tbody>\n",
              "</table>\n",
              "<p>918 rows × 1 columns</p>\n",
              "</div>\n",
              "      <button class=\"colab-df-convert\" onclick=\"convertToInteractive('df-b3d3f9f8-ee13-4d50-be7d-e3cb2057e070')\"\n",
              "              title=\"Convert this dataframe to an interactive table.\"\n",
              "              style=\"display:none;\">\n",
              "        \n",
              "  <svg xmlns=\"http://www.w3.org/2000/svg\" height=\"24px\"viewBox=\"0 0 24 24\"\n",
              "       width=\"24px\">\n",
              "    <path d=\"M0 0h24v24H0V0z\" fill=\"none\"/>\n",
              "    <path d=\"M18.56 5.44l.94 2.06.94-2.06 2.06-.94-2.06-.94-.94-2.06-.94 2.06-2.06.94zm-11 1L8.5 8.5l.94-2.06 2.06-.94-2.06-.94L8.5 2.5l-.94 2.06-2.06.94zm10 10l.94 2.06.94-2.06 2.06-.94-2.06-.94-.94-2.06-.94 2.06-2.06.94z\"/><path d=\"M17.41 7.96l-1.37-1.37c-.4-.4-.92-.59-1.43-.59-.52 0-1.04.2-1.43.59L10.3 9.45l-7.72 7.72c-.78.78-.78 2.05 0 2.83L4 21.41c.39.39.9.59 1.41.59.51 0 1.02-.2 1.41-.59l7.78-7.78 2.81-2.81c.8-.78.8-2.07 0-2.86zM5.41 20L4 18.59l7.72-7.72 1.47 1.35L5.41 20z\"/>\n",
              "  </svg>\n",
              "      </button>\n",
              "      \n",
              "  <style>\n",
              "    .colab-df-container {\n",
              "      display:flex;\n",
              "      flex-wrap:wrap;\n",
              "      gap: 12px;\n",
              "    }\n",
              "\n",
              "    .colab-df-convert {\n",
              "      background-color: #E8F0FE;\n",
              "      border: none;\n",
              "      border-radius: 50%;\n",
              "      cursor: pointer;\n",
              "      display: none;\n",
              "      fill: #1967D2;\n",
              "      height: 32px;\n",
              "      padding: 0 0 0 0;\n",
              "      width: 32px;\n",
              "    }\n",
              "\n",
              "    .colab-df-convert:hover {\n",
              "      background-color: #E2EBFA;\n",
              "      box-shadow: 0px 1px 2px rgba(60, 64, 67, 0.3), 0px 1px 3px 1px rgba(60, 64, 67, 0.15);\n",
              "      fill: #174EA6;\n",
              "    }\n",
              "\n",
              "    [theme=dark] .colab-df-convert {\n",
              "      background-color: #3B4455;\n",
              "      fill: #D2E3FC;\n",
              "    }\n",
              "\n",
              "    [theme=dark] .colab-df-convert:hover {\n",
              "      background-color: #434B5C;\n",
              "      box-shadow: 0px 1px 3px 1px rgba(0, 0, 0, 0.15);\n",
              "      filter: drop-shadow(0px 1px 2px rgba(0, 0, 0, 0.3));\n",
              "      fill: #FFFFFF;\n",
              "    }\n",
              "  </style>\n",
              "\n",
              "      <script>\n",
              "        const buttonEl =\n",
              "          document.querySelector('#df-b3d3f9f8-ee13-4d50-be7d-e3cb2057e070 button.colab-df-convert');\n",
              "        buttonEl.style.display =\n",
              "          google.colab.kernel.accessAllowed ? 'block' : 'none';\n",
              "\n",
              "        async function convertToInteractive(key) {\n",
              "          const element = document.querySelector('#df-b3d3f9f8-ee13-4d50-be7d-e3cb2057e070');\n",
              "          const dataTable =\n",
              "            await google.colab.kernel.invokeFunction('convertToInteractive',\n",
              "                                                     [key], {});\n",
              "          if (!dataTable) return;\n",
              "\n",
              "          const docLinkHtml = 'Like what you see? Visit the ' +\n",
              "            '<a target=\"_blank\" href=https://colab.research.google.com/notebooks/data_table.ipynb>data table notebook</a>'\n",
              "            + ' to learn more about interactive tables.';\n",
              "          element.innerHTML = '';\n",
              "          dataTable['output_type'] = 'display_data';\n",
              "          await google.colab.output.renderOutput(dataTable, element);\n",
              "          const docLink = document.createElement('div');\n",
              "          docLink.innerHTML = docLinkHtml;\n",
              "          element.appendChild(docLink);\n",
              "        }\n",
              "      </script>\n",
              "    </div>\n",
              "  </div>\n",
              "  "
            ],
            "text/plain": [
              "     Age\n",
              "0     40\n",
              "1     49\n",
              "2     37\n",
              "3     48\n",
              "4     54\n",
              "..   ...\n",
              "913   45\n",
              "914   68\n",
              "915   57\n",
              "916   57\n",
              "917   38\n",
              "\n",
              "[918 rows x 1 columns]"
            ]
          },
          "metadata": {},
          "execution_count": 131
        }
      ]
    },
    {
      "cell_type": "code",
      "source": [
        "age_mhr['Age'].nsmallest(1) # verificando a menor idade do data frame"
      ],
      "metadata": {
        "colab": {
          "base_uri": "https://localhost:8080/"
        },
        "id": "86XwEyT3lDF7",
        "outputId": "821a174d-9015-454b-833e-6c95f4f5ea35"
      },
      "execution_count": 132,
      "outputs": [
        {
          "output_type": "execute_result",
          "data": {
            "text/plain": [
              "208    28\n",
              "Name: Age, dtype: int64"
            ]
          },
          "metadata": {},
          "execution_count": 132
        }
      ]
    },
    {
      "cell_type": "code",
      "source": [
        "age_mhr['Age'].nlargest(1) # verificando a maior idade do data frame"
      ],
      "metadata": {
        "colab": {
          "base_uri": "https://localhost:8080/"
        },
        "id": "58WRyu-GliQD",
        "outputId": "50f4fe83-ccd3-4be8-8b6f-c4af3ed8268d"
      },
      "execution_count": 133,
      "outputs": [
        {
          "output_type": "execute_result",
          "data": {
            "text/plain": [
              "447    77\n",
              "Name: Age, dtype: int64"
            ]
          },
          "metadata": {},
          "execution_count": 133
        }
      ]
    },
    {
      "cell_type": "markdown",
      "source": [
        "Faixas etárias:\n",
        "\n",
        "* idade 1 (20 a 38 anos)\n",
        "* idade 2 (39 a 49 anos)\n",
        "* idade 3 (50 a 60 anos)\n",
        "* idade 4 (61 até 71 anos) \n",
        "* idade 5 (maior 71)"
      ],
      "metadata": {
        "id": "luZ25Dc485WX"
      }
    },
    {
      "cell_type": "code",
      "source": [
        "# variáveis de contagem para a faixa de idade\n",
        "idade1 = 0\n",
        "idade2 = 0\n",
        "idade3 = 0 \n",
        "idade4 = 0 \n",
        "idade5 = 0\n",
        "\n",
        "# convertendo uma coluna do data frame em lista e \n",
        "# salvando essa lista em uma variável\n",
        "age_mhr = age_mhr['Age'].tolist()"
      ],
      "metadata": {
        "id": "S2FU2sL88WiX"
      },
      "execution_count": 134,
      "outputs": []
    },
    {
      "cell_type": "code",
      "source": [
        "# transformando todos os elementos da lista de 'str' para 'int'\n",
        "# por meio da função map()\n",
        "age_mhr = list(map(int, age_mhr))\n",
        "\n",
        "type(age_mhr[1]) # verificando o tipo int convertido"
      ],
      "metadata": {
        "colab": {
          "base_uri": "https://localhost:8080/"
        },
        "id": "h6JjzFYWhfRt",
        "outputId": "daf4e79c-eac6-4656-bbb6-9025bd1f7108"
      },
      "execution_count": 135,
      "outputs": [
        {
          "output_type": "execute_result",
          "data": {
            "text/plain": [
              "int"
            ]
          },
          "metadata": {},
          "execution_count": 135
        }
      ]
    },
    {
      "cell_type": "code",
      "source": [
        "# loop que realiza a contagem de indíviduos por faixa de idade\n",
        "\n",
        "for i in range(len(age_mhr)):\n",
        "  # idade 1\n",
        "  if (age_mhr[i] >= 20 and age_mhr[i] <= 38):\n",
        "    idade1 = idade1 + 1  \n",
        "\n",
        "  # idade 2\n",
        "  elif (age_mhr[i] >= 39 and age_mhr[i] <= 49):\n",
        "    idade2 = idade2 + 1  \n",
        "\n",
        "  # idade 3\n",
        "  elif (age_mhr[i] >= 50 and age_mhr[i] <= 60):\n",
        "    idade3 = idade3 + 1  \n",
        "\n",
        "  # idade 4\n",
        "  elif (age_mhr[i] >= 61 and age_mhr[i] <= 71):\n",
        "    idade4 = idade4 + 1  \n",
        "\n",
        "  # idade 5\n",
        "  elif (age_mhr[i] > 71):\n",
        "    idade5 = idade5 + 1  \n"
      ],
      "metadata": {
        "id": "mCIXJkifgfHM"
      },
      "execution_count": 136,
      "outputs": []
    },
    {
      "cell_type": "code",
      "source": [
        "print(idade1, idade2, idade3, idade4, idade5) # verificando o número de indivíduos por faixa de idade"
      ],
      "metadata": {
        "colab": {
          "base_uri": "https://localhost:8080/"
        },
        "id": "XtfGEiJ2i6NS",
        "outputId": "c7b2819b-3ea9-4b72-e750-8fb362114619"
      },
      "execution_count": 137,
      "outputs": [
        {
          "output_type": "stream",
          "name": "stdout",
          "text": [
            "65 226 406 202 19\n"
          ]
        }
      ]
    },
    {
      "cell_type": "markdown",
      "source": [
        "A faixa de etária (idade3 -> de 50 a 60 anos) foi a mais entrevistada. Para a obtenção de um resultado mais assertivo, quanto maior a quantidade de amostras, maior a precisão em conclusões. Então, faixas etárias com menos amostras podem gerar resultados tendenciosos e pouco assertivos. "
      ],
      "metadata": {
        "id": "xPaYqgWjqKfj"
      }
    }
  ]
}
